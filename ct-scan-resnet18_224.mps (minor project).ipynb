{
 "cells": [
  {
   "cell_type": "code",
   "execution_count": 1,
   "metadata": {},
   "outputs": [
    {
     "name": "stderr",
     "output_type": "stream",
     "text": [
      "/var/folders/6z/rg8zyzbx1kb_3t3p2f86z5080000gn/T/ipykernel_3430/1825066692.py:9: TqdmExperimentalWarning: Using `tqdm.autonotebook.tqdm` in notebook mode. Use `tqdm.tqdm` instead to force console mode (e.g. in jupyter console)\n",
      "  from tqdm.autonotebook import tqdm, trange\n"
     ]
    }
   ],
   "source": [
    "## import libraries\n",
    "import os\n",
    "import shutil\n",
    "import numpy as np\n",
    "import pandas as pd\n",
    "import splitfolders\n",
    "from glob import glob\n",
    "# from tqdm import tqdm, trange\n",
    "from tqdm.autonotebook import tqdm, trange\n",
    "from numba import njit, jit\n",
    "from natsort import natsorted\n",
    "\n",
    "import matplotlib.pyplot as plt\n",
    "\n",
    "#PIL\n",
    "from PIL import Image, ImageOps\n",
    "\n",
    "#random\n",
    "from random import sample\n",
    "\n",
    "#open cv\n",
    "import cv2\n",
    "\n",
    "#sklearn\n",
    "from sklearn.metrics import accuracy_score, precision_recall_fscore_support, roc_auc_score, confusion_matrix\n",
    "from sklearn.model_selection import StratifiedKFold, train_test_split, KFold\n",
    "from sklearn.preprocessing import LabelBinarizer\n",
    "\n",
    "#scipy\n",
    "from scipy import stats #ensemble\n",
    "\n",
    "#pytorch\n",
    "import torch\n",
    "from torch.utils.data import Dataset, Subset\n",
    "import torch.nn as nn\n",
    "from torchvision import transforms, datasets\n",
    "from torch.utils.data import DataLoader\n",
    "\n",
    "#timm\n",
    "import timm\n",
    "import timm.optim\n",
    "import timm.scheduler\n",
    "from timm.data import ImageDataset, create_dataset, create_loader\n",
    "from timm.data.transforms_factory import create_transform\n",
    "\n",
    "import evaluate\n",
    "\n",
    "import time\n",
    "\n",
    "import warnings\n",
    "warnings.filterwarnings('ignore')"
   ]
  },
  {
   "cell_type": "code",
   "execution_count": 2,
   "metadata": {},
   "outputs": [],
   "source": [
    "## Setup Apple Silicon or CUDA for enhanced training\n",
    "\n",
    "if torch.backends.mps.is_available():\n",
    "    device = \"mps\"\n",
    "elif torch.cuda.is_available():\n",
    "    device = \"cuda\"\n",
    "else:\n",
    "    device = \"cpu\"\n",
    "\n",
    "device = \"cpu\""
   ]
  },
  {
   "cell_type": "code",
   "execution_count": 3,
   "metadata": {},
   "outputs": [
    {
     "data": {
      "application/vnd.jupyter.widget-view+json": {
       "model_id": "fb8aa92d8035469dbc4da227ff2fa533",
       "version_major": 2,
       "version_minor": 0
      },
      "text/plain": [
       "  0%|          | 0/6 [00:00<?, ?it/s]"
      ]
     },
     "metadata": {},
     "output_type": "display_data"
    },
    {
     "data": {
      "application/vnd.jupyter.widget-view+json": {
       "model_id": "6f57cf141e00484284ba30d90cb06c3a",
       "version_major": 2,
       "version_minor": 0
      },
      "text/plain": [
       "  0%|          | 0/3 [00:00<?, ?it/s]"
      ]
     },
     "metadata": {},
     "output_type": "display_data"
    },
    {
     "data": {
      "application/vnd.jupyter.widget-view+json": {
       "model_id": "c85663b4102642fcaf335a5873941cc4",
       "version_major": 2,
       "version_minor": 0
      },
      "text/plain": [
       "  0%|          | 0/210 [00:00<?, ?it/s]"
      ]
     },
     "metadata": {},
     "output_type": "display_data"
    },
    {
     "data": {
      "application/vnd.jupyter.widget-view+json": {
       "model_id": "4af41c7800de4038aa916c22566ca700",
       "version_major": 2,
       "version_minor": 0
      },
      "text/plain": [
       "  0%|          | 0/437 [00:00<?, ?it/s]"
      ]
     },
     "metadata": {},
     "output_type": "display_data"
    },
    {
     "data": {
      "application/vnd.jupyter.widget-view+json": {
       "model_id": "ace5cca208c148869dd0ce8e36ffbc57",
       "version_major": 2,
       "version_minor": 0
      },
      "text/plain": [
       "  0%|          | 0/3 [00:00<?, ?it/s]"
      ]
     },
     "metadata": {},
     "output_type": "display_data"
    },
    {
     "data": {
      "application/vnd.jupyter.widget-view+json": {
       "model_id": "04394dbd99fa4df485039d9b41ec76ce",
       "version_major": 2,
       "version_minor": 0
      },
      "text/plain": [
       "  0%|          | 0/133 [00:00<?, ?it/s]"
      ]
     },
     "metadata": {},
     "output_type": "display_data"
    }
   ],
   "source": [
    "## delete all \"mask\" images from the Data folder\n",
    "\n",
    "data_dir = \"./Dataset_BUSI_with_GT\"\n",
    "\n",
    "for class_dir in tqdm(os.listdir(data_dir)):\n",
    "    class_path = os.path.join(data_dir, class_dir)\n",
    "\n",
    "    if os.path.isdir(class_path): \n",
    "        for filename in tqdm(os.listdir(class_path)):\n",
    "            file_path = os.path.join(class_path, filename)\n",
    "\n",
    "            if os.path.isfile(file_path) and \"mask\" in filename:\n",
    "                os.remove(file_path)\n",
    "                #print(f\"Deleted: {file_path}\")"
   ]
  },
  {
   "cell_type": "code",
   "execution_count": 4,
   "metadata": {},
   "outputs": [
    {
     "data": {
      "application/vnd.jupyter.widget-view+json": {
       "model_id": "ba732b9d34aa49728b9a415893861282",
       "version_major": 2,
       "version_minor": 0
      },
      "text/plain": [
       "  0%|          | 0/4 [00:00<?, ?it/s]"
      ]
     },
     "metadata": {},
     "output_type": "display_data"
    },
    {
     "name": "stdout",
     "output_type": "stream",
     "text": [
      ".DS_Store\n",
      "malignant\n"
     ]
    },
    {
     "data": {
      "application/vnd.jupyter.widget-view+json": {
       "model_id": "faca195e120c435a800ed4d7bd5fc136",
       "version_major": 2,
       "version_minor": 0
      },
      "text/plain": [
       "  0%|          | 0/168 [00:00<?, ?it/s]"
      ]
     },
     "metadata": {},
     "output_type": "display_data"
    },
    {
     "data": {
      "application/vnd.jupyter.widget-view+json": {
       "model_id": "72f0bec737e244c5b40d801808b13b51",
       "version_major": 2,
       "version_minor": 0
      },
      "text/plain": [
       "  0%|          | 0/42 [00:00<?, ?it/s]"
      ]
     },
     "metadata": {},
     "output_type": "display_data"
    },
    {
     "name": "stdout",
     "output_type": "stream",
     "text": [
      "benign\n"
     ]
    },
    {
     "data": {
      "application/vnd.jupyter.widget-view+json": {
       "model_id": "d878b5f344eb4b1e90b462adec94ab92",
       "version_major": 2,
       "version_minor": 0
      },
      "text/plain": [
       "  0%|          | 0/349 [00:00<?, ?it/s]"
      ]
     },
     "metadata": {},
     "output_type": "display_data"
    },
    {
     "data": {
      "application/vnd.jupyter.widget-view+json": {
       "model_id": "f5c8d5d6994247aab6743c788f4394f0",
       "version_major": 2,
       "version_minor": 0
      },
      "text/plain": [
       "  0%|          | 0/88 [00:00<?, ?it/s]"
      ]
     },
     "metadata": {},
     "output_type": "display_data"
    },
    {
     "name": "stdout",
     "output_type": "stream",
     "text": [
      "normal\n"
     ]
    },
    {
     "data": {
      "application/vnd.jupyter.widget-view+json": {
       "model_id": "e2567fa3e3c240ca89ea7a89a5426f18",
       "version_major": 2,
       "version_minor": 0
      },
      "text/plain": [
       "  0%|          | 0/106 [00:00<?, ?it/s]"
      ]
     },
     "metadata": {},
     "output_type": "display_data"
    },
    {
     "data": {
      "application/vnd.jupyter.widget-view+json": {
       "model_id": "68993ae421204ab7a7268358879456e0",
       "version_major": 2,
       "version_minor": 0
      },
      "text/plain": [
       "  0%|          | 0/27 [00:00<?, ?it/s]"
      ]
     },
     "metadata": {},
     "output_type": "display_data"
    }
   ],
   "source": [
    "## creta a separate test directory within the root data directory for testing images\n",
    "\n",
    "if os.path.isdir(os.path.join(data_dir, \"Test\")) :shutil.rmtree(os.path.join(data_dir, \"Test\"))\n",
    "if os.path.isdir(os.path.join(data_dir, \"Train\")) :shutil.rmtree(os.path.join(data_dir, \"Train\"))\n",
    "\n",
    "for class_dir in tqdm(os.listdir(data_dir)):\n",
    "    class_path = os.path.join(data_dir, class_dir)\n",
    "    print(class_dir)\n",
    "    if os.path.isdir(class_path):\n",
    "        image_files = [f for f in os.listdir(class_path) if f.endswith(\".png\")]\n",
    "        #print(image_files.append(\"1\"))\n",
    "        # split the images into train and test data\n",
    "        train_images, test_images = train_test_split(image_files, test_size=0.2)\n",
    "\n",
    "        train_class_path = os.path.join(data_dir, \"Train\", class_dir)\n",
    "        test_class_path = os.path.join(data_dir, \"Test\", class_dir)\n",
    "        os.makedirs(train_class_path, exist_ok=True)\n",
    "        os.makedirs(test_class_path, exist_ok=True)\n",
    "\n",
    "        for train_image in tqdm(train_images):\n",
    "            source_path = os.path.join(class_path, train_image)\n",
    "            dest_path = os.path.join(train_class_path, train_image)\n",
    "            shutil.copy(source_path, dest_path)\n",
    "\n",
    "        for test_image in tqdm(test_images):\n",
    "            source_path = os.path.join(class_path, test_image)\n",
    "            dest_path = os.path.join(test_class_path, test_image)\n",
    "            shutil.copy(source_path, dest_path)\n"
   ]
  },
  {
   "cell_type": "code",
   "execution_count": 5,
   "metadata": {},
   "outputs": [
    {
     "data": {
      "image/png": "[encoded data removed]",
      "text/plain": [
       "<PIL.Image.Image image mode=RGB size=792x571>"
      ]
     },
     "execution_count": 5,
     "metadata": {},
     "output_type": "execute_result"
    }
   ],
   "source": [
    "## verify the dataset by opeing one image\n",
    "\n",
    "paths = glob(f\"./{data_dir}/Train/**/**\")\n",
    "\n",
    "Image.open(paths[0]).convert(\"RGB\")"
   ]
  },
  {
   "cell_type": "code",
   "execution_count": 6,
   "metadata": {},
   "outputs": [],
   "source": [
    "## defining image tranformations\n",
    "\n",
    "img_size_train = 224\n",
    "img_size_test = 288\n",
    "\n",
    "transform = {\n",
    "    \"train\": transforms.Compose([\n",
    "        transforms.Resize(size=(img_size_train, img_size_train), interpolation=transforms.InterpolationMode.BICUBIC),\n",
    "        transforms.ToTensor()\n",
    "    ]),\n",
    "    \"test\": transforms.Compose([\n",
    "        transforms.Resize(size=(img_size_test, img_size_test), interpolation=transforms.InterpolationMode.BICUBIC),\n",
    "        transforms.ToTensor()\n",
    "    ])\n",
    "}"
   ]
  },
  {
   "cell_type": "code",
   "execution_count": 7,
   "metadata": {},
   "outputs": [
    {
     "name": "stdout",
     "output_type": "stream",
     "text": [
      "./Dataset_BUSI_with_GT/Train\n"
     ]
    },
    {
     "data": {
      "text/plain": [
       "['benign', 'malignant', 'normal']"
      ]
     },
     "execution_count": 7,
     "metadata": {},
     "output_type": "execute_result"
    }
   ],
   "source": [
    "## preparing the data\n",
    "\n",
    "train_path = os.path.join(data_dir, \"Train\")\n",
    "print(train_path)\n",
    "dataset = ImageDataset(train_path, transform=transform[\"train\"])\n",
    "id2label = natsorted(os.listdir(train_path))\n",
    "id2label"
   ]
  },
  {
   "cell_type": "code",
   "execution_count": 8,
   "metadata": {},
   "outputs": [
    {
     "data": {
      "text/plain": [
       "['benign',\n",
       " 'benign',\n",
       " 'benign',\n",
       " 'benign',\n",
       " 'benign',\n",
       " 'benign',\n",
       " 'benign',\n",
       " 'benign',\n",
       " 'benign',\n",
       " 'benign']"
      ]
     },
     "execution_count": 8,
     "metadata": {},
     "output_type": "execute_result"
    }
   ],
   "source": [
    "y = glob(f'./{data_dir}/Train/**/**')\n",
    "y = natsorted(y)\n",
    "y = [os.path.basename(os.path.dirname(i)) for i in y]\n",
    "\n",
    "y[:10]"
   ]
  },
  {
   "cell_type": "code",
   "execution_count": 9,
   "metadata": {},
   "outputs": [
    {
     "data": {
      "text/plain": [
       "(623, 623)"
      ]
     },
     "execution_count": 9,
     "metadata": {},
     "output_type": "execute_result"
    }
   ],
   "source": [
    "## Check data count\n",
    "len(paths), len(y)"
   ]
  },
  {
   "cell_type": "code",
   "execution_count": 10,
   "metadata": {},
   "outputs": [
    {
     "name": "stdout",
     "output_type": "stream",
     "text": [
      "3\n"
     ]
    }
   ],
   "source": [
    "## Training parameters\n",
    "\n",
    "model_name = 'resnet18'\n",
    "\n",
    "num_epochs = 15\n",
    "criterion = nn.CrossEntropyLoss().to(device)\n",
    "\n",
    "train_batch_size = 4\n",
    "eval_batch_size = 4\n",
    "num_accumulate = 4\n",
    "num_classes = len(id2label)\n",
    "print(num_classes)\n",
    "\n",
    "## Cross validarion configuration\n",
    "k_splits = 5\n",
    "metric = evaluate.load(\"f1\", additional_keys=[\"accuracy\", \"precision\", \"recall\", \"support\"])"
   ]
  },
  {
   "cell_type": "code",
   "execution_count": 11,
   "metadata": {},
   "outputs": [
    {
     "data": {
      "application/vnd.jupyter.widget-view+json": {
       "model_id": "bf6a467ce0be4186923259425f9e583c",
       "version_major": 2,
       "version_minor": 0
      },
      "text/plain": [
       "0it [00:00, ?it/s]"
      ]
     },
     "metadata": {},
     "output_type": "display_data"
    },
    {
     "name": "stdout",
     "output_type": "stream",
     "text": [
      "\n",
      "Fold: 1 / 5\n"
     ]
    },
    {
     "data": {
      "application/vnd.jupyter.widget-view+json": {
       "model_id": "affa29076f0941638388c819a13950d8",
       "version_major": 2,
       "version_minor": 0
      },
      "text/plain": [
       "  0%|          | 0/125 [00:00<?, ?it/s]"
      ]
     },
     "metadata": {},
     "output_type": "display_data"
    },
    {
     "data": {
      "application/vnd.jupyter.widget-view+json": {
       "model_id": "e0645a0c81454ff7af8112023c6ab695",
       "version_major": 2,
       "version_minor": 0
      },
      "text/plain": [
       "  0%|          | 0/32 [00:00<?, ?it/s]"
      ]
     },
     "metadata": {},
     "output_type": "display_data"
    },
    {
     "name": "stdout",
     "output_type": "stream",
     "text": [
      "\n",
      "New Best Score!\n",
      "{'metric_train': {'f1': [0.3164336826751014], 'accuracy': [0.5682730923694779], 'precision': [0.46445153952901164], 'recall': [0.36295824273110516], 'auc_roc': [0.5238567086932212]}, 'metric_val': {'f1': [0.3455926789260122], 'accuracy': [0.6], 'precision': [0.796078431372549], 'recall': [0.388422035480859], 'auc_roc': [0.5438946674240791]}, 'train_loss': [0.9673131923675538], 'val_loss': [0.8145188670605421], 'best_metric_val': 0.3455926789260122, 'confusion_matrix': [[70, 0, 0], [30, 4, 0], [19, 1, 1]]}\n",
      "Fold: 0 | Epoch: 0 | Metric: 0.3455926789260122 | Training Loss: 0.9673131923675538 | Validation Loss: 0.8145188670605421\n",
      "\n"
     ]
    },
    {
     "data": {
      "application/vnd.jupyter.widget-view+json": {
       "model_id": "dc753a8cc36041f8a1276008010b9d72",
       "version_major": 2,
       "version_minor": 0
      },
      "text/plain": [
       "  0%|          | 0/125 [00:00<?, ?it/s]"
      ]
     },
     "metadata": {},
     "output_type": "display_data"
    },
    {
     "data": {
      "application/vnd.jupyter.widget-view+json": {
       "model_id": "06e59ca70b6947aab320edf911cc8958",
       "version_major": 2,
       "version_minor": 0
      },
      "text/plain": [
       "  0%|          | 0/32 [00:00<?, ?it/s]"
      ]
     },
     "metadata": {},
     "output_type": "display_data"
    },
    {
     "name": "stdout",
     "output_type": "stream",
     "text": [
      "\n",
      "New Best Score!\n",
      "{'metric_train': {'f1': [0.3164336826751014, 0.5449977892506628], 'accuracy': [0.5682730923694779, 0.6726907630522089], 'precision': [0.46445153952901164, 0.7637459263358544], 'recall': [0.36295824273110516, 0.5171131481533928], 'auc_roc': [0.5238567086932212, 0.6392725579096991]}, 'metric_val': {'f1': [0.3455926789260122, 0.7475204534028063], 'accuracy': [0.6, 0.776], 'precision': [0.796078431372549, 0.7604828841734563], 'recall': [0.388422035480859, 0.7374416433239963], 'auc_roc': [0.5438946674240791, 0.8006014410426175]}, 'train_loss': [0.9673131923675538, 0.7022002935409546], 'val_loss': [0.8145188670605421, 0.6053672381676733], 'best_metric_val': 0.7475204534028063, 'confusion_matrix': [[58, 7, 5], [8, 26, 0], [7, 1, 13]]}\n",
      "Fold: 0 | Epoch: 1 | Metric: 0.7475204534028063 | Training Loss: 0.7022002935409546 | Validation Loss: 0.6053672381676733\n",
      "\n"
     ]
    },
    {
     "data": {
      "application/vnd.jupyter.widget-view+json": {
       "model_id": "2e1f17664d124fac881037228b53f6d7",
       "version_major": 2,
       "version_minor": 0
      },
      "text/plain": [
       "  0%|          | 0/125 [00:00<?, ?it/s]"
      ]
     },
     "metadata": {},
     "output_type": "display_data"
    },
    {
     "data": {
      "application/vnd.jupyter.widget-view+json": {
       "model_id": "542ccff9f159400faaa3ffe47ce891da",
       "version_major": 2,
       "version_minor": 0
      },
      "text/plain": [
       "  0%|          | 0/32 [00:00<?, ?it/s]"
      ]
     },
     "metadata": {},
     "output_type": "display_data"
    },
    {
     "name": "stdout",
     "output_type": "stream",
     "text": [
      "{'metric_train': {'f1': [0.3164336826751014, 0.5449977892506628, 0.7916492872614448], 'accuracy': [0.5682730923694779, 0.6726907630522089, 0.8293172690763052], 'precision': [0.46445153952901164, 0.7637459263358544, 0.8153698145155084], 'recall': [0.36295824273110516, 0.5171131481533928, 0.7741202274522391], 'auc_roc': [0.5238567086932212, 0.6392725579096991, 0.8347070640721643]}, 'metric_val': {'f1': [0.3455926789260122, 0.7475204534028063, 0.6752185548617305], 'accuracy': [0.6, 0.776, 0.68], 'precision': [0.796078431372549, 0.7604828841734563, 0.7325885668276974], 'recall': [0.388422035480859, 0.7374416433239963, 0.7439775910364146], 'auc_roc': [0.5438946674240791, 0.8006014410426175, 0.8002896613190731]}, 'train_loss': [0.9673131923675538, 0.7022002935409546, 0.4936713880896568], 'val_loss': [0.8145188670605421, 0.6053672381676733, 0.7245974624529481], 'best_metric_val': 0.7475204534028063, 'confusion_matrix': [[43, 2, 25], [5, 21, 8], [0, 0, 21]]}\n",
      "Fold: 0 | Epoch: 2 | Metric: 0.6752185548617305 | Training Loss: 0.4936713880896568 | Validation Loss: 0.7245974624529481\n",
      "\n"
     ]
    },
    {
     "data": {
      "application/vnd.jupyter.widget-view+json": {
       "model_id": "e083f060ae494d3192c6dcac7525d697",
       "version_major": 2,
       "version_minor": 0
      },
      "text/plain": [
       "  0%|          | 0/125 [00:00<?, ?it/s]"
      ]
     },
     "metadata": {},
     "output_type": "display_data"
    },
    {
     "data": {
      "application/vnd.jupyter.widget-view+json": {
       "model_id": "4bedbb61b45b40169233c1affdff69d0",
       "version_major": 2,
       "version_minor": 0
      },
      "text/plain": [
       "  0%|          | 0/32 [00:00<?, ?it/s]"
      ]
     },
     "metadata": {},
     "output_type": "display_data"
    },
    {
     "name": "stdout",
     "output_type": "stream",
     "text": [
      "\n",
      "New Best Score!\n",
      "{'metric_train': {'f1': [0.3164336826751014, 0.5449977892506628, 0.7916492872614448, 0.8849230719751943], 'accuracy': [0.5682730923694779, 0.6726907630522089, 0.8293172690763052, 0.893574297188755], 'precision': [0.46445153952901164, 0.7637459263358544, 0.8153698145155084, 0.8856183995357916], 'recall': [0.36295824273110516, 0.5171131481533928, 0.7741202274522391, 0.8852703591467078], 'auc_roc': [0.5238567086932212, 0.6392725579096991, 0.8347070640721643, 0.9110831982883799]}, 'metric_val': {'f1': [0.3455926789260122, 0.7475204534028063, 0.6752185548617305, 0.8127885186708715], 'accuracy': [0.6, 0.776, 0.68, 0.824], 'precision': [0.796078431372549, 0.7604828841734563, 0.7325885668276974, 0.829737069865998], 'recall': [0.388422035480859, 0.7374416433239963, 0.7439775910364146, 0.7993464052287581], 'auc_roc': [0.5438946674240791, 0.8006014410426175, 0.8002896613190731, 0.8454524233935999]}, 'train_loss': [0.9673131923675538, 0.7022002935409546, 0.4936713880896568, 0.31732881903648374], 'val_loss': [0.8145188670605421, 0.6053672381676733, 0.7245974624529481, 0.40837929397821426], 'best_metric_val': 0.8127885186708715, 'confusion_matrix': [[61, 7, 2], [8, 26, 0], [4, 1, 16]]}\n",
      "Fold: 0 | Epoch: 3 | Metric: 0.8127885186708715 | Training Loss: 0.31732881903648374 | Validation Loss: 0.40837929397821426\n",
      "\n"
     ]
    },
    {
     "data": {
      "application/vnd.jupyter.widget-view+json": {
       "model_id": "5b48bf67abb44fb4996174e755f45b13",
       "version_major": 2,
       "version_minor": 0
      },
      "text/plain": [
       "  0%|          | 0/125 [00:00<?, ?it/s]"
      ]
     },
     "metadata": {},
     "output_type": "display_data"
    },
    {
     "data": {
      "application/vnd.jupyter.widget-view+json": {
       "model_id": "195d3605ac304910aaf4e43912eb02eb",
       "version_major": 2,
       "version_minor": 0
      },
      "text/plain": [
       "  0%|          | 0/32 [00:00<?, ?it/s]"
      ]
     },
     "metadata": {},
     "output_type": "display_data"
    },
    {
     "name": "stdout",
     "output_type": "stream",
     "text": [
      "\n",
      "New Best Score!\n",
      "{'metric_train': {'f1': [0.3164336826751014, 0.5449977892506628, 0.7916492872614448, 0.8849230719751943, 0.9317633087041258], 'accuracy': [0.5682730923694779, 0.6726907630522089, 0.8293172690763052, 0.893574297188755, 0.9377510040160643], 'precision': [0.46445153952901164, 0.7637459263358544, 0.8153698145155084, 0.8856183995357916, 0.9466975539769423], 'recall': [0.36295824273110516, 0.5171131481533928, 0.7741202274522391, 0.8852703591467078, 0.9188880602259628], 'auc_roc': [0.5238567086932212, 0.6392725579096991, 0.8347070640721643, 0.9110831982883799, 0.9389921887881426]}, 'metric_val': {'f1': [0.3455926789260122, 0.7475204534028063, 0.6752185548617305, 0.8127885186708715, 0.8757892240320517], 'accuracy': [0.6, 0.776, 0.68, 0.824, 0.888], 'precision': [0.796078431372549, 0.7604828841734563, 0.7325885668276974, 0.829737069865998, 0.8933333333333332], 'recall': [0.388422035480859, 0.7374416433239963, 0.7439775910364146, 0.7993464052287581, 0.876844070961718], 'auc_roc': [0.5438946674240791, 0.8006014410426175, 0.8002896613190731, 0.8454524233935999, 0.9031364876953113]}, 'train_loss': [0.9673131923675538, 0.7022002935409546, 0.4936713880896568, 0.31732881903648374, 0.1953413701057434], 'val_loss': [0.8145188670605421, 0.6053672381676733, 0.7245974624529481, 0.40837929397821426, 0.34969480175641365], 'best_metric_val': 0.8757892240320517, 'confusion_matrix': [[66, 0, 4], [8, 25, 1], [1, 0, 20]]}\n",
      "Fold: 0 | Epoch: 4 | Metric: 0.8757892240320517 | Training Loss: 0.1953413701057434 | Validation Loss: 0.34969480175641365\n",
      "\n"
     ]
    },
    {
     "data": {
      "application/vnd.jupyter.widget-view+json": {
       "model_id": "8717251538454912a21fc0ef68d15d38",
       "version_major": 2,
       "version_minor": 0
      },
      "text/plain": [
       "  0%|          | 0/125 [00:00<?, ?it/s]"
      ]
     },
     "metadata": {},
     "output_type": "display_data"
    },
    {
     "data": {
      "application/vnd.jupyter.widget-view+json": {
       "model_id": "46a995be2d744914978446131be77dc0",
       "version_major": 2,
       "version_minor": 0
      },
      "text/plain": [
       "  0%|          | 0/32 [00:00<?, ?it/s]"
      ]
     },
     "metadata": {},
     "output_type": "display_data"
    },
    {
     "name": "stdout",
     "output_type": "stream",
     "text": [
      "{'metric_train': {'f1': [0.3164336826751014, 0.5449977892506628, 0.7916492872614448, 0.8849230719751943, 0.9317633087041258, 0.9148455034902169], 'accuracy': [0.5682730923694779, 0.6726907630522089, 0.8293172690763052, 0.893574297188755, 0.9377510040160643, 0.927710843373494], 'precision': [0.46445153952901164, 0.7637459263358544, 0.8153698145155084, 0.8856183995357916, 0.9466975539769423, 0.9199437715062716], 'recall': [0.36295824273110516, 0.5171131481533928, 0.7741202274522391, 0.8852703591467078, 0.9188880602259628, 0.9101875190776038], 'auc_roc': [0.5238567086932212, 0.6392725579096991, 0.8347070640721643, 0.9110831982883799, 0.9389921887881426, 0.9333934536789882]}, 'metric_val': {'f1': [0.3455926789260122, 0.7475204534028063, 0.6752185548617305, 0.8127885186708715, 0.8757892240320517, 0.8449655537890832], 'accuracy': [0.6, 0.776, 0.68, 0.824, 0.888, 0.864], 'precision': [0.796078431372549, 0.7604828841734563, 0.7325885668276974, 0.829737069865998, 0.8933333333333332, 0.8471158958001063], 'recall': [0.388422035480859, 0.7374416433239963, 0.7439775910364146, 0.7993464052287581, 0.876844070961718, 0.8483660130718954], 'auc_roc': [0.5438946674240791, 0.8006014410426175, 0.8002896613190731, 0.8454524233935999, 0.9031364876953113, 0.8877402825932238]}, 'train_loss': [0.9673131923675538, 0.7022002935409546, 0.4936713880896568, 0.31732881903648374, 0.1953413701057434, 0.20165261350944638], 'val_loss': [0.8145188670605421, 0.6053672381676733, 0.7245974624529481, 0.40837929397821426, 0.34969480175641365, 0.3584492145164404], 'best_metric_val': 0.8757892240320517, 'confusion_matrix': [[61, 6, 3], [3, 31, 0], [2, 3, 16]]}\n",
      "Fold: 0 | Epoch: 5 | Metric: 0.8449655537890832 | Training Loss: 0.20165261350944638 | Validation Loss: 0.3584492145164404\n",
      "\n"
     ]
    },
    {
     "data": {
      "application/vnd.jupyter.widget-view+json": {
       "model_id": "d5ce4368d19f420e883b436cc92c63f1",
       "version_major": 2,
       "version_minor": 0
      },
      "text/plain": [
       "  0%|          | 0/125 [00:00<?, ?it/s]"
      ]
     },
     "metadata": {},
     "output_type": "display_data"
    },
    {
     "data": {
      "application/vnd.jupyter.widget-view+json": {
       "model_id": "cf87eda6a98d45208a11b6f9ff4f3091",
       "version_major": 2,
       "version_minor": 0
      },
      "text/plain": [
       "  0%|          | 0/32 [00:00<?, ?it/s]"
      ]
     },
     "metadata": {},
     "output_type": "display_data"
    },
    {
     "name": "stdout",
     "output_type": "stream",
     "text": [
      "{'metric_train': {'f1': [0.3164336826751014, 0.5449977892506628, 0.7916492872614448, 0.8849230719751943, 0.9317633087041258, 0.9148455034902169, 0.9326426539829825], 'accuracy': [0.5682730923694779, 0.6726907630522089, 0.8293172690763052, 0.893574297188755, 0.9377510040160643, 0.927710843373494, 0.9417670682730924], 'precision': [0.46445153952901164, 0.7637459263358544, 0.8153698145155084, 0.8856183995357916, 0.9466975539769423, 0.9199437715062716, 0.9390914048178778], 'recall': [0.36295824273110516, 0.5171131481533928, 0.7741202274522391, 0.8852703591467078, 0.9188880602259628, 0.9101875190776038, 0.9267311974808647], 'auc_roc': [0.5238567086932212, 0.6392725579096991, 0.8347070640721643, 0.9110831982883799, 0.9389921887881426, 0.9333934536789882, 0.9455626029074852]}, 'metric_val': {'f1': [0.3455926789260122, 0.7475204534028063, 0.6752185548617305, 0.8127885186708715, 0.8757892240320517, 0.8449655537890832, 0.8390878090366581], 'accuracy': [0.6, 0.776, 0.68, 0.824, 0.888, 0.864, 0.856], 'precision': [0.796078431372549, 0.7604828841734563, 0.7325885668276974, 0.829737069865998, 0.8933333333333332, 0.8471158958001063, 0.8261200237670826], 'recall': [0.388422035480859, 0.7374416433239963, 0.7439775910364146, 0.7993464052287581, 0.876844070961718, 0.8483660130718954, 0.8567693744164332], 'auc_roc': [0.5438946674240791, 0.8006014410426175, 0.8002896613190731, 0.8454524233935999, 0.9031364876953113, 0.8877402825932238, 0.8907972746208039]}, 'train_loss': [0.9673131923675538, 0.7022002935409546, 0.4936713880896568, 0.31732881903648374, 0.1953413701057434, 0.20165261350944638, 0.2128289555311203], 'val_loss': [0.8145188670605421, 0.6053672381676733, 0.7245974624529481, 0.40837929397821426, 0.34969480175641365, 0.3584492145164404, 0.3718876749044284], 'best_metric_val': 0.8757892240320517, 'confusion_matrix': [[61, 6, 3], [4, 27, 3], [1, 1, 19]]}\n",
      "Fold: 0 | Epoch: 6 | Metric: 0.8390878090366581 | Training Loss: 0.2128289555311203 | Validation Loss: 0.3718876749044284\n",
      "\n"
     ]
    },
    {
     "data": {
      "application/vnd.jupyter.widget-view+json": {
       "model_id": "7032e31a232e42419c974ba5e7cb6077",
       "version_major": 2,
       "version_minor": 0
      },
      "text/plain": [
       "  0%|          | 0/125 [00:00<?, ?it/s]"
      ]
     },
     "metadata": {},
     "output_type": "display_data"
    },
    {
     "data": {
      "application/vnd.jupyter.widget-view+json": {
       "model_id": "ffb8a10fb2594454a813e5c99b7836f1",
       "version_major": 2,
       "version_minor": 0
      },
      "text/plain": [
       "  0%|          | 0/32 [00:00<?, ?it/s]"
      ]
     },
     "metadata": {},
     "output_type": "display_data"
    },
    {
     "name": "stdout",
     "output_type": "stream",
     "text": [
      "{'metric_train': {'f1': [0.3164336826751014, 0.5449977892506628, 0.7916492872614448, 0.8849230719751943, 0.9317633087041258, 0.9148455034902169, 0.9326426539829825, 0.9592492953123894], 'accuracy': [0.5682730923694779, 0.6726907630522089, 0.8293172690763052, 0.893574297188755, 0.9377510040160643, 0.927710843373494, 0.9417670682730924, 0.9618473895582329], 'precision': [0.46445153952901164, 0.7637459263358544, 0.8153698145155084, 0.8856183995357916, 0.9466975539769423, 0.9199437715062716, 0.9390914048178778, 0.9611952479062426], 'recall': [0.36295824273110516, 0.5171131481533928, 0.7741202274522391, 0.8852703591467078, 0.9188880602259628, 0.9101875190776038, 0.9267311974808647, 0.9573428451249969], 'auc_roc': [0.5238567086932212, 0.6392725579096991, 0.8347070640721643, 0.9110831982883799, 0.9389921887881426, 0.9333934536789882, 0.9455626029074852, 0.9671031659861157]}, 'metric_val': {'f1': [0.3455926789260122, 0.7475204534028063, 0.6752185548617305, 0.8127885186708715, 0.8757892240320517, 0.8449655537890832, 0.8390878090366581, 0.8445225499053857], 'accuracy': [0.6, 0.776, 0.68, 0.824, 0.888, 0.864, 0.856, 0.864], 'precision': [0.796078431372549, 0.7604828841734563, 0.7325885668276974, 0.829737069865998, 0.8933333333333332, 0.8471158958001063, 0.8261200237670826, 0.8636511311949908], 'recall': [0.388422035480859, 0.7374416433239963, 0.7439775910364146, 0.7993464052287581, 0.876844070961718, 0.8483660130718954, 0.8567693744164332, 0.8342670401493931], 'auc_roc': [0.5438946674240791, 0.8006014410426175, 0.8002896613190731, 0.8454524233935999, 0.9031364876953113, 0.8877402825932238, 0.8907972746208039, 0.873955864397041]}, 'train_loss': [0.9673131923675538, 0.7022002935409546, 0.4936713880896568, 0.31732881903648374, 0.1953413701057434, 0.20165261350944638, 0.2128289555311203, 0.1453174288123846], 'val_loss': [0.8145188670605421, 0.6053672381676733, 0.7245974624529481, 0.40837929397821426, 0.34969480175641365, 0.3584492145164404, 0.3718876749044284, 0.37680987148632994], 'best_metric_val': 0.8757892240320517, 'confusion_matrix': [[65, 0, 5], [8, 26, 0], [3, 1, 17]]}\n",
      "Fold: 0 | Epoch: 7 | Metric: 0.8445225499053857 | Training Loss: 0.1453174288123846 | Validation Loss: 0.37680987148632994\n",
      "\n"
     ]
    },
    {
     "data": {
      "application/vnd.jupyter.widget-view+json": {
       "model_id": "c452bbc0e3d44881bf06b35a772f2135",
       "version_major": 2,
       "version_minor": 0
      },
      "text/plain": [
       "  0%|          | 0/125 [00:00<?, ?it/s]"
      ]
     },
     "metadata": {},
     "output_type": "display_data"
    },
    {
     "data": {
      "application/vnd.jupyter.widget-view+json": {
       "model_id": "f62f2011788f465e92bbd7887afe10cc",
       "version_major": 2,
       "version_minor": 0
      },
      "text/plain": [
       "  0%|          | 0/32 [00:00<?, ?it/s]"
      ]
     },
     "metadata": {},
     "output_type": "display_data"
    },
    {
     "name": "stdout",
     "output_type": "stream",
     "text": [
      "\n",
      "New Best Score!\n",
      "{'metric_train': {'f1': [0.3164336826751014, 0.5449977892506628, 0.7916492872614448, 0.8849230719751943, 0.9317633087041258, 0.9148455034902169, 0.9326426539829825, 0.9592492953123894, 0.9797997365893977], 'accuracy': [0.5682730923694779, 0.6726907630522089, 0.8293172690763052, 0.893574297188755, 0.9377510040160643, 0.927710843373494, 0.9417670682730924, 0.9618473895582329, 0.9819277108433735], 'precision': [0.46445153952901164, 0.7637459263358544, 0.8153698145155084, 0.8856183995357916, 0.9466975539769423, 0.9199437715062716, 0.9390914048178778, 0.9611952479062426, 0.9838662928832794], 'recall': [0.36295824273110516, 0.5171131481533928, 0.7741202274522391, 0.8852703591467078, 0.9188880602259628, 0.9101875190776038, 0.9267311974808647, 0.9573428451249969, 0.9758955591009743], 'auc_roc': [0.5238567086932212, 0.6392725579096991, 0.8347070640721643, 0.9110831982883799, 0.9389921887881426, 0.9333934536789882, 0.9455626029074852, 0.9671031659861157, 0.9820622673380651]}, 'metric_val': {'f1': [0.3455926789260122, 0.7475204534028063, 0.6752185548617305, 0.8127885186708715, 0.8757892240320517, 0.8449655537890832, 0.8390878090366581, 0.8445225499053857, 0.8846627219346943], 'accuracy': [0.6, 0.776, 0.68, 0.824, 0.888, 0.864, 0.856, 0.864, 0.896], 'precision': [0.796078431372549, 0.7604828841734563, 0.7325885668276974, 0.829737069865998, 0.8933333333333332, 0.8471158958001063, 0.8261200237670826, 0.8636511311949908, 0.9027260913225826], 'recall': [0.388422035480859, 0.7374416433239963, 0.7439775910364146, 0.7993464052287581, 0.876844070961718, 0.8483660130718954, 0.8567693744164332, 0.8342670401493931, 0.8755368814192344], 'auc_roc': [0.5438946674240791, 0.8006014410426175, 0.8002896613190731, 0.8454524233935999, 0.9031364876953113, 0.8877402825932238, 0.8907972746208039, 0.873955864397041, 0.9038565192976957]}, 'train_loss': [0.9673131923675538, 0.7022002935409546, 0.4936713880896568, 0.31732881903648374, 0.1953413701057434, 0.20165261350944638, 0.2128289555311203, 0.1453174288123846, 0.08419554514065385], 'val_loss': [0.8145188670605421, 0.6053672381676733, 0.7245974624529481, 0.40837929397821426, 0.34969480175641365, 0.3584492145164404, 0.3718876749044284, 0.37680987148632994, 0.3318843587730953], 'best_metric_val': 0.8846627219346943, 'confusion_matrix': [[67, 0, 3], [8, 26, 0], [1, 1, 19]]}\n",
      "Fold: 0 | Epoch: 8 | Metric: 0.8846627219346943 | Training Loss: 0.08419554514065385 | Validation Loss: 0.3318843587730953\n",
      "\n"
     ]
    },
    {
     "data": {
      "application/vnd.jupyter.widget-view+json": {
       "model_id": "8408f037954c42a395e1ab3f40c4cef9",
       "version_major": 2,
       "version_minor": 0
      },
      "text/plain": [
       "  0%|          | 0/125 [00:00<?, ?it/s]"
      ]
     },
     "metadata": {},
     "output_type": "display_data"
    },
    {
     "data": {
      "application/vnd.jupyter.widget-view+json": {
       "model_id": "3dcf2720f169496fa4a9a6031062113b",
       "version_major": 2,
       "version_minor": 0
      },
      "text/plain": [
       "  0%|          | 0/32 [00:00<?, ?it/s]"
      ]
     },
     "metadata": {},
     "output_type": "display_data"
    },
    {
     "name": "stdout",
     "output_type": "stream",
     "text": [
      "\n",
      "New Best Score!\n",
      "{'metric_train': {'f1': [0.3164336826751014, 0.5449977892506628, 0.7916492872614448, 0.8849230719751943, 0.9317633087041258, 0.9148455034902169, 0.9326426539829825, 0.9592492953123894, 0.9797997365893977, 0.9728752692911558], 'accuracy': [0.5682730923694779, 0.6726907630522089, 0.8293172690763052, 0.893574297188755, 0.9377510040160643, 0.927710843373494, 0.9417670682730924, 0.9618473895582329, 0.9819277108433735, 0.9779116465863453], 'precision': [0.46445153952901164, 0.7637459263358544, 0.8153698145155084, 0.8856183995357916, 0.9466975539769423, 0.9199437715062716, 0.9390914048178778, 0.9611952479062426, 0.9838662928832794, 0.9845328282828283], 'recall': [0.36295824273110516, 0.5171131481533928, 0.7741202274522391, 0.8852703591467078, 0.9188880602259628, 0.9101875190776038, 0.9267311974808647, 0.9573428451249969, 0.9758955591009743, 0.9625987708516242], 'auc_roc': [0.5238567086932212, 0.6392725579096991, 0.8347070640721643, 0.9110831982883799, 0.9389921887881426, 0.9333934536789882, 0.9455626029074852, 0.9671031659861157, 0.9820622673380651, 0.9735343194415679]}, 'metric_val': {'f1': [0.3455926789260122, 0.7475204534028063, 0.6752185548617305, 0.8127885186708715, 0.8757892240320517, 0.8449655537890832, 0.8390878090366581, 0.8445225499053857, 0.8846627219346943, 0.907018907018907], 'accuracy': [0.6, 0.776, 0.68, 0.824, 0.888, 0.864, 0.856, 0.864, 0.896, 0.912], 'precision': [0.796078431372549, 0.7604828841734563, 0.7325885668276974, 0.829737069865998, 0.8933333333333332, 0.8471158958001063, 0.8261200237670826, 0.8636511311949908, 0.9027260913225826, 0.9130640159372369], 'recall': [0.388422035480859, 0.7374416433239963, 0.7439775910364146, 0.7993464052287581, 0.876844070961718, 0.8483660130718954, 0.8567693744164332, 0.8342670401493931, 0.8755368814192344, 0.9062558356676004], 'auc_roc': [0.5438946674240791, 0.8006014410426175, 0.8002896613190731, 0.8454524233935999, 0.9031364876953113, 0.8877402825932238, 0.8907972746208039, 0.873955864397041, 0.9038565192976957, 0.9252766024824849]}, 'train_loss': [0.9673131923675538, 0.7022002935409546, 0.4936713880896568, 0.31732881903648374, 0.1953413701057434, 0.20165261350944638, 0.2128289555311203, 0.1453174288123846, 0.08419554514065385, 0.09310984259471297], 'val_loss': [0.8145188670605421, 0.6053672381676733, 0.7245974624529481, 0.40837929397821426, 0.34969480175641365, 0.3584492145164404, 0.3718876749044284, 0.37680987148632994, 0.3318843587730953, 0.2831310096225934], 'best_metric_val': 0.907018907018907, 'confusion_matrix': [[66, 1, 3], [6, 28, 0], [1, 0, 20]]}\n",
      "Fold: 0 | Epoch: 9 | Metric: 0.907018907018907 | Training Loss: 0.09310984259471297 | Validation Loss: 0.2831310096225934\n",
      "\n"
     ]
    },
    {
     "data": {
      "application/vnd.jupyter.widget-view+json": {
       "model_id": "c15a7f94a0044edfbadaa6188e160229",
       "version_major": 2,
       "version_minor": 0
      },
      "text/plain": [
       "  0%|          | 0/125 [00:00<?, ?it/s]"
      ]
     },
     "metadata": {},
     "output_type": "display_data"
    },
    {
     "data": {
      "application/vnd.jupyter.widget-view+json": {
       "model_id": "5dbcd3ff06b4411fac08896df42e3ce0",
       "version_major": 2,
       "version_minor": 0
      },
      "text/plain": [
       "  0%|          | 0/32 [00:00<?, ?it/s]"
      ]
     },
     "metadata": {},
     "output_type": "display_data"
    },
    {
     "name": "stdout",
     "output_type": "stream",
     "text": [
      "{'metric_train': {'f1': [0.3164336826751014, 0.5449977892506628, 0.7916492872614448, 0.8849230719751943, 0.9317633087041258, 0.9148455034902169, 0.9326426539829825, 0.9592492953123894, 0.9797997365893977, 0.9728752692911558, 0.9877578287891309], 'accuracy': [0.5682730923694779, 0.6726907630522089, 0.8293172690763052, 0.893574297188755, 0.9377510040160643, 0.927710843373494, 0.9417670682730924, 0.9618473895582329, 0.9819277108433735, 0.9779116465863453, 0.9899598393574297], 'precision': [0.46445153952901164, 0.7637459263358544, 0.8153698145155084, 0.8856183995357916, 0.9466975539769423, 0.9199437715062716, 0.9390914048178778, 0.9611952479062426, 0.9838662928832794, 0.9845328282828283, 0.992802731809824], 'recall': [0.36295824273110516, 0.5171131481533928, 0.7741202274522391, 0.8852703591467078, 0.9188880602259628, 0.9101875190776038, 0.9267311974808647, 0.9573428451249969, 0.9758955591009743, 0.9625987708516242, 0.983118982359969], 'auc_roc': [0.5238567086932212, 0.6392725579096991, 0.8347070640721643, 0.9110831982883799, 0.9389921887881426, 0.9333934536789882, 0.9455626029074852, 0.9671031659861157, 0.9820622673380651, 0.9735343194415679, 0.9880574756916677]}, 'metric_val': {'f1': [0.3455926789260122, 0.7475204534028063, 0.6752185548617305, 0.8127885186708715, 0.8757892240320517, 0.8449655537890832, 0.8390878090366581, 0.8445225499053857, 0.8846627219346943, 0.907018907018907, 0.8568850902184236], 'accuracy': [0.6, 0.776, 0.68, 0.824, 0.888, 0.864, 0.856, 0.864, 0.896, 0.912, 0.864], 'precision': [0.796078431372549, 0.7604828841734563, 0.7325885668276974, 0.829737069865998, 0.8933333333333332, 0.8471158958001063, 0.8261200237670826, 0.8636511311949908, 0.9027260913225826, 0.9130640159372369, 0.8502096346367759], 'recall': [0.388422035480859, 0.7374416433239963, 0.7439775910364146, 0.7993464052287581, 0.876844070961718, 0.8483660130718954, 0.8567693744164332, 0.8342670401493931, 0.8755368814192344, 0.9062558356676004, 0.8887955182072829], 'auc_roc': [0.5438946674240791, 0.8006014410426175, 0.8002896613190731, 0.8454524233935999, 0.9031364876953113, 0.8877402825932238, 0.8907972746208039, 0.873955864397041, 0.9038565192976957, 0.9252766024824849, 0.9083587980646805]}, 'train_loss': [0.9673131923675538, 0.7022002935409546, 0.4936713880896568, 0.31732881903648374, 0.1953413701057434, 0.20165261350944638, 0.2128289555311203, 0.1453174288123846, 0.08419554514065385, 0.09310984259471297, 0.05675802515912801], 'val_loss': [0.8145188670605421, 0.6053672381676733, 0.7245974624529481, 0.40837929397821426, 0.34969480175641365, 0.3584492145164404, 0.3718876749044284, 0.37680987148632994, 0.3318843587730953, 0.2831310096225934, 0.37519577959756134], 'best_metric_val': 0.907018907018907, 'confusion_matrix': [[59, 1, 10], [6, 28, 0], [0, 0, 21]]}\n",
      "Fold: 0 | Epoch: 10 | Metric: 0.8568850902184236 | Training Loss: 0.05675802515912801 | Validation Loss: 0.37519577959756134\n",
      "\n"
     ]
    },
    {
     "data": {
      "application/vnd.jupyter.widget-view+json": {
       "model_id": "bd271c825e324a148ad699c11bcd902d",
       "version_major": 2,
       "version_minor": 0
      },
      "text/plain": [
       "  0%|          | 0/125 [00:00<?, ?it/s]"
      ]
     },
     "metadata": {},
     "output_type": "display_data"
    },
    {
     "data": {
      "application/vnd.jupyter.widget-view+json": {
       "model_id": "44cb6db6f3c943baae3c127cfc5ec676",
       "version_major": 2,
       "version_minor": 0
      },
      "text/plain": [
       "  0%|          | 0/32 [00:00<?, ?it/s]"
      ]
     },
     "metadata": {},
     "output_type": "display_data"
    },
    {
     "name": "stdout",
     "output_type": "stream",
     "text": [
      "{'metric_train': {'f1': [0.3164336826751014, 0.5449977892506628, 0.7916492872614448, 0.8849230719751943, 0.9317633087041258, 0.9148455034902169, 0.9326426539829825, 0.9592492953123894, 0.9797997365893977, 0.9728752692911558, 0.9877578287891309, 0.9949437483012898], 'accuracy': [0.5682730923694779, 0.6726907630522089, 0.8293172690763052, 0.893574297188755, 0.9377510040160643, 0.927710843373494, 0.9417670682730924, 0.9618473895582329, 0.9819277108433735, 0.9779116465863453, 0.9899598393574297, 0.9959839357429718], 'precision': [0.46445153952901164, 0.7637459263358544, 0.8153698145155084, 0.8856183995357916, 0.9466975539769423, 0.9199437715062716, 0.9390914048178778, 0.9611952479062426, 0.9838662928832794, 0.9845328282828283, 0.992802731809824, 0.996321961620469], 'recall': [0.36295824273110516, 0.5171131481533928, 0.7741202274522391, 0.8852703591467078, 0.9188880602259628, 0.9101875190776038, 0.9267311974808647, 0.9573428451249969, 0.9758955591009743, 0.9625987708516242, 0.983118982359969, 0.9935908691834943], 'auc_roc': [0.5238567086932212, 0.6392725579096991, 0.8347070640721643, 0.9110831982883799, 0.9389921887881426, 0.9333934536789882, 0.9455626029074852, 0.9671031659861157, 0.9820622673380651, 0.9735343194415679, 0.9880574756916677, 0.9955765241262613]}, 'metric_val': {'f1': [0.3455926789260122, 0.7475204534028063, 0.6752185548617305, 0.8127885186708715, 0.8757892240320517, 0.8449655537890832, 0.8390878090366581, 0.8445225499053857, 0.8846627219346943, 0.907018907018907, 0.8568850902184236, 0.8887518415733031], 'accuracy': [0.6, 0.776, 0.68, 0.824, 0.888, 0.864, 0.856, 0.864, 0.896, 0.912, 0.864, 0.896], 'precision': [0.796078431372549, 0.7604828841734563, 0.7325885668276974, 0.829737069865998, 0.8933333333333332, 0.8471158958001063, 0.8261200237670826, 0.8636511311949908, 0.9027260913225826, 0.9130640159372369, 0.8502096346367759, 0.8889752306945119], 'recall': [0.388422035480859, 0.7374416433239963, 0.7439775910364146, 0.7993464052287581, 0.876844070961718, 0.8483660130718954, 0.8567693744164332, 0.8342670401493931, 0.8755368814192344, 0.9062558356676004, 0.8887955182072829, 0.8967320261437909], 'auc_roc': [0.5438946674240791, 0.8006014410426175, 0.8002896613190731, 0.8454524233935999, 0.9031364876953113, 0.8877402825932238, 0.8907972746208039, 0.873955864397041, 0.9038565192976957, 0.9252766024824849, 0.9083587980646805, 0.917309569515452]}, 'train_loss': [0.9673131923675538, 0.7022002935409546, 0.4936713880896568, 0.31732881903648374, 0.1953413701057434, 0.20165261350944638, 0.2128289555311203, 0.1453174288123846, 0.08419554514065385, 0.09310984259471297, 0.05675802515912801, 0.0338354223286733], 'val_loss': [0.8145188670605421, 0.6053672381676733, 0.7245974624529481, 0.40837929397821426, 0.34969480175641365, 0.3584492145164404, 0.3718876749044284, 0.37680987148632994, 0.3318843587730953, 0.2831310096225934, 0.37519577959756134, 0.31325399830166134], 'best_metric_val': 0.907018907018907, 'confusion_matrix': [[64, 1, 5], [6, 28, 0], [1, 0, 20]]}\n",
      "Fold: 0 | Epoch: 11 | Metric: 0.8887518415733031 | Training Loss: 0.0338354223286733 | Validation Loss: 0.31325399830166134\n",
      "\n"
     ]
    },
    {
     "data": {
      "application/vnd.jupyter.widget-view+json": {
       "model_id": "2846a4a0cd6349ecb19dcb31f2675c06",
       "version_major": 2,
       "version_minor": 0
      },
      "text/plain": [
       "  0%|          | 0/125 [00:00<?, ?it/s]"
      ]
     },
     "metadata": {},
     "output_type": "display_data"
    },
    {
     "data": {
      "application/vnd.jupyter.widget-view+json": {
       "model_id": "ebb2f4862b37455a80a9afa8995e78b2",
       "version_major": 2,
       "version_minor": 0
      },
      "text/plain": [
       "  0%|          | 0/32 [00:00<?, ?it/s]"
      ]
     },
     "metadata": {},
     "output_type": "display_data"
    },
    {
     "name": "stdout",
     "output_type": "stream",
     "text": [
      "{'metric_train': {'f1': [0.3164336826751014, 0.5449977892506628, 0.7916492872614448, 0.8849230719751943, 0.9317633087041258, 0.9148455034902169, 0.9326426539829825, 0.9592492953123894, 0.9797997365893977, 0.9728752692911558, 0.9877578287891309, 0.9949437483012898, 0.9826075722561498], 'accuracy': [0.5682730923694779, 0.6726907630522089, 0.8293172690763052, 0.893574297188755, 0.9377510040160643, 0.927710843373494, 0.9417670682730924, 0.9618473895582329, 0.9819277108433735, 0.9779116465863453, 0.9899598393574297, 0.9959839357429718, 0.9859437751004017], 'precision': [0.46445153952901164, 0.7637459263358544, 0.8153698145155084, 0.8856183995357916, 0.9466975539769423, 0.9199437715062716, 0.9390914048178778, 0.9611952479062426, 0.9838662928832794, 0.9845328282828283, 0.992802731809824, 0.996321961620469, 0.9904761904761905], 'recall': [0.36295824273110516, 0.5171131481533928, 0.7741202274522391, 0.8852703591467078, 0.9188880602259628, 0.9101875190776038, 0.9267311974808647, 0.9573428451249969, 0.9758955591009743, 0.9625987708516242, 0.983118982359969, 0.9935908691834943, 0.9754170324846356], 'auc_roc': [0.5238567086932212, 0.6392725579096991, 0.8347070640721643, 0.9110831982883799, 0.9389921887881426, 0.9333934536789882, 0.9455626029074852, 0.9671031659861157, 0.9820622673380651, 0.9735343194415679, 0.9880574756916677, 0.9955765241262613, 0.9826844307387802]}, 'metric_val': {'f1': [0.3455926789260122, 0.7475204534028063, 0.6752185548617305, 0.8127885186708715, 0.8757892240320517, 0.8449655537890832, 0.8390878090366581, 0.8445225499053857, 0.8846627219346943, 0.907018907018907, 0.8568850902184236, 0.8887518415733031, 0.890121236344258], 'accuracy': [0.6, 0.776, 0.68, 0.824, 0.888, 0.864, 0.856, 0.864, 0.896, 0.912, 0.864, 0.896, 0.896], 'precision': [0.796078431372549, 0.7604828841734563, 0.7325885668276974, 0.829737069865998, 0.8933333333333332, 0.8471158958001063, 0.8261200237670826, 0.8636511311949908, 0.9027260913225826, 0.9130640159372369, 0.8502096346367759, 0.8889752306945119, 0.8854461658059859], 'recall': [0.388422035480859, 0.7374416433239963, 0.7439775910364146, 0.7993464052287581, 0.876844070961718, 0.8483660130718954, 0.8567693744164332, 0.8342670401493931, 0.8755368814192344, 0.9062558356676004, 0.8887955182072829, 0.8967320261437909, 0.907843137254902], 'auc_roc': [0.5438946674240791, 0.8006014410426175, 0.8002896613190731, 0.8454524233935999, 0.9031364876953113, 0.8877402825932238, 0.8907972746208039, 0.873955864397041, 0.9038565192976957, 0.9252766024824849, 0.9083587980646805, 0.917309569515452, 0.9242928639987463]}, 'train_loss': [0.9673131923675538, 0.7022002935409546, 0.4936713880896568, 0.31732881903648374, 0.1953413701057434, 0.20165261350944638, 0.2128289555311203, 0.1453174288123846, 0.08419554514065385, 0.09310984259471297, 0.05675802515912801, 0.0338354223286733, 0.06198714742437005], 'val_loss': [0.8145188670605421, 0.6053672381676733, 0.7245974624529481, 0.40837929397821426, 0.34969480175641365, 0.3584492145164404, 0.3718876749044284, 0.37680987148632994, 0.3318843587730953, 0.2831310096225934, 0.37519577959756134, 0.31325399830166134, 0.3291624436387792], 'best_metric_val': 0.907018907018907, 'confusion_matrix': [[63, 1, 6], [6, 28, 0], [0, 0, 21]]}\n",
      "Fold: 0 | Epoch: 12 | Metric: 0.890121236344258 | Training Loss: 0.06198714742437005 | Validation Loss: 0.3291624436387792\n",
      "\n"
     ]
    },
    {
     "data": {
      "application/vnd.jupyter.widget-view+json": {
       "model_id": "c24e5137852a44469a83d52241d7f5b4",
       "version_major": 2,
       "version_minor": 0
      },
      "text/plain": [
       "  0%|          | 0/125 [00:00<?, ?it/s]"
      ]
     },
     "metadata": {},
     "output_type": "display_data"
    },
    {
     "data": {
      "application/vnd.jupyter.widget-view+json": {
       "model_id": "871bc5fbd0574996a18b351e490b1450",
       "version_major": 2,
       "version_minor": 0
      },
      "text/plain": [
       "  0%|          | 0/32 [00:00<?, ?it/s]"
      ]
     },
     "metadata": {},
     "output_type": "display_data"
    },
    {
     "name": "stdout",
     "output_type": "stream",
     "text": [
      "{'metric_train': {'f1': [0.3164336826751014, 0.5449977892506628, 0.7916492872614448, 0.8849230719751943, 0.9317633087041258, 0.9148455034902169, 0.9326426539829825, 0.9592492953123894, 0.9797997365893977, 0.9728752692911558, 0.9877578287891309, 0.9949437483012898, 0.9826075722561498, 0.995588697771066], 'accuracy': [0.5682730923694779, 0.6726907630522089, 0.8293172690763052, 0.893574297188755, 0.9377510040160643, 0.927710843373494, 0.9417670682730924, 0.9618473895582329, 0.9819277108433735, 0.9779116465863453, 0.9899598393574297, 0.9959839357429718, 0.9859437751004017, 0.9959839357429718], 'precision': [0.46445153952901164, 0.7637459263358544, 0.8153698145155084, 0.8856183995357916, 0.9466975539769423, 0.9199437715062716, 0.9390914048178778, 0.9611952479062426, 0.9838662928832794, 0.9845328282828283, 0.992802731809824, 0.996321961620469, 0.9904761904761905, 0.9976275207591933], 'recall': [0.36295824273110516, 0.5171131481533928, 0.7741202274522391, 0.8852703591467078, 0.9188880602259628, 0.9101875190776038, 0.9267311974808647, 0.9573428451249969, 0.9758955591009743, 0.9625987708516242, 0.983118982359969, 0.9935908691834943, 0.9754170324846356, 0.9935908691834943], 'auc_roc': [0.5238567086932212, 0.6392725579096991, 0.8347070640721643, 0.9110831982883799, 0.9389921887881426, 0.9333934536789882, 0.9455626029074852, 0.9671031659861157, 0.9820622673380651, 0.9735343194415679, 0.9880574756916677, 0.9955765241262613, 0.9826844307387802, 0.9952733645765264]}, 'metric_val': {'f1': [0.3455926789260122, 0.7475204534028063, 0.6752185548617305, 0.8127885186708715, 0.8757892240320517, 0.8449655537890832, 0.8390878090366581, 0.8445225499053857, 0.8846627219346943, 0.907018907018907, 0.8568850902184236, 0.8887518415733031, 0.890121236344258, 0.8725849841036929], 'accuracy': [0.6, 0.776, 0.68, 0.824, 0.888, 0.864, 0.856, 0.864, 0.896, 0.912, 0.864, 0.896, 0.896, 0.88], 'precision': [0.796078431372549, 0.7604828841734563, 0.7325885668276974, 0.829737069865998, 0.8933333333333332, 0.8471158958001063, 0.8261200237670826, 0.8636511311949908, 0.9027260913225826, 0.9130640159372369, 0.8502096346367759, 0.8889752306945119, 0.8854461658059859, 0.8914529914529915], 'recall': [0.388422035480859, 0.7374416433239963, 0.7439775910364146, 0.7993464052287581, 0.876844070961718, 0.8483660130718954, 0.8567693744164332, 0.8342670401493931, 0.8755368814192344, 0.9062558356676004, 0.8887955182072829, 0.8967320261437909, 0.907843137254902, 0.8781512605042017], 'auc_roc': [0.5438946674240791, 0.8006014410426175, 0.8002896613190731, 0.8454524233935999, 0.9031364876953113, 0.8877402825932238, 0.8907972746208039, 0.873955864397041, 0.9038565192976957, 0.9252766024824849, 0.9083587980646805, 0.917309569515452, 0.9242928639987463, 0.90075977943625]}, 'train_loss': [0.9673131923675538, 0.7022002935409546, 0.4936713880896568, 0.31732881903648374, 0.1953413701057434, 0.20165261350944638, 0.2128289555311203, 0.1453174288123846, 0.08419554514065385, 0.09310984259471297, 0.05675802515912801, 0.0338354223286733, 0.06198714742437005, 0.03237273039901629], 'val_loss': [0.8145188670605421, 0.6053672381676733, 0.7245974624529481, 0.40837929397821426, 0.34969480175641365, 0.3584492145164404, 0.3718876749044284, 0.37680987148632994, 0.3318843587730953, 0.2831310096225934, 0.37519577959756134, 0.31325399830166134, 0.3291624436387792, 0.3930461893287429], 'best_metric_val': 0.907018907018907, 'confusion_matrix': [[65, 0, 5], [10, 24, 0], [0, 0, 21]]}\n",
      "Fold: 0 | Epoch: 13 | Metric: 0.8725849841036929 | Training Loss: 0.03237273039901629 | Validation Loss: 0.3930461893287429\n",
      "\n"
     ]
    },
    {
     "data": {
      "application/vnd.jupyter.widget-view+json": {
       "model_id": "2e530bdb4db3497283c18c3ed7863501",
       "version_major": 2,
       "version_minor": 0
      },
      "text/plain": [
       "  0%|          | 0/125 [00:00<?, ?it/s]"
      ]
     },
     "metadata": {},
     "output_type": "display_data"
    },
    {
     "data": {
      "application/vnd.jupyter.widget-view+json": {
       "model_id": "ec655aa13fab43118179c7d1e07b13c7",
       "version_major": 2,
       "version_minor": 0
      },
      "text/plain": [
       "  0%|          | 0/32 [00:00<?, ?it/s]"
      ]
     },
     "metadata": {},
     "output_type": "display_data"
    },
    {
     "name": "stdout",
     "output_type": "stream",
     "text": [
      "{'metric_train': {'f1': [0.3164336826751014, 0.5449977892506628, 0.7916492872614448, 0.8849230719751943, 0.9317633087041258, 0.9148455034902169, 0.9326426539829825, 0.9592492953123894, 0.9797997365893977, 0.9728752692911558, 0.9877578287891309, 0.9949437483012898, 0.9826075722561498, 0.995588697771066, 0.9861580008458833], 'accuracy': [0.5682730923694779, 0.6726907630522089, 0.8293172690763052, 0.893574297188755, 0.9377510040160643, 0.927710843373494, 0.9417670682730924, 0.9618473895582329, 0.9819277108433735, 0.9779116465863453, 0.9899598393574297, 0.9959839357429718, 0.9859437751004017, 0.9959839357429718, 0.9879518072289156], 'precision': [0.46445153952901164, 0.7637459263358544, 0.8153698145155084, 0.8856183995357916, 0.9466975539769423, 0.9199437715062716, 0.9390914048178778, 0.9611952479062426, 0.9838662928832794, 0.9845328282828283, 0.992802731809824, 0.996321961620469, 0.9904761904761905, 0.9976275207591933, 0.9861513809188228], 'recall': [0.36295824273110516, 0.5171131481533928, 0.7741202274522391, 0.8852703591467078, 0.9188880602259628, 0.9101875190776038, 0.9267311974808647, 0.9573428451249969, 0.9758955591009743, 0.9625987708516242, 0.983118982359969, 0.9935908691834943, 0.9754170324846356, 0.9935908691834943, 0.986226258544931], 'auc_roc': [0.5238567086932212, 0.6392725579096991, 0.8347070640721643, 0.9110831982883799, 0.9389921887881426, 0.9333934536789882, 0.9455626029074852, 0.9671031659861157, 0.9820622673380651, 0.9735343194415679, 0.9880574756916677, 0.9955765241262613, 0.9826844307387802, 0.9952733645765264, 0.9895650462897412]}, 'metric_val': {'f1': [0.3455926789260122, 0.7475204534028063, 0.6752185548617305, 0.8127885186708715, 0.8757892240320517, 0.8449655537890832, 0.8390878090366581, 0.8445225499053857, 0.8846627219346943, 0.907018907018907, 0.8568850902184236, 0.8887518415733031, 0.890121236344258, 0.8725849841036929, 0.8607548282470883], 'accuracy': [0.6, 0.776, 0.68, 0.824, 0.888, 0.864, 0.856, 0.864, 0.896, 0.912, 0.864, 0.896, 0.896, 0.88, 0.864], 'precision': [0.796078431372549, 0.7604828841734563, 0.7325885668276974, 0.829737069865998, 0.8933333333333332, 0.8471158958001063, 0.8261200237670826, 0.8636511311949908, 0.9027260913225826, 0.9130640159372369, 0.8502096346367759, 0.8889752306945119, 0.8854461658059859, 0.8914529914529915, 0.8411920323685029], 'recall': [0.388422035480859, 0.7374416433239963, 0.7439775910364146, 0.7993464052287581, 0.876844070961718, 0.8483660130718954, 0.8567693744164332, 0.8342670401493931, 0.8755368814192344, 0.9062558356676004, 0.8887955182072829, 0.8967320261437909, 0.907843137254902, 0.8781512605042017, 0.8938375350140056], 'auc_roc': [0.5438946674240791, 0.8006014410426175, 0.8002896613190731, 0.8454524233935999, 0.9031364876953113, 0.8877402825932238, 0.8907972746208039, 0.873955864397041, 0.9038565192976957, 0.9252766024824849, 0.9083587980646805, 0.917309569515452, 0.9242928639987463, 0.90075977943625, 0.9113917944800298]}, 'train_loss': [0.9673131923675538, 0.7022002935409546, 0.4936713880896568, 0.31732881903648374, 0.1953413701057434, 0.20165261350944638, 0.2128289555311203, 0.1453174288123846, 0.08419554514065385, 0.09310984259471297, 0.05675802515912801, 0.0338354223286733, 0.06198714742437005, 0.03237273039901629, 0.048695706564933064], 'val_loss': [0.8145188670605421, 0.6053672381676733, 0.7245974624529481, 0.40837929397821426, 0.34969480175641365, 0.3584492145164404, 0.3718876749044284, 0.37680987148632994, 0.3318843587730953, 0.2831310096225934, 0.37519577959756134, 0.31325399830166134, 0.3291624436387792, 0.3930461893287429, 0.31185645944060525], 'best_metric_val': 0.907018907018907, 'confusion_matrix': [[58, 5, 7], [5, 29, 0], [0, 0, 21]]}\n",
      "Fold: 0 | Epoch: 14 | Metric: 0.8607548282470883 | Training Loss: 0.048695706564933064 | Validation Loss: 0.31185645944060525\n",
      "\n",
      "\n",
      "Fold: 2 / 5\n"
     ]
    },
    {
     "data": {
      "application/vnd.jupyter.widget-view+json": {
       "model_id": "f6931efa331b4c7d91c80a646129e922",
       "version_major": 2,
       "version_minor": 0
      },
      "text/plain": [
       "  0%|          | 0/125 [00:00<?, ?it/s]"
      ]
     },
     "metadata": {},
     "output_type": "display_data"
    },
    {
     "data": {
      "application/vnd.jupyter.widget-view+json": {
       "model_id": "e6944604e1f94663ad4bed82009cdedf",
       "version_major": 2,
       "version_minor": 0
      },
      "text/plain": [
       "  0%|          | 0/32 [00:00<?, ?it/s]"
      ]
     },
     "metadata": {},
     "output_type": "display_data"
    },
    {
     "name": "stdout",
     "output_type": "stream",
     "text": [
      "\n",
      "New Best Score!\n",
      "{'metric_train': {'f1': [0.2838077656353877], 'accuracy': [0.5602409638554217], 'precision': [0.3210233029381966], 'recall': [0.34755434298043825], 'auc_roc': [0.5122642171690456]}, 'metric_val': {'f1': [0.36066547831253715], 'accuracy': [0.616], 'precision': [0.49109686609686615], 'recall': [0.40196078431372545], 'auc_roc': [0.5567246479011185]}, 'train_loss': [0.9228727581501007], 'val_loss': [0.7848686119541526], 'best_metric_val': 0.36066547831253715, 'confusion_matrix': [[70, 0, 0], [27, 7, 0], [20, 1, 0]]}\n",
      "Fold: 1 | Epoch: 0 | Metric: 0.36066547831253715 | Training Loss: 0.9228727581501007 | Validation Loss: 0.7848686119541526\n",
      "\n"
     ]
    },
    {
     "data": {
      "application/vnd.jupyter.widget-view+json": {
       "model_id": "f82ff918fd234765b3b828c1babbe025",
       "version_major": 2,
       "version_minor": 0
      },
      "text/plain": [
       "  0%|          | 0/125 [00:00<?, ?it/s]"
      ]
     },
     "metadata": {},
     "output_type": "display_data"
    },
    {
     "data": {
      "application/vnd.jupyter.widget-view+json": {
       "model_id": "0fde308e2f2246fd859c82cc56310082",
       "version_major": 2,
       "version_minor": 0
      },
      "text/plain": [
       "  0%|          | 0/32 [00:00<?, ?it/s]"
      ]
     },
     "metadata": {},
     "output_type": "display_data"
    },
    {
     "name": "stdout",
     "output_type": "stream",
     "text": [
      "\n",
      "New Best Score!\n",
      "{'metric_train': {'f1': [0.2838077656353877, 0.6107458120632708], 'accuracy': [0.5602409638554217, 0.6987951807228916], 'precision': [0.3210233029381966, 0.7014519867744479], 'recall': [0.34755434298043825, 0.5837706890384677], 'auc_roc': [0.5122642171690456, 0.691363520291814]}, 'metric_val': {'f1': [0.36066547831253715, 0.736247228833478], 'accuracy': [0.616, 0.776], 'precision': [0.49109686609686615, 0.7378131808278866], 'recall': [0.40196078431372545, 0.7677871148459384], 'auc_roc': [0.5567246479011185, 0.8290817026111145]}, 'train_loss': [0.9228727581501007, 0.6665012748241425], 'val_loss': [0.7848686119541526, 0.6629677973687649], 'best_metric_val': 0.736247228833478, 'confusion_matrix': [[58, 3, 9], [6, 21, 7], [0, 3, 18]]}\n",
      "Fold: 1 | Epoch: 1 | Metric: 0.736247228833478 | Training Loss: 0.6665012748241425 | Validation Loss: 0.6629677973687649\n",
      "\n"
     ]
    },
    {
     "data": {
      "application/vnd.jupyter.widget-view+json": {
       "model_id": "0525548279414dbfbc7a93b3ce2f774b",
       "version_major": 2,
       "version_minor": 0
      },
      "text/plain": [
       "  0%|          | 0/125 [00:00<?, ?it/s]"
      ]
     },
     "metadata": {},
     "output_type": "display_data"
    },
    {
     "data": {
      "application/vnd.jupyter.widget-view+json": {
       "model_id": "098410277be2452eb64bcec5ca2d029c",
       "version_major": 2,
       "version_minor": 0
      },
      "text/plain": [
       "  0%|          | 0/32 [00:00<?, ?it/s]"
      ]
     },
     "metadata": {},
     "output_type": "display_data"
    },
    {
     "name": "stdout",
     "output_type": "stream",
     "text": [
      "\n",
      "New Best Score!\n",
      "{'metric_train': {'f1': [0.2838077656353877, 0.6107458120632708, 0.781875803574862], 'accuracy': [0.5602409638554217, 0.6987951807228916, 0.821285140562249], 'precision': [0.3210233029381966, 0.7014519867744479, 0.8088910645164215], 'recall': [0.34755434298043825, 0.5837706890384677, 0.7625947848780554], 'auc_roc': [0.5122642171690456, 0.691363520291814, 0.8256513674117629]}, 'metric_val': {'f1': [0.36066547831253715, 0.736247228833478, 0.8246202706434688], 'accuracy': [0.616, 0.776, 0.832], 'precision': [0.49109686609686615, 0.7378131808278866, 0.8355549822268089], 'recall': [0.40196078431372545, 0.7677871148459384, 0.8152194211017741], 'auc_roc': [0.5567246479011185, 0.8290817026111145, 0.8564192343604109]}, 'train_loss': [0.9228727581501007, 0.6665012748241425, 0.5130507299900054], 'val_loss': [0.7848686119541526, 0.6629677973687649, 0.5160229977918789], 'best_metric_val': 0.8246202706434688, 'confusion_matrix': [[61, 7, 2], [8, 26, 0], [3, 1, 17]]}\n",
      "Fold: 1 | Epoch: 2 | Metric: 0.8246202706434688 | Training Loss: 0.5130507299900054 | Validation Loss: 0.5160229977918789\n",
      "\n"
     ]
    },
    {
     "data": {
      "application/vnd.jupyter.widget-view+json": {
       "model_id": "06d3700c053148d096fa223478c7c037",
       "version_major": 2,
       "version_minor": 0
      },
      "text/plain": [
       "  0%|          | 0/125 [00:00<?, ?it/s]"
      ]
     },
     "metadata": {},
     "output_type": "display_data"
    },
    {
     "data": {
      "application/vnd.jupyter.widget-view+json": {
       "model_id": "3f636563d58548e8952ab3b6e8c7bf31",
       "version_major": 2,
       "version_minor": 0
      },
      "text/plain": [
       "  0%|          | 0/32 [00:00<?, ?it/s]"
      ]
     },
     "metadata": {},
     "output_type": "display_data"
    },
    {
     "name": "stdout",
     "output_type": "stream",
     "text": [
      "{'metric_train': {'f1': [0.2838077656353877, 0.6107458120632708, 0.781875803574862, 0.8684895700162154], 'accuracy': [0.5602409638554217, 0.6987951807228916, 0.821285140562249, 0.8875502008032129], 'precision': [0.3210233029381966, 0.7014519867744479, 0.8088910645164215, 0.8806932491512897], 'recall': [0.34755434298043825, 0.5837706890384677, 0.7625947848780554, 0.8584375193398389], 'auc_roc': [0.5122642171690456, 0.691363520291814, 0.8256513674117629, 0.8945828431266428]}, 'metric_val': {'f1': [0.36066547831253715, 0.736247228833478, 0.8246202706434688, 0.7433544779484712], 'accuracy': [0.616, 0.776, 0.832, 0.792], 'precision': [0.49109686609686615, 0.7378131808278866, 0.8355549822268089, 0.833888888888889], 'recall': [0.40196078431372545, 0.7677871148459384, 0.8152194211017741, 0.7186741363211951], 'auc_roc': [0.5567246479011185, 0.8290817026111145, 0.8564192343604109, 0.7961336049571344]}, 'train_loss': [0.9228727581501007, 0.6665012748241425, 0.5130507299900054, 0.32667734879255295], 'val_loss': [0.7848686119541526, 0.6629677973687649, 0.5160229977918789, 0.6384782114764675], 'best_metric_val': 0.8246202706434688, 'confusion_matrix': [[62, 8, 0], [7, 27, 0], [6, 5, 10]]}\n",
      "Fold: 1 | Epoch: 3 | Metric: 0.7433544779484712 | Training Loss: 0.32667734879255295 | Validation Loss: 0.6384782114764675\n",
      "\n"
     ]
    },
    {
     "data": {
      "application/vnd.jupyter.widget-view+json": {
       "model_id": "7c8d00918d4f43fc9c6182b9f603b701",
       "version_major": 2,
       "version_minor": 0
      },
      "text/plain": [
       "  0%|          | 0/125 [00:00<?, ?it/s]"
      ]
     },
     "metadata": {},
     "output_type": "display_data"
    },
    {
     "data": {
      "application/vnd.jupyter.widget-view+json": {
       "model_id": "0bdb297478d1464685f0a1fee7776960",
       "version_major": 2,
       "version_minor": 0
      },
      "text/plain": [
       "  0%|          | 0/32 [00:00<?, ?it/s]"
      ]
     },
     "metadata": {},
     "output_type": "display_data"
    },
    {
     "name": "stdout",
     "output_type": "stream",
     "text": [
      "{'metric_train': {'f1': [0.2838077656353877, 0.6107458120632708, 0.781875803574862, 0.8684895700162154, 0.90628303488741], 'accuracy': [0.5602409638554217, 0.6987951807228916, 0.821285140562249, 0.8875502008032129, 0.9156626506024096], 'precision': [0.3210233029381966, 0.7014519867744479, 0.8088910645164215, 0.8806932491512897, 0.9125125283363419], 'recall': [0.34755434298043825, 0.5837706890384677, 0.7625947848780554, 0.8584375193398389, 0.9005746095581548], 'auc_roc': [0.5122642171690456, 0.691363520291814, 0.8256513674117629, 0.8945828431266428, 0.9245184595593382]}, 'metric_val': {'f1': [0.36066547831253715, 0.736247228833478, 0.8246202706434688, 0.7433544779484712, 0.7923076923076923], 'accuracy': [0.616, 0.776, 0.832, 0.792, 0.8], 'precision': [0.49109686609686615, 0.7378131808278866, 0.8355549822268089, 0.833888888888889, 0.7960976488141173], 'recall': [0.40196078431372545, 0.7677871148459384, 0.8152194211017741, 0.7186741363211951, 0.8001867413632119], 'auc_roc': [0.5567246479011185, 0.8290817026111145, 0.8564192343604109, 0.7961336049571344, 0.846601029689265]}, 'train_loss': [0.9228727581501007, 0.6665012748241425, 0.5130507299900054, 0.32667734879255295, 0.23549548848718405], 'val_loss': [0.7848686119541526, 0.6629677973687649, 0.5160229977918789, 0.6384782114764675, 0.46507468495110516], 'best_metric_val': 0.8246202706434688, 'confusion_matrix': [[55, 13, 2], [4, 29, 1], [3, 2, 16]]}\n",
      "Fold: 1 | Epoch: 4 | Metric: 0.7923076923076923 | Training Loss: 0.23549548848718405 | Validation Loss: 0.46507468495110516\n",
      "\n"
     ]
    },
    {
     "data": {
      "application/vnd.jupyter.widget-view+json": {
       "model_id": "351a533454b845f291be03a2c1c263cc",
       "version_major": 2,
       "version_minor": 0
      },
      "text/plain": [
       "  0%|          | 0/125 [00:00<?, ?it/s]"
      ]
     },
     "metadata": {},
     "output_type": "display_data"
    },
    {
     "data": {
      "application/vnd.jupyter.widget-view+json": {
       "model_id": "8b6723cb29144fcb946e6ad467b63382",
       "version_major": 2,
       "version_minor": 0
      },
      "text/plain": [
       "  0%|          | 0/32 [00:00<?, ?it/s]"
      ]
     },
     "metadata": {},
     "output_type": "display_data"
    },
    {
     "name": "stdout",
     "output_type": "stream",
     "text": [
      "{'metric_train': {'f1': [0.2838077656353877, 0.6107458120632708, 0.781875803574862, 0.8684895700162154, 0.90628303488741, 0.9390965658845474], 'accuracy': [0.5602409638554217, 0.6987951807228916, 0.821285140562249, 0.8875502008032129, 0.9156626506024096, 0.9417670682730924], 'precision': [0.3210233029381966, 0.7014519867744479, 0.8088910645164215, 0.8806932491512897, 0.9125125283363419, 0.9380105471791605], 'recall': [0.34755434298043825, 0.5837706890384677, 0.7625947848780554, 0.8584375193398389, 0.9005746095581548, 0.9402241375874162], 'auc_roc': [0.5122642171690456, 0.691363520291814, 0.8256513674117629, 0.8945828431266428, 0.9245184595593382, 0.9534130627459674]}, 'metric_val': {'f1': [0.36066547831253715, 0.736247228833478, 0.8246202706434688, 0.7433544779484712, 0.7923076923076923, 0.8000104583366016], 'accuracy': [0.616, 0.776, 0.832, 0.792, 0.8, 0.832], 'precision': [0.49109686609686615, 0.7378131808278866, 0.8355549822268089, 0.833888888888889, 0.7960976488141173, 0.8009757068896853], 'recall': [0.40196078431372545, 0.7677871148459384, 0.8152194211017741, 0.7186741363211951, 0.8001867413632119, 0.8445378151260504], 'auc_roc': [0.5567246479011185, 0.8290817026111145, 0.8564192343604109, 0.7961336049571344, 0.846601029689265, 0.8848438326379503]}, 'train_loss': [0.9228727581501007, 0.6665012748241425, 0.5130507299900054, 0.32667734879255295, 0.23549548848718405, 0.20160925036668778], 'val_loss': [0.7848686119541526, 0.6629677973687649, 0.5160229977918789, 0.6384782114764675, 0.46507468495110516, 0.5605980917462148], 'best_metric_val': 0.8246202706434688, 'confusion_matrix': [[60, 4, 6], [2, 23, 9], [0, 0, 21]]}\n",
      "Fold: 1 | Epoch: 5 | Metric: 0.8000104583366016 | Training Loss: 0.20160925036668778 | Validation Loss: 0.5605980917462148\n",
      "\n"
     ]
    },
    {
     "data": {
      "application/vnd.jupyter.widget-view+json": {
       "model_id": "ab2f08f94f6a44519bc3d72732d5aca1",
       "version_major": 2,
       "version_minor": 0
      },
      "text/plain": [
       "  0%|          | 0/125 [00:00<?, ?it/s]"
      ]
     },
     "metadata": {},
     "output_type": "display_data"
    },
    {
     "data": {
      "application/vnd.jupyter.widget-view+json": {
       "model_id": "b71f16d5ac9144adb7eef16639cc0c32",
       "version_major": 2,
       "version_minor": 0
      },
      "text/plain": [
       "  0%|          | 0/32 [00:00<?, ?it/s]"
      ]
     },
     "metadata": {},
     "output_type": "display_data"
    },
    {
     "name": "stdout",
     "output_type": "stream",
     "text": [
      "{'metric_train': {'f1': [0.2838077656353877, 0.6107458120632708, 0.781875803574862, 0.8684895700162154, 0.90628303488741, 0.9390965658845474, 0.9400666140667968], 'accuracy': [0.5602409638554217, 0.6987951807228916, 0.821285140562249, 0.8875502008032129, 0.9156626506024096, 0.9417670682730924, 0.9457831325301205], 'precision': [0.3210233029381966, 0.7014519867744479, 0.8088910645164215, 0.8806932491512897, 0.9125125283363419, 0.9380105471791605, 0.9365983692029204], 'recall': [0.34755434298043825, 0.5837706890384677, 0.7625947848780554, 0.8584375193398389, 0.9005746095581548, 0.9402241375874162, 0.9439064429066978], 'auc_roc': [0.5122642171690456, 0.691363520291814, 0.8256513674117629, 0.8945828431266428, 0.9245184595593382, 0.9534130627459674, 0.9566904226985603]}, 'metric_val': {'f1': [0.36066547831253715, 0.736247228833478, 0.8246202706434688, 0.7433544779484712, 0.7923076923076923, 0.8000104583366016, 0.8185567887060424], 'accuracy': [0.616, 0.776, 0.832, 0.792, 0.8, 0.832, 0.84], 'precision': [0.49109686609686615, 0.7378131808278866, 0.8355549822268089, 0.833888888888889, 0.7960976488141173, 0.8009757068896853, 0.837109837109837], 'recall': [0.40196078431372545, 0.7677871148459384, 0.8152194211017741, 0.7186741363211951, 0.8001867413632119, 0.8445378151260504, 0.8038281979458449], 'auc_roc': [0.5567246479011185, 0.8290817026111145, 0.8564192343604109, 0.7961336049571344, 0.846601029689265, 0.8848438326379503, 0.8537539258127493]}, 'train_loss': [0.9228727581501007, 0.6665012748241425, 0.5130507299900054, 0.32667734879255295, 0.23549548848718405, 0.20160925036668778, 0.16461429696157576], 'val_loss': [0.7848686119541526, 0.6629677973687649, 0.5160229977918789, 0.6384782114764675, 0.46507468495110516, 0.5605980917462148, 0.4238169719137659], 'best_metric_val': 0.8246202706434688, 'confusion_matrix': [[64, 4, 2], [9, 25, 0], [1, 4, 16]]}\n",
      "Fold: 1 | Epoch: 6 | Metric: 0.8185567887060424 | Training Loss: 0.16461429696157576 | Validation Loss: 0.4238169719137659\n",
      "\n"
     ]
    },
    {
     "data": {
      "application/vnd.jupyter.widget-view+json": {
       "model_id": "082e3bbf8b2243b7896c3dc495d10b7c",
       "version_major": 2,
       "version_minor": 0
      },
      "text/plain": [
       "  0%|          | 0/125 [00:00<?, ?it/s]"
      ]
     },
     "metadata": {},
     "output_type": "display_data"
    },
    {
     "data": {
      "application/vnd.jupyter.widget-view+json": {
       "model_id": "08a144e261be4d698a7e20f911745abe",
       "version_major": 2,
       "version_minor": 0
      },
      "text/plain": [
       "  0%|          | 0/32 [00:00<?, ?it/s]"
      ]
     },
     "metadata": {},
     "output_type": "display_data"
    },
    {
     "name": "stdout",
     "output_type": "stream",
     "text": [
      "{'metric_train': {'f1': [0.2838077656353877, 0.6107458120632708, 0.781875803574862, 0.8684895700162154, 0.90628303488741, 0.9390965658845474, 0.9400666140667968, 0.9693821301346902], 'accuracy': [0.5602409638554217, 0.6987951807228916, 0.821285140562249, 0.8875502008032129, 0.9156626506024096, 0.9417670682730924, 0.9457831325301205, 0.9759036144578314], 'precision': [0.3210233029381966, 0.7014519867744479, 0.8088910645164215, 0.8806932491512897, 0.9125125283363419, 0.9380105471791605, 0.9365983692029204, 0.9719842804949188], 'recall': [0.34755434298043825, 0.5837706890384677, 0.7625947848780554, 0.8584375193398389, 0.9005746095581548, 0.9402241375874162, 0.9439064429066978, 0.966857678715845], 'auc_roc': [0.5122642171690456, 0.691363520291814, 0.8256513674117629, 0.8945828431266428, 0.9245184595593382, 0.9534130627459674, 0.9566904226985603, 0.9763326733924741]}, 'metric_val': {'f1': [0.36066547831253715, 0.736247228833478, 0.8246202706434688, 0.7433544779484712, 0.7923076923076923, 0.8000104583366016, 0.8185567887060424, 0.8130365659777423], 'accuracy': [0.616, 0.776, 0.832, 0.792, 0.8, 0.832, 0.84, 0.832], 'precision': [0.49109686609686615, 0.7378131808278866, 0.8355549822268089, 0.833888888888889, 0.7960976488141173, 0.8009757068896853, 0.837109837109837, 0.8170653907496012], 'recall': [0.40196078431372545, 0.7677871148459384, 0.8152194211017741, 0.7186741363211951, 0.8001867413632119, 0.8445378151260504, 0.8038281979458449, 0.8141923436041082], 'auc_roc': [0.5567246479011185, 0.8290817026111145, 0.8564192343604109, 0.7961336049571344, 0.846601029689265, 0.8848438326379503, 0.8537539258127493, 0.8621286393345217]}, 'train_loss': [0.9228727581501007, 0.6665012748241425, 0.5130507299900054, 0.32667734879255295, 0.23549548848718405, 0.20160925036668778, 0.16461429696157576, 0.09526851354911924], 'val_loss': [0.7848686119541526, 0.6629677973687649, 0.5160229977918789, 0.6384782114764675, 0.46507468495110516, 0.5605980917462148, 0.4238169719137659, 0.48747818872652715], 'best_metric_val': 0.8246202706434688, 'confusion_matrix': [[60, 8, 2], [5, 28, 1], [1, 4, 16]]}\n",
      "Fold: 1 | Epoch: 7 | Metric: 0.8130365659777423 | Training Loss: 0.09526851354911924 | Validation Loss: 0.48747818872652715\n",
      "\n"
     ]
    },
    {
     "data": {
      "application/vnd.jupyter.widget-view+json": {
       "model_id": "fc13204875a0487788e12046d8a94c86",
       "version_major": 2,
       "version_minor": 0
      },
      "text/plain": [
       "  0%|          | 0/125 [00:00<?, ?it/s]"
      ]
     },
     "metadata": {},
     "output_type": "display_data"
    },
    {
     "data": {
      "application/vnd.jupyter.widget-view+json": {
       "model_id": "d6d1ba6c20ae476e949e57de31f57e90",
       "version_major": 2,
       "version_minor": 0
      },
      "text/plain": [
       "  0%|          | 0/32 [00:00<?, ?it/s]"
      ]
     },
     "metadata": {},
     "output_type": "display_data"
    },
    {
     "name": "stdout",
     "output_type": "stream",
     "text": [
      "\n",
      "New Best Score!\n",
      "{'metric_train': {'f1': [0.2838077656353877, 0.6107458120632708, 0.781875803574862, 0.8684895700162154, 0.90628303488741, 0.9390965658845474, 0.9400666140667968, 0.9693821301346902, 0.9824819401444788], 'accuracy': [0.5602409638554217, 0.6987951807228916, 0.821285140562249, 0.8875502008032129, 0.9156626506024096, 0.9417670682730924, 0.9457831325301205, 0.9759036144578314, 0.9839357429718876], 'precision': [0.3210233029381966, 0.7014519867744479, 0.8088910645164215, 0.8806932491512897, 0.9125125283363419, 0.9380105471791605, 0.9365983692029204, 0.9719842804949188, 0.9837577153151781], 'recall': [0.34755434298043825, 0.5837706890384677, 0.7625947848780554, 0.8584375193398389, 0.9005746095581548, 0.9402241375874162, 0.9439064429066978, 0.966857678715845, 0.9812511341668214], 'auc_roc': [0.5122642171690456, 0.691363520291814, 0.8256513674117629, 0.8945828431266428, 0.9245184595593382, 0.9534130627459674, 0.9566904226985603, 0.9763326733924741, 0.985804249428334]}, 'metric_val': {'f1': [0.36066547831253715, 0.736247228833478, 0.8246202706434688, 0.7433544779484712, 0.7923076923076923, 0.8000104583366016, 0.8185567887060424, 0.8130365659777423, 0.8306438430102553], 'accuracy': [0.616, 0.776, 0.832, 0.792, 0.8, 0.832, 0.84, 0.832, 0.832], 'precision': [0.49109686609686615, 0.7378131808278866, 0.8355549822268089, 0.833888888888889, 0.7960976488141173, 0.8009757068896853, 0.837109837109837, 0.8170653907496012, 0.8171456055259055], 'recall': [0.40196078431372545, 0.7677871148459384, 0.8152194211017741, 0.7186741363211951, 0.8001867413632119, 0.8445378151260504, 0.8038281979458449, 0.8141923436041082, 0.8525676937441643], 'auc_roc': [0.5567246479011185, 0.8290817026111145, 0.8564192343604109, 0.7961336049571344, 0.846601029689265, 0.8848438326379503, 0.8537539258127493, 0.8621286393345217, 0.8827440533322886]}, 'train_loss': [0.9228727581501007, 0.6665012748241425, 0.5130507299900054, 0.32667734879255295, 0.23549548848718405, 0.20160925036668778, 0.16461429696157576, 0.09526851354911924, 0.07965453179180622], 'val_loss': [0.7848686119541526, 0.6629677973687649, 0.5160229977918789, 0.6384782114764675, 0.46507468495110516, 0.5605980917462148, 0.4238169719137659, 0.48747818872652715, 0.4194321305913036], 'best_metric_val': 0.8306438430102553, 'confusion_matrix': [[56, 11, 3], [4, 29, 1], [1, 1, 19]]}\n",
      "Fold: 1 | Epoch: 8 | Metric: 0.8306438430102553 | Training Loss: 0.07965453179180622 | Validation Loss: 0.4194321305913036\n",
      "\n"
     ]
    },
    {
     "data": {
      "application/vnd.jupyter.widget-view+json": {
       "model_id": "7d514c71c87e4604a291e1e1b8c704df",
       "version_major": 2,
       "version_minor": 0
      },
      "text/plain": [
       "  0%|          | 0/125 [00:00<?, ?it/s]"
      ]
     },
     "metadata": {},
     "output_type": "display_data"
    },
    {
     "data": {
      "application/vnd.jupyter.widget-view+json": {
       "model_id": "81625e720113488a963174b74c52f362",
       "version_major": 2,
       "version_minor": 0
      },
      "text/plain": [
       "  0%|          | 0/32 [00:00<?, ?it/s]"
      ]
     },
     "metadata": {},
     "output_type": "display_data"
    },
    {
     "name": "stdout",
     "output_type": "stream",
     "text": [
      "{'metric_train': {'f1': [0.2838077656353877, 0.6107458120632708, 0.781875803574862, 0.8684895700162154, 0.90628303488741, 0.9390965658845474, 0.9400666140667968, 0.9693821301346902, 0.9824819401444788, 0.9738370412691005], 'accuracy': [0.5602409638554217, 0.6987951807228916, 0.821285140562249, 0.8875502008032129, 0.9156626506024096, 0.9417670682730924, 0.9457831325301205, 0.9759036144578314, 0.9839357429718876, 0.9779116465863453], 'precision': [0.3210233029381966, 0.7014519867744479, 0.8088910645164215, 0.8806932491512897, 0.9125125283363419, 0.9380105471791605, 0.9365983692029204, 0.9719842804949188, 0.9837577153151781, 0.981471705814369], 'recall': [0.34755434298043825, 0.5837706890384677, 0.7625947848780554, 0.8584375193398389, 0.9005746095581548, 0.9402241375874162, 0.9439064429066978, 0.966857678715845, 0.9812511341668214, 0.9667596027872444], 'auc_roc': [0.5122642171690456, 0.691363520291814, 0.8256513674117629, 0.8945828431266428, 0.9245184595593382, 0.9534130627459674, 0.9566904226985603, 0.9763326733924741, 0.985804249428334, 0.9759722191659796]}, 'metric_val': {'f1': [0.36066547831253715, 0.736247228833478, 0.8246202706434688, 0.7433544779484712, 0.7923076923076923, 0.8000104583366016, 0.8185567887060424, 0.8130365659777423, 0.8306438430102553, 0.8259895143616074], 'accuracy': [0.616, 0.776, 0.832, 0.792, 0.8, 0.832, 0.84, 0.832, 0.832, 0.832], 'precision': [0.49109686609686615, 0.7378131808278866, 0.8355549822268089, 0.833888888888889, 0.7960976488141173, 0.8009757068896853, 0.837109837109837, 0.8170653907496012, 0.8171456055259055, 0.8163965233732676], 'recall': [0.40196078431372545, 0.7677871148459384, 0.8152194211017741, 0.7186741363211951, 0.8001867413632119, 0.8445378151260504, 0.8038281979458449, 0.8141923436041082, 0.8525676937441643, 0.8464985994397759], 'auc_roc': [0.5567246479011185, 0.8290817026111145, 0.8564192343604109, 0.7961336049571344, 0.846601029689265, 0.8848438326379503, 0.8537539258127493, 0.8621286393345217, 0.8827440533322886, 0.8809083073788958]}, 'train_loss': [0.9228727581501007, 0.6665012748241425, 0.5130507299900054, 0.32667734879255295, 0.23549548848718405, 0.20160925036668778, 0.16461429696157576, 0.09526851354911924, 0.07965453179180622, 0.06369100630376488], 'val_loss': [0.7848686119541526, 0.6629677973687649, 0.5160229977918789, 0.6384782114764675, 0.46507468495110516, 0.5605980917462148, 0.4238169719137659, 0.48747818872652715, 0.4194321305913036, 0.4207713160503772], 'best_metric_val': 0.8306438430102553, 'confusion_matrix': [[56, 11, 3], [3, 30, 1], [1, 2, 18]]}\n",
      "Fold: 1 | Epoch: 9 | Metric: 0.8259895143616074 | Training Loss: 0.06369100630376488 | Validation Loss: 0.4207713160503772\n",
      "\n"
     ]
    },
    {
     "data": {
      "application/vnd.jupyter.widget-view+json": {
       "model_id": "6cc5fe15e0c14d8aa2a122c517e8001b",
       "version_major": 2,
       "version_minor": 0
      },
      "text/plain": [
       "  0%|          | 0/125 [00:00<?, ?it/s]"
      ]
     },
     "metadata": {},
     "output_type": "display_data"
    },
    {
     "data": {
      "application/vnd.jupyter.widget-view+json": {
       "model_id": "eaad69df028f453db627162d838090fe",
       "version_major": 2,
       "version_minor": 0
      },
      "text/plain": [
       "  0%|          | 0/32 [00:00<?, ?it/s]"
      ]
     },
     "metadata": {},
     "output_type": "display_data"
    },
    {
     "name": "stdout",
     "output_type": "stream",
     "text": [
      "\n",
      "New Best Score!\n",
      "{'metric_train': {'f1': [0.2838077656353877, 0.6107458120632708, 0.781875803574862, 0.8684895700162154, 0.90628303488741, 0.9390965658845474, 0.9400666140667968, 0.9693821301346902, 0.9824819401444788, 0.9738370412691005, 0.9905148078758672], 'accuracy': [0.5602409638554217, 0.6987951807228916, 0.821285140562249, 0.8875502008032129, 0.9156626506024096, 0.9417670682730924, 0.9457831325301205, 0.9759036144578314, 0.9839357429718876, 0.9779116465863453, 0.9919678714859438], 'precision': [0.3210233029381966, 0.7014519867744479, 0.8088910645164215, 0.8806932491512897, 0.9125125283363419, 0.9380105471791605, 0.9365983692029204, 0.9719842804949188, 0.9837577153151781, 0.981471705814369, 0.9885755567786183], 'recall': [0.34755434298043825, 0.5837706890384677, 0.7625947848780554, 0.8584375193398389, 0.9005746095581548, 0.9402241375874162, 0.9439064429066978, 0.966857678715845, 0.9812511341668214, 0.9667596027872444, 0.992494201981868], 'auc_roc': [0.5122642171690456, 0.691363520291814, 0.8256513674117629, 0.8945828431266428, 0.9245184595593382, 0.9534130627459674, 0.9566904226985603, 0.9763326733924741, 0.985804249428334, 0.9759722191659796, 0.9942210880234303]}, 'metric_val': {'f1': [0.36066547831253715, 0.736247228833478, 0.8246202706434688, 0.7433544779484712, 0.7923076923076923, 0.8000104583366016, 0.8185567887060424, 0.8130365659777423, 0.8306438430102553, 0.8259895143616074, 0.83866572703782], 'accuracy': [0.616, 0.776, 0.832, 0.792, 0.8, 0.832, 0.84, 0.832, 0.832, 0.832, 0.848], 'precision': [0.49109686609686615, 0.7378131808278866, 0.8355549822268089, 0.833888888888889, 0.7960976488141173, 0.8009757068896853, 0.837109837109837, 0.8170653907496012, 0.8171456055259055, 0.8163965233732676, 0.8284576687409103], 'recall': [0.40196078431372545, 0.7677871148459384, 0.8152194211017741, 0.7186741363211951, 0.8001867413632119, 0.8445378151260504, 0.8038281979458449, 0.8141923436041082, 0.8525676937441643, 0.8464985994397759, 0.8560224089635855], 'auc_roc': [0.5567246479011185, 0.8290817026111145, 0.8564192343604109, 0.7961336049571344, 0.846601029689265, 0.8848438326379503, 0.8537539258127493, 0.8621286393345217, 0.8827440533322886, 0.8809083073788958, 0.8893332158038042]}, 'train_loss': [0.9228727581501007, 0.6665012748241425, 0.5130507299900054, 0.32667734879255295, 0.23549548848718405, 0.20160925036668778, 0.16461429696157576, 0.09526851354911924, 0.07965453179180622, 0.06369100630376488, 0.045079065552912655], 'val_loss': [0.7848686119541526, 0.6629677973687649, 0.5160229977918789, 0.6384782114764675, 0.46507468495110516, 0.5605980917462148, 0.4238169719137659, 0.48747818872652715, 0.4194321305913036, 0.4207713160503772, 0.43607988476287574], 'best_metric_val': 0.83866572703782, 'confusion_matrix': [[58, 9, 3], [3, 30, 1], [1, 2, 18]]}\n",
      "Fold: 1 | Epoch: 10 | Metric: 0.83866572703782 | Training Loss: 0.045079065552912655 | Validation Loss: 0.43607988476287574\n",
      "\n"
     ]
    },
    {
     "data": {
      "application/vnd.jupyter.widget-view+json": {
       "model_id": "b0e0c4a78c14414cbb1c2dea8437afd3",
       "version_major": 2,
       "version_minor": 0
      },
      "text/plain": [
       "  0%|          | 0/125 [00:00<?, ?it/s]"
      ]
     },
     "metadata": {},
     "output_type": "display_data"
    },
    {
     "data": {
      "application/vnd.jupyter.widget-view+json": {
       "model_id": "64f431f062d840299e73e48b0a4e3479",
       "version_major": 2,
       "version_minor": 0
      },
      "text/plain": [
       "  0%|          | 0/32 [00:00<?, ?it/s]"
      ]
     },
     "metadata": {},
     "output_type": "display_data"
    },
    {
     "name": "stdout",
     "output_type": "stream",
     "text": [
      "\n",
      "New Best Score!\n",
      "{'metric_train': {'f1': [0.2838077656353877, 0.6107458120632708, 0.781875803574862, 0.8684895700162154, 0.90628303488741, 0.9390965658845474, 0.9400666140667968, 0.9693821301346902, 0.9824819401444788, 0.9738370412691005, 0.9905148078758672, 0.9886554470812374], 'accuracy': [0.5602409638554217, 0.6987951807228916, 0.821285140562249, 0.8875502008032129, 0.9156626506024096, 0.9417670682730924, 0.9457831325301205, 0.9759036144578314, 0.9839357429718876, 0.9779116465863453, 0.9919678714859438, 0.9899598393574297], 'precision': [0.3210233029381966, 0.7014519867744479, 0.8088910645164215, 0.8806932491512897, 0.9125125283363419, 0.9380105471791605, 0.9365983692029204, 0.9719842804949188, 0.9837577153151781, 0.981471705814369, 0.9885755567786183, 0.9913670061664241], 'recall': [0.34755434298043825, 0.5837706890384677, 0.7625947848780554, 0.8584375193398389, 0.9005746095581548, 0.9402241375874162, 0.9439064429066978, 0.966857678715845, 0.9812511341668214, 0.9667596027872444, 0.992494201981868, 0.9861281826163301], 'auc_roc': [0.5122642171690456, 0.691363520291814, 0.8256513674117629, 0.8945828431266428, 0.9245184595593382, 0.9534130627459674, 0.9566904226985603, 0.9763326733924741, 0.985804249428334, 0.9759722191659796, 0.9942210880234303, 0.9896164000267147]}, 'metric_val': {'f1': [0.36066547831253715, 0.736247228833478, 0.8246202706434688, 0.7433544779484712, 0.7923076923076923, 0.8000104583366016, 0.8185567887060424, 0.8130365659777423, 0.8306438430102553, 0.8259895143616074, 0.83866572703782, 0.842069342069342], 'accuracy': [0.616, 0.776, 0.832, 0.792, 0.8, 0.832, 0.84, 0.832, 0.832, 0.832, 0.848, 0.848], 'precision': [0.49109686609686615, 0.7378131808278866, 0.8355549822268089, 0.833888888888889, 0.7960976488141173, 0.8009757068896853, 0.837109837109837, 0.8170653907496012, 0.8171456055259055, 0.8163965233732676, 0.8284576687409103, 0.8288569424964937], 'recall': [0.40196078431372545, 0.7677871148459384, 0.8152194211017741, 0.7186741363211951, 0.8001867413632119, 0.8445378151260504, 0.8038281979458449, 0.8141923436041082, 0.8525676937441643, 0.8464985994397759, 0.8560224089635855, 0.8620915032679739], 'auc_roc': [0.5567246479011185, 0.8290817026111145, 0.8564192343604109, 0.7961336049571344, 0.846601029689265, 0.8848438326379503, 0.8537539258127493, 0.8621286393345217, 0.8827440533322886, 0.8809083073788958, 0.8893332158038042, 0.8923677629559984]}, 'train_loss': [0.9228727581501007, 0.6665012748241425, 0.5130507299900054, 0.32667734879255295, 0.23549548848718405, 0.20160925036668778, 0.16461429696157576, 0.09526851354911924, 0.07965453179180622, 0.06369100630376488, 0.045079065552912655, 0.04932022840995341], 'val_loss': [0.7848686119541526, 0.6629677973687649, 0.5160229977918789, 0.6384782114764675, 0.46507468495110516, 0.5605980917462148, 0.4238169719137659, 0.48747818872652715, 0.4194321305913036, 0.4207713160503772, 0.43607988476287574, 0.4488597153904266], 'best_metric_val': 0.842069342069342, 'confusion_matrix': [[58, 10, 2], [3, 29, 2], [1, 1, 19]]}\n",
      "Fold: 1 | Epoch: 11 | Metric: 0.842069342069342 | Training Loss: 0.04932022840995341 | Validation Loss: 0.4488597153904266\n",
      "\n"
     ]
    },
    {
     "data": {
      "application/vnd.jupyter.widget-view+json": {
       "model_id": "223b6484144a44559b73741303d2492a",
       "version_major": 2,
       "version_minor": 0
      },
      "text/plain": [
       "  0%|          | 0/125 [00:00<?, ?it/s]"
      ]
     },
     "metadata": {},
     "output_type": "display_data"
    },
    {
     "data": {
      "application/vnd.jupyter.widget-view+json": {
       "model_id": "55db775efe0a419ebf7df47f6045606f",
       "version_major": 2,
       "version_minor": 0
      },
      "text/plain": [
       "  0%|          | 0/32 [00:00<?, ?it/s]"
      ]
     },
     "metadata": {},
     "output_type": "display_data"
    },
    {
     "name": "stdout",
     "output_type": "stream",
     "text": [
      "{'metric_train': {'f1': [0.2838077656353877, 0.6107458120632708, 0.781875803574862, 0.8684895700162154, 0.90628303488741, 0.9390965658845474, 0.9400666140667968, 0.9693821301346902, 0.9824819401444788, 0.9738370412691005, 0.9905148078758672, 0.9886554470812374, 0.9949437483012898], 'accuracy': [0.5602409638554217, 0.6987951807228916, 0.821285140562249, 0.8875502008032129, 0.9156626506024096, 0.9417670682730924, 0.9457831325301205, 0.9759036144578314, 0.9839357429718876, 0.9779116465863453, 0.9919678714859438, 0.9899598393574297, 0.9959839357429718], 'precision': [0.3210233029381966, 0.7014519867744479, 0.8088910645164215, 0.8806932491512897, 0.9125125283363419, 0.9380105471791605, 0.9365983692029204, 0.9719842804949188, 0.9837577153151781, 0.981471705814369, 0.9885755567786183, 0.9913670061664241, 0.996321961620469], 'recall': [0.34755434298043825, 0.5837706890384677, 0.7625947848780554, 0.8584375193398389, 0.9005746095581548, 0.9402241375874162, 0.9439064429066978, 0.966857678715845, 0.9812511341668214, 0.9667596027872444, 0.992494201981868, 0.9861281826163301, 0.9935908691834943], 'auc_roc': [0.5122642171690456, 0.691363520291814, 0.8256513674117629, 0.8945828431266428, 0.9245184595593382, 0.9534130627459674, 0.9566904226985603, 0.9763326733924741, 0.985804249428334, 0.9759722191659796, 0.9942210880234303, 0.9896164000267147, 0.9955765241262613]}, 'metric_val': {'f1': [0.36066547831253715, 0.736247228833478, 0.8246202706434688, 0.7433544779484712, 0.7923076923076923, 0.8000104583366016, 0.8185567887060424, 0.8130365659777423, 0.8306438430102553, 0.8259895143616074, 0.83866572703782, 0.842069342069342, 0.8334757834757834], 'accuracy': [0.616, 0.776, 0.832, 0.792, 0.8, 0.832, 0.84, 0.832, 0.832, 0.832, 0.848, 0.848, 0.84], 'precision': [0.49109686609686615, 0.7378131808278866, 0.8355549822268089, 0.833888888888889, 0.7960976488141173, 0.8009757068896853, 0.837109837109837, 0.8170653907496012, 0.8171456055259055, 0.8163965233732676, 0.8284576687409103, 0.8288569424964937, 0.8124106562703055], 'recall': [0.40196078431372545, 0.7677871148459384, 0.8152194211017741, 0.7186741363211951, 0.8001867413632119, 0.8445378151260504, 0.8038281979458449, 0.8141923436041082, 0.8525676937441643, 0.8464985994397759, 0.8560224089635855, 0.8620915032679739, 0.8684407096171801], 'auc_roc': [0.5567246479011185, 0.8290817026111145, 0.8564192343604109, 0.7961336049571344, 0.846601029689265, 0.8848438326379503, 0.8537539258127493, 0.8621286393345217, 0.8827440533322886, 0.8809083073788958, 0.8893332158038042, 0.8923677629559984, 0.8943976774859128]}, 'train_loss': [0.9228727581501007, 0.6665012748241425, 0.5130507299900054, 0.32667734879255295, 0.23549548848718405, 0.20160925036668778, 0.16461429696157576, 0.09526851354911924, 0.07965453179180622, 0.06369100630376488, 0.045079065552912655, 0.04932022840995341, 0.037709546190686526], 'val_loss': [0.7848686119541526, 0.6629677973687649, 0.5160229977918789, 0.6384782114764675, 0.46507468495110516, 0.5605980917462148, 0.4238169719137659, 0.48747818872652715, 0.4194321305913036, 0.4207713160503772, 0.43607988476287574, 0.4488597153904266, 0.4633524390301318], 'best_metric_val': 0.842069342069342, 'confusion_matrix': [[56, 9, 5], [3, 29, 2], [1, 0, 20]]}\n",
      "Fold: 1 | Epoch: 12 | Metric: 0.8334757834757834 | Training Loss: 0.037709546190686526 | Validation Loss: 0.4633524390301318\n",
      "\n"
     ]
    },
    {
     "data": {
      "application/vnd.jupyter.widget-view+json": {
       "model_id": "6509547f0281448a97961d1074989dfe",
       "version_major": 2,
       "version_minor": 0
      },
      "text/plain": [
       "  0%|          | 0/125 [00:00<?, ?it/s]"
      ]
     },
     "metadata": {},
     "output_type": "display_data"
    },
    {
     "data": {
      "application/vnd.jupyter.widget-view+json": {
       "model_id": "dd2160c6962f454fb1e52777e42e5745",
       "version_major": 2,
       "version_minor": 0
      },
      "text/plain": [
       "  0%|          | 0/32 [00:00<?, ?it/s]"
      ]
     },
     "metadata": {},
     "output_type": "display_data"
    },
    {
     "name": "stdout",
     "output_type": "stream",
     "text": [
      "{'metric_train': {'f1': [0.2838077656353877, 0.6107458120632708, 0.781875803574862, 0.8684895700162154, 0.90628303488741, 0.9390965658845474, 0.9400666140667968, 0.9693821301346902, 0.9824819401444788, 0.9738370412691005, 0.9905148078758672, 0.9886554470812374, 0.9949437483012898, 0.9879135515479925], 'accuracy': [0.5602409638554217, 0.6987951807228916, 0.821285140562249, 0.8875502008032129, 0.9156626506024096, 0.9417670682730924, 0.9457831325301205, 0.9759036144578314, 0.9839357429718876, 0.9779116465863453, 0.9919678714859438, 0.9899598393574297, 0.9959839357429718, 0.9899598393574297], 'precision': [0.3210233029381966, 0.7014519867744479, 0.8088910645164215, 0.8806932491512897, 0.9125125283363419, 0.9380105471791605, 0.9365983692029204, 0.9719842804949188, 0.9837577153151781, 0.981471705814369, 0.9885755567786183, 0.9913670061664241, 0.996321961620469, 0.9915030095338517], 'recall': [0.34755434298043825, 0.5837706890384677, 0.7625947848780554, 0.8584375193398389, 0.9005746095581548, 0.9402241375874162, 0.9439064429066978, 0.966857678715845, 0.9812511341668214, 0.9667596027872444, 0.992494201981868, 0.9861281826163301, 0.9935908691834943, 0.9845529887983653], 'auc_roc': [0.5122642171690456, 0.691363520291814, 0.8256513674117629, 0.8945828431266428, 0.9245184595593382, 0.9534130627459674, 0.9566904226985603, 0.9763326733924741, 0.985804249428334, 0.9759722191659796, 0.9942210880234303, 0.9896164000267147, 0.9955765241262613, 0.9890776384606007]}, 'metric_val': {'f1': [0.36066547831253715, 0.736247228833478, 0.8246202706434688, 0.7433544779484712, 0.7923076923076923, 0.8000104583366016, 0.8185567887060424, 0.8130365659777423, 0.8306438430102553, 0.8259895143616074, 0.83866572703782, 0.842069342069342, 0.8334757834757834, 0.8144205209994683], 'accuracy': [0.616, 0.776, 0.832, 0.792, 0.8, 0.832, 0.84, 0.832, 0.832, 0.832, 0.848, 0.848, 0.84, 0.832], 'precision': [0.49109686609686615, 0.7378131808278866, 0.8355549822268089, 0.833888888888889, 0.7960976488141173, 0.8009757068896853, 0.837109837109837, 0.8170653907496012, 0.8171456055259055, 0.8163965233732676, 0.8284576687409103, 0.8288569424964937, 0.8124106562703055, 0.8305832852074911], 'recall': [0.40196078431372545, 0.7677871148459384, 0.8152194211017741, 0.7186741363211951, 0.8001867413632119, 0.8445378151260504, 0.8038281979458449, 0.8141923436041082, 0.8525676937441643, 0.8464985994397759, 0.8560224089635855, 0.8620915032679739, 0.8684407096171801, 0.8182072829131654], 'auc_roc': [0.5567246479011185, 0.8290817026111145, 0.8564192343604109, 0.7961336049571344, 0.846601029689265, 0.8848438326379503, 0.8537539258127493, 0.8621286393345217, 0.8827440533322886, 0.8809083073788958, 0.8893332158038042, 0.8923677629559984, 0.8943976774859128, 0.8663047736577149]}, 'train_loss': [0.9228727581501007, 0.6665012748241425, 0.5130507299900054, 0.32667734879255295, 0.23549548848718405, 0.20160925036668778, 0.16461429696157576, 0.09526851354911924, 0.07965453179180622, 0.06369100630376488, 0.045079065552912655, 0.04932022840995341, 0.037709546190686526, 0.054644102158024906], 'val_loss': [0.7848686119541526, 0.6629677973687649, 0.5160229977918789, 0.6384782114764675, 0.46507468495110516, 0.5605980917462148, 0.4238169719137659, 0.48747818872652715, 0.4194321305913036, 0.4207713160503772, 0.43607988476287574, 0.4488597153904266, 0.4633524390301318, 0.4995753719849745], 'best_metric_val': 0.842069342069342, 'confusion_matrix': [[58, 10, 2], [3, 31, 0], [1, 5, 15]]}\n",
      "Fold: 1 | Epoch: 13 | Metric: 0.8144205209994683 | Training Loss: 0.054644102158024906 | Validation Loss: 0.4995753719849745\n",
      "\n"
     ]
    },
    {
     "data": {
      "application/vnd.jupyter.widget-view+json": {
       "model_id": "997747a141674d5dbf0d8152486c1498",
       "version_major": 2,
       "version_minor": 0
      },
      "text/plain": [
       "  0%|          | 0/125 [00:00<?, ?it/s]"
      ]
     },
     "metadata": {},
     "output_type": "display_data"
    },
    {
     "data": {
      "application/vnd.jupyter.widget-view+json": {
       "model_id": "db0cbf99ff6548a59d6d3434f945178e",
       "version_major": 2,
       "version_minor": 0
      },
      "text/plain": [
       "  0%|          | 0/32 [00:00<?, ?it/s]"
      ]
     },
     "metadata": {},
     "output_type": "display_data"
    },
    {
     "name": "stdout",
     "output_type": "stream",
     "text": [
      "\n",
      "New Best Score!\n",
      "{'metric_train': {'f1': [0.2838077656353877, 0.6107458120632708, 0.781875803574862, 0.8684895700162154, 0.90628303488741, 0.9390965658845474, 0.9400666140667968, 0.9693821301346902, 0.9824819401444788, 0.9738370412691005, 0.9905148078758672, 0.9886554470812374, 0.9949437483012898, 0.9879135515479925, 0.9955937129090154], 'accuracy': [0.5602409638554217, 0.6987951807228916, 0.821285140562249, 0.8875502008032129, 0.9156626506024096, 0.9417670682730924, 0.9457831325301205, 0.9759036144578314, 0.9839357429718876, 0.9779116465863453, 0.9919678714859438, 0.9899598393574297, 0.9959839357429718, 0.9899598393574297, 0.9959839357429718], 'precision': [0.3210233029381966, 0.7014519867744479, 0.8088910645164215, 0.8806932491512897, 0.9125125283363419, 0.9380105471791605, 0.9365983692029204, 0.9719842804949188, 0.9837577153151781, 0.981471705814369, 0.9885755567786183, 0.9913670061664241, 0.996321961620469, 0.9915030095338517, 0.9963361210673037], 'recall': [0.34755434298043825, 0.5837706890384677, 0.7625947848780554, 0.8584375193398389, 0.9005746095581548, 0.9402241375874162, 0.9439064429066978, 0.966857678715845, 0.9812511341668214, 0.9667596027872444, 0.992494201981868, 0.9861281826163301, 0.9935908691834943, 0.9845529887983653, 0.994883688242322], 'auc_roc': [0.5122642171690456, 0.691363520291814, 0.8256513674117629, 0.8945828431266428, 0.9245184595593382, 0.9534130627459674, 0.9566904226985603, 0.9763326733924741, 0.985804249428334, 0.9759722191659796, 0.9942210880234303, 0.9896164000267147, 0.9955765241262613, 0.9890776384606007, 0.9962229336556753]}, 'metric_val': {'f1': [0.36066547831253715, 0.736247228833478, 0.8246202706434688, 0.7433544779484712, 0.7923076923076923, 0.8000104583366016, 0.8185567887060424, 0.8130365659777423, 0.8306438430102553, 0.8259895143616074, 0.83866572703782, 0.842069342069342, 0.8334757834757834, 0.8144205209994683, 0.8578948903182635], 'accuracy': [0.616, 0.776, 0.832, 0.792, 0.8, 0.832, 0.84, 0.832, 0.832, 0.832, 0.848, 0.848, 0.84, 0.832, 0.864], 'precision': [0.49109686609686615, 0.7378131808278866, 0.8355549822268089, 0.833888888888889, 0.7960976488141173, 0.8009757068896853, 0.837109837109837, 0.8170653907496012, 0.8171456055259055, 0.8163965233732676, 0.8284576687409103, 0.8288569424964937, 0.8124106562703055, 0.8305832852074911, 0.8400972400972401], 'recall': [0.40196078431372545, 0.7677871148459384, 0.8152194211017741, 0.7186741363211951, 0.8001867413632119, 0.8445378151260504, 0.8038281979458449, 0.8141923436041082, 0.8525676937441643, 0.8464985994397759, 0.8560224089635855, 0.8620915032679739, 0.8684407096171801, 0.8182072829131654, 0.8827264239028945], 'auc_roc': [0.5567246479011185, 0.8290817026111145, 0.8564192343604109, 0.7961336049571344, 0.846601029689265, 0.8848438326379503, 0.8537539258127493, 0.8621286393345217, 0.8827440533322886, 0.8809083073788958, 0.8893332158038042, 0.8923677629559984, 0.8943976774859128, 0.8663047736577149, 0.9065771646654]}, 'train_loss': [0.9228727581501007, 0.6665012748241425, 0.5130507299900054, 0.32667734879255295, 0.23549548848718405, 0.20160925036668778, 0.16461429696157576, 0.09526851354911924, 0.07965453179180622, 0.06369100630376488, 0.045079065552912655, 0.04932022840995341, 0.037709546190686526, 0.054644102158024906, 0.030235577968880534], 'val_loss': [0.7848686119541526, 0.6629677973687649, 0.5160229977918789, 0.6384782114764675, 0.46507468495110516, 0.5605980917462148, 0.4238169719137659, 0.48747818872652715, 0.4194321305913036, 0.4207713160503772, 0.43607988476287574, 0.4488597153904266, 0.4633524390301318, 0.4995753719849745, 0.43760257679787173], 'best_metric_val': 0.8578948903182635, 'confusion_matrix': [[59, 8, 3], [3, 29, 2], [1, 0, 20]]}\n",
      "Fold: 1 | Epoch: 14 | Metric: 0.8578948903182635 | Training Loss: 0.030235577968880534 | Validation Loss: 0.43760257679787173\n",
      "\n",
      "\n",
      "Fold: 3 / 5\n"
     ]
    },
    {
     "data": {
      "application/vnd.jupyter.widget-view+json": {
       "model_id": "c6ab07fb1c374265a1466d0f1481e8b8",
       "version_major": 2,
       "version_minor": 0
      },
      "text/plain": [
       "  0%|          | 0/125 [00:00<?, ?it/s]"
      ]
     },
     "metadata": {},
     "output_type": "display_data"
    },
    {
     "data": {
      "application/vnd.jupyter.widget-view+json": {
       "model_id": "ec72cd1727044b8c8585dbfa3490f775",
       "version_major": 2,
       "version_minor": 0
      },
      "text/plain": [
       "  0%|          | 0/32 [00:00<?, ?it/s]"
      ]
     },
     "metadata": {},
     "output_type": "display_data"
    },
    {
     "name": "stdout",
     "output_type": "stream",
     "text": [
      "\n",
      "New Best Score!\n",
      "{'metric_train': {'f1': [0.3196102535462035], 'accuracy': [0.5642570281124498], 'precision': [0.45919189156333573], 'recall': [0.36315924219150025], 'auc_roc': [0.523718044695]}, 'metric_val': {'f1': [0.37497481205921107], 'accuracy': [0.608], 'precision': [0.8156288156288157], 'recall': [0.40432900432900437], 'auc_roc': [0.5548983625070582]}, 'train_loss': [0.9121290426254273], 'val_loss': [0.814289266243577], 'best_metric_val': 0.37497481205921107, 'confusion_matrix': [[69, 1, 0], [27, 6, 0], [21, 0, 1]]}\n",
      "Fold: 2 | Epoch: 0 | Metric: 0.37497481205921107 | Training Loss: 0.9121290426254273 | Validation Loss: 0.814289266243577\n",
      "\n"
     ]
    },
    {
     "data": {
      "application/vnd.jupyter.widget-view+json": {
       "model_id": "9f3b8952f7444a44bee84831b5ba237b",
       "version_major": 2,
       "version_minor": 0
      },
      "text/plain": [
       "  0%|          | 0/125 [00:00<?, ?it/s]"
      ]
     },
     "metadata": {},
     "output_type": "display_data"
    },
    {
     "data": {
      "application/vnd.jupyter.widget-view+json": {
       "model_id": "1636d5dd2fd64ffeb9ff623517b1946b",
       "version_major": 2,
       "version_minor": 0
      },
      "text/plain": [
       "  0%|          | 0/32 [00:00<?, ?it/s]"
      ]
     },
     "metadata": {},
     "output_type": "display_data"
    },
    {
     "name": "stdout",
     "output_type": "stream",
     "text": [
      "\n",
      "New Best Score!\n",
      "{'metric_train': {'f1': [0.3196102535462035, 0.6829243216924565], 'accuracy': [0.5642570281124498, 0.751004016064257], 'precision': [0.45919189156333573, 0.7754203056928911], 'recall': [0.36315924219150025, 0.6484070091596974], 'auc_roc': [0.523718044695, 0.7404956242533101]}, 'metric_val': {'f1': [0.37497481205921107, 0.7371138953439034], 'accuracy': [0.608, 0.76], 'precision': [0.8156288156288157, 0.7634209672184357], 'recall': [0.40432900432900437, 0.7200577200577202], 'auc_roc': [0.5548983625070582, 0.7832994511234275]}, 'train_loss': [0.9121290426254273, 0.6296242067813873], 'val_loss': [0.814289266243577, 0.5566167861688882], 'best_metric_val': 0.7371138953439034, 'confusion_matrix': [[60, 7, 3], [13, 19, 1], [6, 0, 16]]}\n",
      "Fold: 2 | Epoch: 1 | Metric: 0.7371138953439034 | Training Loss: 0.6296242067813873 | Validation Loss: 0.5566167861688882\n",
      "\n"
     ]
    },
    {
     "data": {
      "application/vnd.jupyter.widget-view+json": {
       "model_id": "dc7f0b8812b949d399785c802db80903",
       "version_major": 2,
       "version_minor": 0
      },
      "text/plain": [
       "  0%|          | 0/125 [00:00<?, ?it/s]"
      ]
     },
     "metadata": {},
     "output_type": "display_data"
    },
    {
     "data": {
      "application/vnd.jupyter.widget-view+json": {
       "model_id": "2bb2e7f89d6c45c1b037f2f2efe0006e",
       "version_major": 2,
       "version_minor": 0
      },
      "text/plain": [
       "  0%|          | 0/32 [00:00<?, ?it/s]"
      ]
     },
     "metadata": {},
     "output_type": "display_data"
    },
    {
     "name": "stdout",
     "output_type": "stream",
     "text": [
      "{'metric_train': {'f1': [0.3196102535462035, 0.6829243216924565, 0.8423877211574627], 'accuracy': [0.5642570281124498, 0.751004016064257, 0.8654618473895582], 'precision': [0.45919189156333573, 0.7754203056928911, 0.8444962982168064], 'recall': [0.36315924219150025, 0.6484070091596974, 0.8411674347158217], 'auc_roc': [0.523718044695, 0.7404956242533101, 0.8818392510185559]}, 'metric_val': {'f1': [0.37497481205921107, 0.7371138953439034, 0.678810276420324], 'accuracy': [0.608, 0.76, 0.712], 'precision': [0.8156288156288157, 0.7634209672184357, 0.7127424907745273], 'recall': [0.40432900432900437, 0.7200577200577202, 0.7066378066378066], 'auc_roc': [0.5548983625070582, 0.7832994511234275, 0.7733033616634293]}, 'train_loss': [0.9121290426254273, 0.6296242067813873, 0.400060724645853], 'val_loss': [0.814289266243577, 0.5566167861688882, 0.6460074954666197], 'best_metric_val': 0.7371138953439034, 'confusion_matrix': [[54, 3, 13], [12, 16, 5], [3, 0, 19]]}\n",
      "Fold: 2 | Epoch: 2 | Metric: 0.678810276420324 | Training Loss: 0.400060724645853 | Validation Loss: 0.6460074954666197\n",
      "\n"
     ]
    },
    {
     "data": {
      "application/vnd.jupyter.widget-view+json": {
       "model_id": "8e82b9a8c1be4f16b0b044b25f9cfd82",
       "version_major": 2,
       "version_minor": 0
      },
      "text/plain": [
       "  0%|          | 0/125 [00:00<?, ?it/s]"
      ]
     },
     "metadata": {},
     "output_type": "display_data"
    },
    {
     "data": {
      "application/vnd.jupyter.widget-view+json": {
       "model_id": "3c475904fc3d44d8a27bc76c689728d7",
       "version_major": 2,
       "version_minor": 0
      },
      "text/plain": [
       "  0%|          | 0/32 [00:00<?, ?it/s]"
      ]
     },
     "metadata": {},
     "output_type": "display_data"
    },
    {
     "name": "stdout",
     "output_type": "stream",
     "text": [
      "\n",
      "New Best Score!\n",
      "{'metric_train': {'f1': [0.3196102535462035, 0.6829243216924565, 0.8423877211574627, 0.9114829816939816], 'accuracy': [0.5642570281124498, 0.751004016064257, 0.8654618473895582, 0.9216867469879518], 'precision': [0.45919189156333573, 0.7754203056928911, 0.8444962982168064, 0.9197768931465107], 'recall': [0.36315924219150025, 0.6484070091596974, 0.8411674347158217, 0.904005234112761], 'auc_roc': [0.523718044695, 0.7404956242533101, 0.8818392510185559, 0.9278504432344898]}, 'metric_val': {'f1': [0.37497481205921107, 0.7371138953439034, 0.678810276420324, 0.7741865342395613], 'accuracy': [0.608, 0.76, 0.712, 0.792], 'precision': [0.8156288156288157, 0.7634209672184357, 0.7127424907745273, 0.7922565033272838], 'recall': [0.40432900432900437, 0.7200577200577202, 0.7066378066378066, 0.7601731601731601], 'auc_roc': [0.5548983625070582, 0.7832994511234275, 0.7733033616634293, 0.8152849120768074]}, 'train_loss': [0.9121290426254273, 0.6296242067813873, 0.400060724645853, 0.2576829659640789], 'val_loss': [0.814289266243577, 0.5566167861688882, 0.6460074954666197, 0.5498532507044729], 'best_metric_val': 0.7741865342395613, 'confusion_matrix': [[61, 6, 3], [12, 21, 0], [3, 2, 17]]}\n",
      "Fold: 2 | Epoch: 3 | Metric: 0.7741865342395613 | Training Loss: 0.2576829659640789 | Validation Loss: 0.5498532507044729\n",
      "\n"
     ]
    },
    {
     "data": {
      "application/vnd.jupyter.widget-view+json": {
       "model_id": "f53432cfc724435f84345bad90a31eff",
       "version_major": 2,
       "version_minor": 0
      },
      "text/plain": [
       "  0%|          | 0/125 [00:00<?, ?it/s]"
      ]
     },
     "metadata": {},
     "output_type": "display_data"
    },
    {
     "data": {
      "application/vnd.jupyter.widget-view+json": {
       "model_id": "e4dcd7fc1f4d42a8bfb7fc5611a9ef49",
       "version_major": 2,
       "version_minor": 0
      },
      "text/plain": [
       "  0%|          | 0/32 [00:00<?, ?it/s]"
      ]
     },
     "metadata": {},
     "output_type": "display_data"
    },
    {
     "name": "stdout",
     "output_type": "stream",
     "text": [
      "{'metric_train': {'f1': [0.3196102535462035, 0.6829243216924565, 0.8423877211574627, 0.9114829816939816, 0.9098135970589484], 'accuracy': [0.5642570281124498, 0.751004016064257, 0.8654618473895582, 0.9216867469879518, 0.9236947791164659], 'precision': [0.45919189156333573, 0.7754203056928911, 0.8444962982168064, 0.9197768931465107, 0.9121758724762002], 'recall': [0.36315924219150025, 0.6484070091596974, 0.8411674347158217, 0.904005234112761, 0.9075240370939296], 'auc_roc': [0.523718044695, 0.7404956242533101, 0.8818392510185559, 0.9278504432344898, 0.9317481534717537]}, 'metric_val': {'f1': [0.37497481205921107, 0.7371138953439034, 0.678810276420324, 0.7741865342395613, 0.7007840199750311], 'accuracy': [0.608, 0.76, 0.712, 0.792, 0.72], 'precision': [0.8156288156288157, 0.7634209672184357, 0.7127424907745273, 0.7922565033272838, 0.7553030303030304], 'recall': [0.40432900432900437, 0.7200577200577202, 0.7066378066378066, 0.7601731601731601, 0.708080808080808], 'auc_roc': [0.5548983625070582, 0.7832994511234275, 0.7733033616634293, 0.8152849120768074, 0.7837092964256325]}, 'train_loss': [0.9121290426254273, 0.6296242067813873, 0.400060724645853, 0.2576829659640789, 0.22795444053411484], 'val_loss': [0.814289266243577, 0.5566167861688882, 0.6460074954666197, 0.5498532507044729, 0.7411408312036656], 'best_metric_val': 0.7741865342395613, 'confusion_matrix': [[49, 19, 2], [4, 29, 0], [2, 8, 12]]}\n",
      "Fold: 2 | Epoch: 4 | Metric: 0.7007840199750311 | Training Loss: 0.22795444053411484 | Validation Loss: 0.7411408312036656\n",
      "\n"
     ]
    },
    {
     "data": {
      "application/vnd.jupyter.widget-view+json": {
       "model_id": "67e7709f41784146bb206525ea1ef5bf",
       "version_major": 2,
       "version_minor": 0
      },
      "text/plain": [
       "  0%|          | 0/125 [00:00<?, ?it/s]"
      ]
     },
     "metadata": {},
     "output_type": "display_data"
    },
    {
     "data": {
      "application/vnd.jupyter.widget-view+json": {
       "model_id": "aa8c558f5d064253808089ae75eab789",
       "version_major": 2,
       "version_minor": 0
      },
      "text/plain": [
       "  0%|          | 0/32 [00:00<?, ?it/s]"
      ]
     },
     "metadata": {},
     "output_type": "display_data"
    },
    {
     "name": "stdout",
     "output_type": "stream",
     "text": [
      "\n",
      "New Best Score!\n",
      "{'metric_train': {'f1': [0.3196102535462035, 0.6829243216924565, 0.8423877211574627, 0.9114829816939816, 0.9098135970589484, 0.9394656670963704], 'accuracy': [0.5642570281124498, 0.751004016064257, 0.8654618473895582, 0.9216867469879518, 0.9236947791164659, 0.9457831325301205], 'precision': [0.45919189156333573, 0.7754203056928911, 0.8444962982168064, 0.9197768931465107, 0.9121758724762002, 0.9450273742529337], 'recall': [0.36315924219150025, 0.6484070091596974, 0.8411674347158217, 0.904005234112761, 0.9075240370939296, 0.9343090402230186], 'auc_roc': [0.523718044695, 0.7404956242533101, 0.8818392510185559, 0.9278504432344898, 0.9317481534717537, 0.9510028304934707]}, 'metric_val': {'f1': [0.37497481205921107, 0.7371138953439034, 0.678810276420324, 0.7741865342395613, 0.7007840199750311, 0.8180265311560276], 'accuracy': [0.608, 0.76, 0.712, 0.792, 0.72, 0.824], 'precision': [0.8156288156288157, 0.7634209672184357, 0.7127424907745273, 0.7922565033272838, 0.7553030303030304, 0.8098104793756967], 'recall': [0.40432900432900437, 0.7200577200577202, 0.7066378066378066, 0.7601731601731601, 0.708080808080808, 0.8314574314574315], 'auc_roc': [0.5548983625070582, 0.7832994511234275, 0.7733033616634293, 0.8152849120768074, 0.7837092964256325, 0.8646539111186642]}, 'train_loss': [0.9121290426254273, 0.6296242067813873, 0.400060724645853, 0.2576829659640789, 0.22795444053411484, 0.20317609941214324], 'val_loss': [0.814289266243577, 0.5566167861688882, 0.6460074954666197, 0.5498532507044729, 0.7411408312036656, 0.5241052461205982], 'best_metric_val': 0.8180265311560276, 'confusion_matrix': [[59, 7, 4], [9, 23, 1], [1, 0, 21]]}\n",
      "Fold: 2 | Epoch: 5 | Metric: 0.8180265311560276 | Training Loss: 0.20317609941214324 | Validation Loss: 0.5241052461205982\n",
      "\n"
     ]
    },
    {
     "data": {
      "application/vnd.jupyter.widget-view+json": {
       "model_id": "07591b5632144618b59a1247033a4974",
       "version_major": 2,
       "version_minor": 0
      },
      "text/plain": [
       "  0%|          | 0/125 [00:00<?, ?it/s]"
      ]
     },
     "metadata": {},
     "output_type": "display_data"
    },
    {
     "data": {
      "application/vnd.jupyter.widget-view+json": {
       "model_id": "c083878fc5264ec9a1990cd3ab37e905",
       "version_major": 2,
       "version_minor": 0
      },
      "text/plain": [
       "  0%|          | 0/32 [00:00<?, ?it/s]"
      ]
     },
     "metadata": {},
     "output_type": "display_data"
    },
    {
     "name": "stdout",
     "output_type": "stream",
     "text": [
      "{'metric_train': {'f1': [0.3196102535462035, 0.6829243216924565, 0.8423877211574627, 0.9114829816939816, 0.9098135970589484, 0.9394656670963704, 0.9487349413589762], 'accuracy': [0.5642570281124498, 0.751004016064257, 0.8654618473895582, 0.9216867469879518, 0.9236947791164659, 0.9457831325301205, 0.9558232931726908], 'precision': [0.45919189156333573, 0.7754203056928911, 0.8444962982168064, 0.9197768931465107, 0.9121758724762002, 0.9450273742529337, 0.9552728144977184], 'recall': [0.36315924219150025, 0.6484070091596974, 0.8411674347158217, 0.904005234112761, 0.9075240370939296, 0.9343090402230186, 0.942831541218638], 'auc_roc': [0.523718044695, 0.7404956242533101, 0.8818392510185559, 0.9278504432344898, 0.9317481534717537, 0.9510028304934707, 0.9584088993264176]}, 'metric_val': {'f1': [0.37497481205921107, 0.7371138953439034, 0.678810276420324, 0.7741865342395613, 0.7007840199750311, 0.8180265311560276, 0.8142249051930964], 'accuracy': [0.608, 0.76, 0.712, 0.792, 0.72, 0.824, 0.832], 'precision': [0.8156288156288157, 0.7634209672184357, 0.7127424907745273, 0.7922565033272838, 0.7553030303030304, 0.8098104793756967, 0.8320571495628704], 'recall': [0.40432900432900437, 0.7200577200577202, 0.7066378066378066, 0.7601731601731601, 0.708080808080808, 0.8314574314574315, 0.8050505050505051], 'auc_roc': [0.5548983625070582, 0.7832994511234275, 0.7733033616634293, 0.8152849120768074, 0.7837092964256325, 0.8646539111186642, 0.849605915635886]}, 'train_loss': [0.9121290426254273, 0.6296242067813873, 0.400060724645853, 0.2576829659640789, 0.22795444053411484, 0.20317609941214324, 0.14215326500311493], 'val_loss': [0.814289266243577, 0.5566167861688882, 0.6460074954666197, 0.5498532507044729, 0.7411408312036656, 0.5241052461205982, 0.5190850479448272], 'best_metric_val': 0.8180265311560276, 'confusion_matrix': [[63, 3, 4], [9, 23, 1], [4, 0, 18]]}\n",
      "Fold: 2 | Epoch: 6 | Metric: 0.8142249051930964 | Training Loss: 0.14215326500311493 | Validation Loss: 0.5190850479448272\n",
      "\n"
     ]
    },
    {
     "data": {
      "application/vnd.jupyter.widget-view+json": {
       "model_id": "5c3a0cf3015b4109b2db841ac699727b",
       "version_major": 2,
       "version_minor": 0
      },
      "text/plain": [
       "  0%|          | 0/125 [00:00<?, ?it/s]"
      ]
     },
     "metadata": {},
     "output_type": "display_data"
    },
    {
     "data": {
      "application/vnd.jupyter.widget-view+json": {
       "model_id": "d0e364e4c4684c4aa5a080f70fb0ad15",
       "version_major": 2,
       "version_minor": 0
      },
      "text/plain": [
       "  0%|          | 0/32 [00:00<?, ?it/s]"
      ]
     },
     "metadata": {},
     "output_type": "display_data"
    },
    {
     "name": "stdout",
     "output_type": "stream",
     "text": [
      "{'metric_train': {'f1': [0.3196102535462035, 0.6829243216924565, 0.8423877211574627, 0.9114829816939816, 0.9098135970589484, 0.9394656670963704, 0.9487349413589762, 0.9683155388024719], 'accuracy': [0.5642570281124498, 0.751004016064257, 0.8654618473895582, 0.9216867469879518, 0.9236947791164659, 0.9457831325301205, 0.9558232931726908, 0.9738955823293173], 'precision': [0.45919189156333573, 0.7754203056928911, 0.8444962982168064, 0.9197768931465107, 0.9121758724762002, 0.9450273742529337, 0.9552728144977184, 0.969653747264189], 'recall': [0.36315924219150025, 0.6484070091596974, 0.8411674347158217, 0.904005234112761, 0.9075240370939296, 0.9343090402230186, 0.942831541218638, 0.9670023325937304], 'auc_roc': [0.523718044695, 0.7404956242533101, 0.8818392510185559, 0.9278504432344898, 0.9317481534717537, 0.9510028304934707, 0.9584088993264176, 0.9761925776763484]}, 'metric_val': {'f1': [0.37497481205921107, 0.7371138953439034, 0.678810276420324, 0.7741865342395613, 0.7007840199750311, 0.8180265311560276, 0.8142249051930964, 0.8063569805684369], 'accuracy': [0.608, 0.76, 0.712, 0.792, 0.72, 0.824, 0.832, 0.816], 'precision': [0.8156288156288157, 0.7634209672184357, 0.7127424907745273, 0.7922565033272838, 0.7553030303030304, 0.8098104793756967, 0.8320571495628704, 0.7975441420349233], 'recall': [0.40432900432900437, 0.7200577200577202, 0.7066378066378066, 0.7601731601731601, 0.708080808080808, 0.8314574314574315, 0.8050505050505051, 0.8165945165945167], 'auc_roc': [0.5548983625070582, 0.7832994511234275, 0.7733033616634293, 0.8152849120768074, 0.7837092964256325, 0.8646539111186642, 0.849605915635886, 0.8566295683117128]}, 'train_loss': [0.9121290426254273, 0.6296242067813873, 0.400060724645853, 0.2576829659640789, 0.22795444053411484, 0.20317609941214324, 0.14215326500311493, 0.09107796956412494], 'val_loss': [0.814289266243577, 0.5566167861688882, 0.6460074954666197, 0.5498532507044729, 0.7411408312036656, 0.5241052461205982, 0.5190850479448272, 0.5951883786110557], 'best_metric_val': 0.8180265311560276, 'confusion_matrix': [[58, 7, 5], [8, 25, 0], [1, 2, 19]]}\n",
      "Fold: 2 | Epoch: 7 | Metric: 0.8063569805684369 | Training Loss: 0.09107796956412494 | Validation Loss: 0.5951883786110557\n",
      "\n"
     ]
    },
    {
     "data": {
      "application/vnd.jupyter.widget-view+json": {
       "model_id": "ad2fddf131d2402bbf774911b4818886",
       "version_major": 2,
       "version_minor": 0
      },
      "text/plain": [
       "  0%|          | 0/125 [00:00<?, ?it/s]"
      ]
     },
     "metadata": {},
     "output_type": "display_data"
    },
    {
     "data": {
      "application/vnd.jupyter.widget-view+json": {
       "model_id": "d31db4ac3e3b4eb5b3f6fd3bd9fd9a59",
       "version_major": 2,
       "version_minor": 0
      },
      "text/plain": [
       "  0%|          | 0/32 [00:00<?, ?it/s]"
      ]
     },
     "metadata": {},
     "output_type": "display_data"
    },
    {
     "name": "stdout",
     "output_type": "stream",
     "text": [
      "{'metric_train': {'f1': [0.3196102535462035, 0.6829243216924565, 0.8423877211574627, 0.9114829816939816, 0.9098135970589484, 0.9394656670963704, 0.9487349413589762, 0.9683155388024719, 0.9536124946951811], 'accuracy': [0.5642570281124498, 0.751004016064257, 0.8654618473895582, 0.9216867469879518, 0.9236947791164659, 0.9457831325301205, 0.9558232931726908, 0.9738955823293173, 0.9578313253012049], 'precision': [0.45919189156333573, 0.7754203056928911, 0.8444962982168064, 0.9197768931465107, 0.9121758724762002, 0.9450273742529337, 0.9552728144977184, 0.969653747264189, 0.9655776267997739], 'recall': [0.36315924219150025, 0.6484070091596974, 0.8411674347158217, 0.904005234112761, 0.9075240370939296, 0.9343090402230186, 0.942831541218638, 0.9670023325937304, 0.9429766171701655], 'auc_roc': [0.523718044695, 0.7404956242533101, 0.8818392510185559, 0.9278504432344898, 0.9317481534717537, 0.9510028304934707, 0.9584088993264176, 0.9761925776763484, 0.9573745228675284]}, 'metric_val': {'f1': [0.37497481205921107, 0.7371138953439034, 0.678810276420324, 0.7741865342395613, 0.7007840199750311, 0.8180265311560276, 0.8142249051930964, 0.8063569805684369, 0.7565963592009574], 'accuracy': [0.608, 0.76, 0.712, 0.792, 0.72, 0.824, 0.832, 0.816, 0.76], 'precision': [0.8156288156288157, 0.7634209672184357, 0.7127424907745273, 0.7922565033272838, 0.7553030303030304, 0.8098104793756967, 0.8320571495628704, 0.7975441420349233, 0.73653962492438], 'recall': [0.40432900432900437, 0.7200577200577202, 0.7066378066378066, 0.7601731601731601, 0.708080808080808, 0.8314574314574315, 0.8050505050505051, 0.8165945165945167, 0.7936507936507936], 'auc_roc': [0.5548983625070582, 0.7832994511234275, 0.7733033616634293, 0.8152849120768074, 0.7837092964256325, 0.8646539111186642, 0.849605915635886, 0.8566295683117128, 0.834469141149175]}, 'train_loss': [0.9121290426254273, 0.6296242067813873, 0.400060724645853, 0.2576829659640789, 0.22795444053411484, 0.20317609941214324, 0.14215326500311493, 0.09107796956412494, 0.13687512284331024], 'val_loss': [0.814289266243577, 0.5566167861688882, 0.6460074954666197, 0.5498532507044729, 0.7411408312036656, 0.5241052461205982, 0.5190850479448272, 0.5951883786110557, 0.6580335541948443], 'best_metric_val': 0.8180265311560276, 'confusion_matrix': [[50, 12, 8], [7, 25, 1], [1, 1, 20]]}\n",
      "Fold: 2 | Epoch: 8 | Metric: 0.7565963592009574 | Training Loss: 0.13687512284331024 | Validation Loss: 0.6580335541948443\n",
      "\n"
     ]
    },
    {
     "data": {
      "application/vnd.jupyter.widget-view+json": {
       "model_id": "d74caa4699dc4b0e9fb29fbb2afdd993",
       "version_major": 2,
       "version_minor": 0
      },
      "text/plain": [
       "  0%|          | 0/125 [00:00<?, ?it/s]"
      ]
     },
     "metadata": {},
     "output_type": "display_data"
    },
    {
     "data": {
      "application/vnd.jupyter.widget-view+json": {
       "model_id": "e8008215df284efaa8d492b103cc4396",
       "version_major": 2,
       "version_minor": 0
      },
      "text/plain": [
       "  0%|          | 0/32 [00:00<?, ?it/s]"
      ]
     },
     "metadata": {},
     "output_type": "display_data"
    },
    {
     "name": "stdout",
     "output_type": "stream",
     "text": [
      "{'metric_train': {'f1': [0.3196102535462035, 0.6829243216924565, 0.8423877211574627, 0.9114829816939816, 0.9098135970589484, 0.9394656670963704, 0.9487349413589762, 0.9683155388024719, 0.9536124946951811, 0.9879947218015452], 'accuracy': [0.5642570281124498, 0.751004016064257, 0.8654618473895582, 0.9216867469879518, 0.9236947791164659, 0.9457831325301205, 0.9558232931726908, 0.9738955823293173, 0.9578313253012049, 0.9899598393574297], 'precision': [0.45919189156333573, 0.7754203056928911, 0.8444962982168064, 0.9197768931465107, 0.9121758724762002, 0.9450273742529337, 0.9552728144977184, 0.969653747264189, 0.9655776267997739, 0.986051532526368], 'recall': [0.36315924219150025, 0.6484070091596974, 0.8411674347158217, 0.904005234112761, 0.9075240370939296, 0.9343090402230186, 0.942831541218638, 0.9670023325937304, 0.9429766171701655, 0.9899783808385959], 'auc_roc': [0.523718044695, 0.7404956242533101, 0.8818392510185559, 0.9278504432344898, 0.9317481534717537, 0.9510028304934707, 0.9584088993264176, 0.9761925776763484, 0.9573745228675284, 0.9925047287870751]}, 'metric_val': {'f1': [0.37497481205921107, 0.7371138953439034, 0.678810276420324, 0.7741865342395613, 0.7007840199750311, 0.8180265311560276, 0.8142249051930964, 0.8063569805684369, 0.7565963592009574, 0.7891883176709048], 'accuracy': [0.608, 0.76, 0.712, 0.792, 0.72, 0.824, 0.832, 0.816, 0.76, 0.8], 'precision': [0.8156288156288157, 0.7634209672184357, 0.7127424907745273, 0.7922565033272838, 0.7553030303030304, 0.8098104793756967, 0.8320571495628704, 0.7975441420349233, 0.73653962492438, 0.7758672699849171], 'recall': [0.40432900432900437, 0.7200577200577202, 0.7066378066378066, 0.7601731601731601, 0.708080808080808, 0.8314574314574315, 0.8050505050505051, 0.8165945165945167, 0.7936507936507936, 0.8070707070707072], 'auc_roc': [0.5548983625070582, 0.7832994511234275, 0.7733033616634293, 0.8152849120768074, 0.7837092964256325, 0.8646539111186642, 0.849605915635886, 0.8566295683117128, 0.834469141149175, 0.8486314175951154]}, 'train_loss': [0.9121290426254273, 0.6296242067813873, 0.400060724645853, 0.2576829659640789, 0.22795444053411484, 0.20317609941214324, 0.14215326500311493, 0.09107796956412494, 0.13687512284331024, 0.0641127332020551], 'val_loss': [0.814289266243577, 0.5566167861688882, 0.6460074954666197, 0.5498532507044729, 0.7411408312036656, 0.5241052461205982, 0.5190850479448272, 0.5951883786110557, 0.6580335541948443, 0.5425343154929578], 'best_metric_val': 0.8180265311560276, 'confusion_matrix': [[56, 7, 7], [8, 25, 0], [1, 2, 19]]}\n",
      "Fold: 2 | Epoch: 9 | Metric: 0.7891883176709048 | Training Loss: 0.0641127332020551 | Validation Loss: 0.5425343154929578\n",
      "\n"
     ]
    },
    {
     "data": {
      "application/vnd.jupyter.widget-view+json": {
       "model_id": "74e8101a19e74a0194a7131f3d9cc371",
       "version_major": 2,
       "version_minor": 0
      },
      "text/plain": [
       "  0%|          | 0/125 [00:00<?, ?it/s]"
      ]
     },
     "metadata": {},
     "output_type": "display_data"
    },
    {
     "data": {
      "application/vnd.jupyter.widget-view+json": {
       "model_id": "ef9e794c11904afe922aa7ae070c50a7",
       "version_major": 2,
       "version_minor": 0
      },
      "text/plain": [
       "  0%|          | 0/32 [00:00<?, ?it/s]"
      ]
     },
     "metadata": {},
     "output_type": "display_data"
    },
    {
     "name": "stdout",
     "output_type": "stream",
     "text": [
      "{'metric_train': {'f1': [0.3196102535462035, 0.6829243216924565, 0.8423877211574627, 0.9114829816939816, 0.9098135970589484, 0.9394656670963704, 0.9487349413589762, 0.9683155388024719, 0.9536124946951811, 0.9879947218015452, 0.9883996131307958], 'accuracy': [0.5642570281124498, 0.751004016064257, 0.8654618473895582, 0.9216867469879518, 0.9236947791164659, 0.9457831325301205, 0.9558232931726908, 0.9738955823293173, 0.9578313253012049, 0.9899598393574297, 0.9919678714859438], 'precision': [0.45919189156333573, 0.7754203056928911, 0.8444962982168064, 0.9197768931465107, 0.9121758724762002, 0.9450273742529337, 0.9552728144977184, 0.969653747264189, 0.9655776267997739, 0.986051532526368, 0.9883996131307958], 'recall': [0.36315924219150025, 0.6484070091596974, 0.8411674347158217, 0.904005234112761, 0.9075240370939296, 0.9343090402230186, 0.942831541218638, 0.9670023325937304, 0.9429766171701655, 0.9899783808385959, 0.9883996131307958], 'auc_roc': [0.523718044695, 0.7404956242533101, 0.8818392510185559, 0.9278504432344898, 0.9317481534717537, 0.9510028304934707, 0.9584088993264176, 0.9761925776763484, 0.9573745228675284, 0.9925047287870751, 0.9921744817559484]}, 'metric_val': {'f1': [0.37497481205921107, 0.7371138953439034, 0.678810276420324, 0.7741865342395613, 0.7007840199750311, 0.8180265311560276, 0.8142249051930964, 0.8063569805684369, 0.7565963592009574, 0.7891883176709048, 0.8163034258022793], 'accuracy': [0.608, 0.76, 0.712, 0.792, 0.72, 0.824, 0.832, 0.816, 0.76, 0.8, 0.832], 'precision': [0.8156288156288157, 0.7634209672184357, 0.7127424907745273, 0.7922565033272838, 0.7553030303030304, 0.8098104793756967, 0.8320571495628704, 0.7975441420349233, 0.73653962492438, 0.7758672699849171, 0.8227513227513228], 'recall': [0.40432900432900437, 0.7200577200577202, 0.7066378066378066, 0.7601731601731601, 0.708080808080808, 0.8314574314574315, 0.8050505050505051, 0.8165945165945167, 0.7936507936507936, 0.8070707070707072, 0.8103896103896103], 'auc_roc': [0.5548983625070582, 0.7832994511234275, 0.7733033616634293, 0.8152849120768074, 0.7837092964256325, 0.8646539111186642, 0.849605915635886, 0.8566295683117128, 0.834469141149175, 0.8486314175951154, 0.8555446523365479]}, 'train_loss': [0.9121290426254273, 0.6296242067813873, 0.400060724645853, 0.2576829659640789, 0.22795444053411484, 0.20317609941214324, 0.14215326500311493, 0.09107796956412494, 0.13687512284331024, 0.0641127332020551, 0.06545465720817446], 'val_loss': [0.814289266243577, 0.5566167861688882, 0.6460074954666197, 0.5498532507044729, 0.7411408312036656, 0.5241052461205982, 0.5190850479448272, 0.5951883786110557, 0.6580335541948443, 0.5425343154929578, 0.5883866452422806], 'best_metric_val': 0.8180265311560276, 'confusion_matrix': [[62, 5, 3], [9, 24, 0], [1, 3, 18]]}\n",
      "Fold: 2 | Epoch: 10 | Metric: 0.8163034258022793 | Training Loss: 0.06545465720817446 | Validation Loss: 0.5883866452422806\n",
      "\n"
     ]
    },
    {
     "data": {
      "application/vnd.jupyter.widget-view+json": {
       "model_id": "a38f6d8234224466a1e6665a0d0e789f",
       "version_major": 2,
       "version_minor": 0
      },
      "text/plain": [
       "  0%|          | 0/125 [00:00<?, ?it/s]"
      ]
     },
     "metadata": {},
     "output_type": "display_data"
    },
    {
     "data": {
      "application/vnd.jupyter.widget-view+json": {
       "model_id": "b1ec13516d4543a09a8fca6df9beca0c",
       "version_major": 2,
       "version_minor": 0
      },
      "text/plain": [
       "  0%|          | 0/32 [00:00<?, ?it/s]"
      ]
     },
     "metadata": {},
     "output_type": "display_data"
    },
    {
     "name": "stdout",
     "output_type": "stream",
     "text": [
      "{'metric_train': {'f1': [0.3196102535462035, 0.6829243216924565, 0.8423877211574627, 0.9114829816939816, 0.9098135970589484, 0.9394656670963704, 0.9487349413589762, 0.9683155388024719, 0.9536124946951811, 0.9879947218015452, 0.9883996131307958, 0.973802179635034], 'accuracy': [0.5642570281124498, 0.751004016064257, 0.8654618473895582, 0.9216867469879518, 0.9236947791164659, 0.9457831325301205, 0.9558232931726908, 0.9738955823293173, 0.9578313253012049, 0.9899598393574297, 0.9919678714859438, 0.9779116465863453], 'precision': [0.45919189156333573, 0.7754203056928911, 0.8444962982168064, 0.9197768931465107, 0.9121758724762002, 0.9450273742529337, 0.9552728144977184, 0.969653747264189, 0.9655776267997739, 0.986051532526368, 0.9883996131307958, 0.9801546843248546], 'recall': [0.36315924219150025, 0.6484070091596974, 0.8411674347158217, 0.904005234112761, 0.9075240370939296, 0.9343090402230186, 0.942831541218638, 0.9670023325937304, 0.9429766171701655, 0.9899783808385959, 0.9883996131307958, 0.9678927006883997], 'auc_roc': [0.523718044695, 0.7404956242533101, 0.8818392510185559, 0.9278504432344898, 0.9317481534717537, 0.9510028304934707, 0.9584088993264176, 0.9761925776763484, 0.9573745228675284, 0.9925047287870751, 0.9921744817559484, 0.9768391183330748]}, 'metric_val': {'f1': [0.37497481205921107, 0.7371138953439034, 0.678810276420324, 0.7741865342395613, 0.7007840199750311, 0.8180265311560276, 0.8142249051930964, 0.8063569805684369, 0.7565963592009574, 0.7891883176709048, 0.8163034258022793, 0.796511609269464], 'accuracy': [0.608, 0.76, 0.712, 0.792, 0.72, 0.824, 0.832, 0.816, 0.76, 0.8, 0.832, 0.808], 'precision': [0.8156288156288157, 0.7634209672184357, 0.7127424907745273, 0.7922565033272838, 0.7553030303030304, 0.8098104793756967, 0.8320571495628704, 0.7975441420349233, 0.73653962492438, 0.7758672699849171, 0.8227513227513228, 0.7927659681391025], 'recall': [0.40432900432900437, 0.7200577200577202, 0.7066378066378066, 0.7601731601731601, 0.708080808080808, 0.8314574314574315, 0.8050505050505051, 0.8165945165945167, 0.7936507936507936, 0.8070707070707072, 0.8103896103896103, 0.8014430014430015], 'auc_roc': [0.5548983625070582, 0.7832994511234275, 0.7733033616634293, 0.8152849120768074, 0.7837092964256325, 0.8646539111186642, 0.849605915635886, 0.8566295683117128, 0.834469141149175, 0.8486314175951154, 0.8555446523365479, 0.8470487453075043]}, 'train_loss': [0.9121290426254273, 0.6296242067813873, 0.400060724645853, 0.2576829659640789, 0.22795444053411484, 0.20317609941214324, 0.14215326500311493, 0.09107796956412494, 0.13687512284331024, 0.0641127332020551, 0.06545465720817446, 0.0726628258638084], 'val_loss': [0.814289266243577, 0.5566167861688882, 0.6460074954666197, 0.5498532507044729, 0.7411408312036656, 0.5241052461205982, 0.5190850479448272, 0.5951883786110557, 0.6580335541948443, 0.5425343154929578, 0.5883866452422806, 0.536398033349542], 'best_metric_val': 0.8180265311560276, 'confusion_matrix': [[58, 8, 4], [8, 25, 0], [1, 3, 18]]}\n",
      "Fold: 2 | Epoch: 11 | Metric: 0.796511609269464 | Training Loss: 0.0726628258638084 | Validation Loss: 0.536398033349542\n",
      "\n"
     ]
    },
    {
     "data": {
      "application/vnd.jupyter.widget-view+json": {
       "model_id": "c4bfa5de684f46e1acc010b5524a9f49",
       "version_major": 2,
       "version_minor": 0
      },
      "text/plain": [
       "  0%|          | 0/125 [00:00<?, ?it/s]"
      ]
     },
     "metadata": {},
     "output_type": "display_data"
    },
    {
     "data": {
      "application/vnd.jupyter.widget-view+json": {
       "model_id": "6aacbe541fb341c192702aee2ae881c9",
       "version_major": 2,
       "version_minor": 0
      },
      "text/plain": [
       "  0%|          | 0/32 [00:00<?, ?it/s]"
      ]
     },
     "metadata": {},
     "output_type": "display_data"
    },
    {
     "name": "stdout",
     "output_type": "stream",
     "text": [
      "{'metric_train': {'f1': [0.3196102535462035, 0.6829243216924565, 0.8423877211574627, 0.9114829816939816, 0.9098135970589484, 0.9394656670963704, 0.9487349413589762, 0.9683155388024719, 0.9536124946951811, 0.9879947218015452, 0.9883996131307958, 0.973802179635034, 0.9924102548026937], 'accuracy': [0.5642570281124498, 0.751004016064257, 0.8654618473895582, 0.9216867469879518, 0.9236947791164659, 0.9457831325301205, 0.9558232931726908, 0.9738955823293173, 0.9578313253012049, 0.9899598393574297, 0.9919678714859438, 0.9779116465863453, 0.9939759036144579], 'precision': [0.45919189156333573, 0.7754203056928911, 0.8444962982168064, 0.9197768931465107, 0.9121758724762002, 0.9450273742529337, 0.9552728144977184, 0.969653747264189, 0.9655776267997739, 0.986051532526368, 0.9883996131307958, 0.9801546843248546, 0.9897789262130346], 'recall': [0.36315924219150025, 0.6484070091596974, 0.8411674347158217, 0.904005234112761, 0.9075240370939296, 0.9343090402230186, 0.942831541218638, 0.9670023325937304, 0.9429766171701655, 0.9899783808385959, 0.9883996131307958, 0.9678927006883997, 0.9951413779370769], 'auc_roc': [0.523718044695, 0.7404956242533101, 0.8818392510185559, 0.9278504432344898, 0.9317481534717537, 0.9510028304934707, 0.9584088993264176, 0.9761925776763484, 0.9573745228675284, 0.9925047287870751, 0.9921744817559484, 0.9768391183330748, 0.9963063991666993]}, 'metric_val': {'f1': [0.37497481205921107, 0.7371138953439034, 0.678810276420324, 0.7741865342395613, 0.7007840199750311, 0.8180265311560276, 0.8142249051930964, 0.8063569805684369, 0.7565963592009574, 0.7891883176709048, 0.8163034258022793, 0.796511609269464, 0.8061700667540084], 'accuracy': [0.608, 0.76, 0.712, 0.792, 0.72, 0.824, 0.832, 0.816, 0.76, 0.8, 0.832, 0.808, 0.816], 'precision': [0.8156288156288157, 0.7634209672184357, 0.7127424907745273, 0.7922565033272838, 0.7553030303030304, 0.8098104793756967, 0.8320571495628704, 0.7975441420349233, 0.73653962492438, 0.7758672699849171, 0.8227513227513228, 0.7927659681391025, 0.7949674703406046], 'recall': [0.40432900432900437, 0.7200577200577202, 0.7066378066378066, 0.7601731601731601, 0.708080808080808, 0.8314574314574315, 0.8050505050505051, 0.8165945165945167, 0.7936507936507936, 0.8070707070707072, 0.8103896103896103, 0.8014430014430015, 0.8216450216450216], 'auc_roc': [0.5548983625070582, 0.7832994511234275, 0.7733033616634293, 0.8152849120768074, 0.7837092964256325, 0.8646539111186642, 0.849605915635886, 0.8566295683117128, 0.834469141149175, 0.8486314175951154, 0.8555446523365479, 0.8470487453075043, 0.8593482920625176]}, 'train_loss': [0.9121290426254273, 0.6296242067813873, 0.400060724645853, 0.2576829659640789, 0.22795444053411484, 0.20317609941214324, 0.14215326500311493, 0.09107796956412494, 0.13687512284331024, 0.0641127332020551, 0.06545465720817446, 0.0726628258638084, 0.048767282858025285], 'val_loss': [0.814289266243577, 0.5566167861688882, 0.6460074954666197, 0.5498532507044729, 0.7411408312036656, 0.5241052461205982, 0.5190850479448272, 0.5951883786110557, 0.6580335541948443, 0.5425343154929578, 0.5883866452422806, 0.536398033349542, 0.5424477767228382], 'best_metric_val': 0.8180265311560276, 'confusion_matrix': [[58, 6, 6], [9, 24, 0], [0, 2, 20]]}\n",
      "Fold: 2 | Epoch: 12 | Metric: 0.8061700667540084 | Training Loss: 0.048767282858025285 | Validation Loss: 0.5424477767228382\n",
      "\n"
     ]
    },
    {
     "data": {
      "application/vnd.jupyter.widget-view+json": {
       "model_id": "f78f00753d5742eca598c3834acbdf80",
       "version_major": 2,
       "version_minor": 0
      },
      "text/plain": [
       "  0%|          | 0/125 [00:00<?, ?it/s]"
      ]
     },
     "metadata": {},
     "output_type": "display_data"
    },
    {
     "data": {
      "application/vnd.jupyter.widget-view+json": {
       "model_id": "f3b69e0bd2d646eaac86390699718d43",
       "version_major": 2,
       "version_minor": 0
      },
      "text/plain": [
       "  0%|          | 0/32 [00:00<?, ?it/s]"
      ]
     },
     "metadata": {},
     "output_type": "display_data"
    },
    {
     "name": "stdout",
     "output_type": "stream",
     "text": [
      "{'metric_train': {'f1': [0.3196102535462035, 0.6829243216924565, 0.8423877211574627, 0.9114829816939816, 0.9098135970589484, 0.9394656670963704, 0.9487349413589762, 0.9683155388024719, 0.9536124946951811, 0.9879947218015452, 0.9883996131307958, 0.973802179635034, 0.9924102548026937, 0.9837197028535583], 'accuracy': [0.5642570281124498, 0.751004016064257, 0.8654618473895582, 0.9216867469879518, 0.9236947791164659, 0.9457831325301205, 0.9558232931726908, 0.9738955823293173, 0.9578313253012049, 0.9899598393574297, 0.9919678714859438, 0.9779116465863453, 0.9939759036144579, 0.9839357429718876], 'precision': [0.45919189156333573, 0.7754203056928911, 0.8444962982168064, 0.9197768931465107, 0.9121758724762002, 0.9450273742529337, 0.9552728144977184, 0.969653747264189, 0.9655776267997739, 0.986051532526368, 0.9883996131307958, 0.9801546843248546, 0.9897789262130346, 0.9879199232140409], 'recall': [0.36315924219150025, 0.6484070091596974, 0.8411674347158217, 0.904005234112761, 0.9075240370939296, 0.9343090402230186, 0.942831541218638, 0.9670023325937304, 0.9429766171701655, 0.9899783808385959, 0.9883996131307958, 0.9678927006883997, 0.9951413779370769, 0.9802469135802468], 'auc_roc': [0.523718044695, 0.7404956242533101, 0.8818392510185559, 0.9278504432344898, 0.9317481534717537, 0.9510028304934707, 0.9584088993264176, 0.9761925776763484, 0.9573745228675284, 0.9925047287870751, 0.9921744817559484, 0.9768391183330748, 0.9963063991666993, 0.984393635247318]}, 'metric_val': {'f1': [0.37497481205921107, 0.7371138953439034, 0.678810276420324, 0.7741865342395613, 0.7007840199750311, 0.8180265311560276, 0.8142249051930964, 0.8063569805684369, 0.7565963592009574, 0.7891883176709048, 0.8163034258022793, 0.796511609269464, 0.8061700667540084, 0.7876243250923558], 'accuracy': [0.608, 0.76, 0.712, 0.792, 0.72, 0.824, 0.832, 0.816, 0.76, 0.8, 0.832, 0.808, 0.816, 0.8], 'precision': [0.8156288156288157, 0.7634209672184357, 0.7127424907745273, 0.7922565033272838, 0.7553030303030304, 0.8098104793756967, 0.8320571495628704, 0.7975441420349233, 0.73653962492438, 0.7758672699849171, 0.8227513227513228, 0.7927659681391025, 0.7949674703406046, 0.7802298345776606], 'recall': [0.40432900432900437, 0.7200577200577202, 0.7066378066378066, 0.7601731601731601, 0.708080808080808, 0.8314574314574315, 0.8050505050505051, 0.8165945165945167, 0.7936507936507936, 0.8070707070707072, 0.8103896103896103, 0.8014430014430015, 0.8216450216450216, 0.7966810966810968], 'auc_roc': [0.5548983625070582, 0.7832994511234275, 0.7733033616634293, 0.8152849120768074, 0.7837092964256325, 0.8646539111186642, 0.849605915635886, 0.8566295683117128, 0.834469141149175, 0.8486314175951154, 0.8555446523365479, 0.8470487453075043, 0.8593482920625176, 0.8430496699492057]}, 'train_loss': [0.9121290426254273, 0.6296242067813873, 0.400060724645853, 0.2576829659640789, 0.22795444053411484, 0.20317609941214324, 0.14215326500311493, 0.09107796956412494, 0.13687512284331024, 0.0641127332020551, 0.06545465720817446, 0.0726628258638084, 0.048767282858025285, 0.05566733814496547], 'val_loss': [0.814289266243577, 0.5566167861688882, 0.6460074954666197, 0.5498532507044729, 0.7411408312036656, 0.5241052461205982, 0.5190850479448272, 0.5951883786110557, 0.6580335541948443, 0.5425343154929578, 0.5883866452422806, 0.536398033349542, 0.5424477767228382, 0.5348771249628044], 'best_metric_val': 0.8180265311560276, 'confusion_matrix': [[57, 8, 5], [8, 25, 0], [1, 3, 18]]}\n",
      "Fold: 2 | Epoch: 13 | Metric: 0.7876243250923558 | Training Loss: 0.05566733814496547 | Validation Loss: 0.5348771249628044\n",
      "\n"
     ]
    },
    {
     "data": {
      "application/vnd.jupyter.widget-view+json": {
       "model_id": "b3ea1fa0159148c08a3a33ec3cd297a2",
       "version_major": 2,
       "version_minor": 0
      },
      "text/plain": [
       "  0%|          | 0/125 [00:00<?, ?it/s]"
      ]
     },
     "metadata": {},
     "output_type": "display_data"
    },
    {
     "data": {
      "application/vnd.jupyter.widget-view+json": {
       "model_id": "bb2786cfa25541c98918903088cf3634",
       "version_major": 2,
       "version_minor": 0
      },
      "text/plain": [
       "  0%|          | 0/32 [00:00<?, ?it/s]"
      ]
     },
     "metadata": {},
     "output_type": "display_data"
    },
    {
     "name": "stdout",
     "output_type": "stream",
     "text": [
      "{'metric_train': {'f1': [0.3196102535462035, 0.6829243216924565, 0.8423877211574627, 0.9114829816939816, 0.9098135970589484, 0.9394656670963704, 0.9487349413589762, 0.9683155388024719, 0.9536124946951811, 0.9879947218015452, 0.9883996131307958, 0.973802179635034, 0.9924102548026937, 0.9837197028535583, 0.9855581783839217], 'accuracy': [0.5642570281124498, 0.751004016064257, 0.8654618473895582, 0.9216867469879518, 0.9236947791164659, 0.9457831325301205, 0.9558232931726908, 0.9738955823293173, 0.9578313253012049, 0.9899598393574297, 0.9919678714859438, 0.9779116465863453, 0.9939759036144579, 0.9839357429718876, 0.9879518072289156], 'precision': [0.45919189156333573, 0.7754203056928911, 0.8444962982168064, 0.9197768931465107, 0.9121758724762002, 0.9450273742529337, 0.9552728144977184, 0.969653747264189, 0.9655776267997739, 0.986051532526368, 0.9883996131307958, 0.9801546843248546, 0.9897789262130346, 0.9879199232140409, 0.9823272533139109], 'recall': [0.36315924219150025, 0.6484070091596974, 0.8411674347158217, 0.904005234112761, 0.9075240370939296, 0.9343090402230186, 0.942831541218638, 0.9670023325937304, 0.9429766171701655, 0.9899783808385959, 0.9883996131307958, 0.9678927006883997, 0.9951413779370769, 0.9802469135802468, 0.9890083632019117], 'auc_roc': [0.523718044695, 0.7404956242533101, 0.8818392510185559, 0.9278504432344898, 0.9317481534717537, 0.9510028304934707, 0.9584088993264176, 0.9761925776763484, 0.9573745228675284, 0.9925047287870751, 0.9921744817559484, 0.9768391183330748, 0.9963063991666993, 0.984393635247318, 0.9916171434792002]}, 'metric_val': {'f1': [0.37497481205921107, 0.7371138953439034, 0.678810276420324, 0.7741865342395613, 0.7007840199750311, 0.8180265311560276, 0.8142249051930964, 0.8063569805684369, 0.7565963592009574, 0.7891883176709048, 0.8163034258022793, 0.796511609269464, 0.8061700667540084, 0.7876243250923558, 0.8047527580772261], 'accuracy': [0.608, 0.76, 0.712, 0.792, 0.72, 0.824, 0.832, 0.816, 0.76, 0.8, 0.832, 0.808, 0.816, 0.8, 0.816], 'precision': [0.8156288156288157, 0.7634209672184357, 0.7127424907745273, 0.7922565033272838, 0.7553030303030304, 0.8098104793756967, 0.8320571495628704, 0.7975441420349233, 0.73653962492438, 0.7758672699849171, 0.8227513227513228, 0.7927659681391025, 0.7949674703406046, 0.7802298345776606, 0.8043642876426395], 'recall': [0.40432900432900437, 0.7200577200577202, 0.7066378066378066, 0.7601731601731601, 0.708080808080808, 0.8314574314574315, 0.8050505050505051, 0.8165945165945167, 0.7936507936507936, 0.8070707070707072, 0.8103896103896103, 0.8014430014430015, 0.8216450216450216, 0.7966810966810968, 0.8059163059163059], 'auc_roc': [0.5548983625070582, 0.7832994511234275, 0.7733033616634293, 0.8152849120768074, 0.7837092964256325, 0.8646539111186642, 0.849605915635886, 0.8566295683117128, 0.834469141149175, 0.8486314175951154, 0.8555446523365479, 0.8470487453075043, 0.8593482920625176, 0.8430496699492057, 0.8486595740922462]}, 'train_loss': [0.9121290426254273, 0.6296242067813873, 0.400060724645853, 0.2576829659640789, 0.22795444053411484, 0.20317609941214324, 0.14215326500311493, 0.09107796956412494, 0.13687512284331024, 0.0641127332020551, 0.06545465720817446, 0.0726628258638084, 0.048767282858025285, 0.05566733814496547, 0.04278064575884491], 'val_loss': [0.814289266243577, 0.5566167861688882, 0.6460074954666197, 0.5498532507044729, 0.7411408312036656, 0.5241052461205982, 0.5190850479448272, 0.5951883786110557, 0.6580335541948443, 0.5425343154929578, 0.5883866452422806, 0.536398033349542, 0.5424477767228382, 0.5348771249628044, 0.5447162073978618], 'best_metric_val': 0.8180265311560276, 'confusion_matrix': [[60, 6, 4], [10, 23, 0], [1, 2, 19]]}\n",
      "Fold: 2 | Epoch: 14 | Metric: 0.8047527580772261 | Training Loss: 0.04278064575884491 | Validation Loss: 0.5447162073978618\n",
      "\n",
      "\n",
      "Fold: 4 / 5\n"
     ]
    },
    {
     "data": {
      "application/vnd.jupyter.widget-view+json": {
       "model_id": "53e222a0a4924b16bf9b33bfc709e895",
       "version_major": 2,
       "version_minor": 0
      },
      "text/plain": [
       "  0%|          | 0/125 [00:00<?, ?it/s]"
      ]
     },
     "metadata": {},
     "output_type": "display_data"
    },
    {
     "data": {
      "application/vnd.jupyter.widget-view+json": {
       "model_id": "cfbf4973e86746b3ad47029896eebd88",
       "version_major": 2,
       "version_minor": 0
      },
      "text/plain": [
       "  0%|          | 0/31 [00:00<?, ?it/s]"
      ]
     },
     "metadata": {},
     "output_type": "display_data"
    },
    {
     "name": "stdout",
     "output_type": "stream",
     "text": [
      "\n",
      "New Best Score!\n",
      "{'metric_train': {'f1': [0.2933185149903416], 'accuracy': [0.5591182364729459], 'precision': [0.3245310245310245], 'recall': [0.35117483074472317], 'auc_roc': [0.5159244535354867]}, 'metric_val': {'f1': [0.43173993113940273], 'accuracy': [0.6612903225806451], 'precision': [0.517902517902518], 'recall': [0.4545454545454546], 'auc_roc': [0.5988980155646823]}, 'train_loss': [0.9121272938251496], 'val_loss': [0.7634718379666728], 'best_metric_val': 0.43173993113940273, 'confusion_matrix': [[70, 0, 0], [21, 12, 0], [20, 1, 0]]}\n",
      "Fold: 3 | Epoch: 0 | Metric: 0.43173993113940273 | Training Loss: 0.9121272938251496 | Validation Loss: 0.7634718379666728\n",
      "\n"
     ]
    },
    {
     "data": {
      "application/vnd.jupyter.widget-view+json": {
       "model_id": "0b34c66ecf9f494f89ca312aa8d07487",
       "version_major": 2,
       "version_minor": 0
      },
      "text/plain": [
       "  0%|          | 0/125 [00:00<?, ?it/s]"
      ]
     },
     "metadata": {},
     "output_type": "display_data"
    },
    {
     "data": {
      "application/vnd.jupyter.widget-view+json": {
       "model_id": "22ef81de7fd641658f3703ae33f3eccd",
       "version_major": 2,
       "version_minor": 0
      },
      "text/plain": [
       "  0%|          | 0/31 [00:00<?, ?it/s]"
      ]
     },
     "metadata": {},
     "output_type": "display_data"
    },
    {
     "name": "stdout",
     "output_type": "stream",
     "text": [
      "\n",
      "New Best Score!\n",
      "{'metric_train': {'f1': [0.2933185149903416, 0.6279912610484524], 'accuracy': [0.5591182364729459, 0.7134268537074149], 'precision': [0.3245310245310245, 0.7472064235530279], 'recall': [0.35117483074472317, 0.5947103333567597], 'auc_roc': [0.5159244535354867, 0.6989993357138532]}, 'metric_val': {'f1': [0.43173993113940273, 0.7363725304901775], 'accuracy': [0.6612903225806451, 0.7741935483870968], 'precision': [0.517902517902518, 0.7575016307893021], 'recall': [0.4545454545454546, 0.7239538239538238], 'auc_roc': [0.5988980155646823, 0.7939795252092986]}, 'train_loss': [0.9121272938251496, 0.6640096958875656], 'val_loss': [0.7634718379666728, 0.56435213262035], 'best_metric_val': 0.7363725304901775, 'confusion_matrix': [[59, 9, 2], [6, 25, 2], [8, 1, 12]]}\n",
      "Fold: 3 | Epoch: 1 | Metric: 0.7363725304901775 | Training Loss: 0.6640096958875656 | Validation Loss: 0.56435213262035\n",
      "\n"
     ]
    },
    {
     "data": {
      "application/vnd.jupyter.widget-view+json": {
       "model_id": "997f12e8669b4843a7a52e30e96ffd30",
       "version_major": 2,
       "version_minor": 0
      },
      "text/plain": [
       "  0%|          | 0/125 [00:00<?, ?it/s]"
      ]
     },
     "metadata": {},
     "output_type": "display_data"
    },
    {
     "data": {
      "application/vnd.jupyter.widget-view+json": {
       "model_id": "3323812da6fd40f8ae091f1e3a6f93e0",
       "version_major": 2,
       "version_minor": 0
      },
      "text/plain": [
       "  0%|          | 0/31 [00:00<?, ?it/s]"
      ]
     },
     "metadata": {},
     "output_type": "display_data"
    },
    {
     "name": "stdout",
     "output_type": "stream",
     "text": [
      "\n",
      "New Best Score!\n",
      "{'metric_train': {'f1': [0.2933185149903416, 0.6279912610484524, 0.8093277078584803], 'accuracy': [0.5591182364729459, 0.7134268537074149, 0.8336673346693386], 'precision': [0.3245310245310245, 0.7472064235530279, 0.818677861930457], 'recall': [0.35117483074472317, 0.5947103333567597, 0.8011619462599855], 'auc_roc': [0.5159244535354867, 0.6989993357138532, 0.8511743813320966]}, 'metric_val': {'f1': [0.43173993113940273, 0.7363725304901775, 0.8214451712473193], 'accuracy': [0.6612903225806451, 0.7741935483870968, 0.8467741935483871], 'precision': [0.517902517902518, 0.7575016307893021, 0.836031746031746], 'recall': [0.4545454545454546, 0.7239538239538238, 0.8112554112554112], 'auc_roc': [0.5988980155646823, 0.7939795252092986, 0.8580919679625181]}, 'train_loss': [0.9121272938251496, 0.6640096958875656, 0.45242585295438764], 'val_loss': [0.7634718379666728, 0.56435213262035, 0.4830287211844998], 'best_metric_val': 0.8214451712473193, 'confusion_matrix': [[64, 3, 3], [6, 25, 2], [5, 0, 16]]}\n",
      "Fold: 3 | Epoch: 2 | Metric: 0.8214451712473193 | Training Loss: 0.45242585295438764 | Validation Loss: 0.4830287211844998\n",
      "\n"
     ]
    },
    {
     "data": {
      "application/vnd.jupyter.widget-view+json": {
       "model_id": "b6f8e263cbff453db597749f88f072a2",
       "version_major": 2,
       "version_minor": 0
      },
      "text/plain": [
       "  0%|          | 0/125 [00:00<?, ?it/s]"
      ]
     },
     "metadata": {},
     "output_type": "display_data"
    },
    {
     "data": {
      "application/vnd.jupyter.widget-view+json": {
       "model_id": "321102d2877c406092ed0d3880bb35b2",
       "version_major": 2,
       "version_minor": 0
      },
      "text/plain": [
       "  0%|          | 0/31 [00:00<?, ?it/s]"
      ]
     },
     "metadata": {},
     "output_type": "display_data"
    },
    {
     "name": "stdout",
     "output_type": "stream",
     "text": [
      "{'metric_train': {'f1': [0.2933185149903416, 0.6279912610484524, 0.8093277078584803, 0.8835793657949758], 'accuracy': [0.5591182364729459, 0.7134268537074149, 0.8336673346693386, 0.8997995991983968], 'precision': [0.3245310245310245, 0.7472064235530279, 0.818677861930457, 0.8827384412665195], 'recall': [0.35117483074472317, 0.5947103333567597, 0.8011619462599855, 0.8876847752243071], 'auc_roc': [0.5159244535354867, 0.6989993357138532, 0.8511743813320966, 0.9154058885234805]}, 'metric_val': {'f1': [0.43173993113940273, 0.7363725304901775, 0.8214451712473193, 0.804970760233918], 'accuracy': [0.6612903225806451, 0.7741935483870968, 0.8467741935483871, 0.8467741935483871], 'precision': [0.517902517902518, 0.7575016307893021, 0.836031746031746, 0.8600120445648901], 'recall': [0.4545454545454546, 0.7239538239538238, 0.8112554112554112, 0.7721500721500721], 'auc_roc': [0.5988980155646823, 0.7939795252092986, 0.8580919679625181, 0.8330928690151991]}, 'train_loss': [0.9121272938251496, 0.6640096958875656, 0.45242585295438764, 0.3080184679180384], 'val_loss': [0.7634718379666728, 0.56435213262035, 0.4830287211844998, 0.5105617432104003], 'best_metric_val': 0.8214451712473193, 'confusion_matrix': [[67, 1, 2], [6, 26, 1], [9, 0, 12]]}\n",
      "Fold: 3 | Epoch: 3 | Metric: 0.804970760233918 | Training Loss: 0.3080184679180384 | Validation Loss: 0.5105617432104003\n",
      "\n"
     ]
    },
    {
     "data": {
      "application/vnd.jupyter.widget-view+json": {
       "model_id": "464b80675524492281ba1a718be83048",
       "version_major": 2,
       "version_minor": 0
      },
      "text/plain": [
       "  0%|          | 0/125 [00:00<?, ?it/s]"
      ]
     },
     "metadata": {},
     "output_type": "display_data"
    },
    {
     "data": {
      "application/vnd.jupyter.widget-view+json": {
       "model_id": "54ee512a137344dba556353c3075b849",
       "version_major": 2,
       "version_minor": 0
      },
      "text/plain": [
       "  0%|          | 0/31 [00:00<?, ?it/s]"
      ]
     },
     "metadata": {},
     "output_type": "display_data"
    },
    {
     "name": "stdout",
     "output_type": "stream",
     "text": [
      "{'metric_train': {'f1': [0.2933185149903416, 0.6279912610484524, 0.8093277078584803, 0.8835793657949758, 0.9276940141614386], 'accuracy': [0.5591182364729459, 0.7134268537074149, 0.8336673346693386, 0.8997995991983968, 0.9378757515030061], 'precision': [0.3245310245310245, 0.7472064235530279, 0.818677861930457, 0.8827384412665195, 0.9327152474108665], 'recall': [0.35117483074472317, 0.5947103333567597, 0.8011619462599855, 0.8876847752243071, 0.9229507812683018], 'auc_roc': [0.5159244535354867, 0.6989993357138532, 0.8511743813320966, 0.9154058885234805, 0.942873139423204]}, 'metric_val': {'f1': [0.43173993113940273, 0.7363725304901775, 0.8214451712473193, 0.804970760233918, 0.7108899297423887], 'accuracy': [0.6612903225806451, 0.7741935483870968, 0.8467741935483871, 0.8467741935483871, 0.7258064516129032], 'precision': [0.517902517902518, 0.7575016307893021, 0.836031746031746, 0.8600120445648901, 0.7000198000198], 'recall': [0.4545454545454546, 0.7239538239538238, 0.8112554112554112, 0.7721500721500721, 0.7616161616161617], 'auc_roc': [0.5988980155646823, 0.7939795252092986, 0.8580919679625181, 0.8330928690151991, 0.814848330382311]}, 'train_loss': [0.9121272938251496, 0.6640096958875656, 0.45242585295438764, 0.3080184679180384, 0.19620814579725265], 'val_loss': [0.7634718379666728, 0.56435213262035, 0.4830287211844998, 0.5105617432104003, 0.7000837758664162], 'best_metric_val': 0.8214451712473193, 'confusion_matrix': [[46, 10, 14], [2, 27, 4], [4, 0, 17]]}\n",
      "Fold: 3 | Epoch: 4 | Metric: 0.7108899297423887 | Training Loss: 0.19620814579725265 | Validation Loss: 0.7000837758664162\n",
      "\n"
     ]
    },
    {
     "data": {
      "application/vnd.jupyter.widget-view+json": {
       "model_id": "ed4a9ac081d34c288109475972922939",
       "version_major": 2,
       "version_minor": 0
      },
      "text/plain": [
       "  0%|          | 0/125 [00:00<?, ?it/s]"
      ]
     },
     "metadata": {},
     "output_type": "display_data"
    },
    {
     "data": {
      "application/vnd.jupyter.widget-view+json": {
       "model_id": "b5e50e5ebfdc4c3ca4fead29f33fbef2",
       "version_major": 2,
       "version_minor": 0
      },
      "text/plain": [
       "  0%|          | 0/31 [00:00<?, ?it/s]"
      ]
     },
     "metadata": {},
     "output_type": "display_data"
    },
    {
     "name": "stdout",
     "output_type": "stream",
     "text": [
      "{'metric_train': {'f1': [0.2933185149903416, 0.6279912610484524, 0.8093277078584803, 0.8835793657949758, 0.9276940141614386, 0.9402919923743056], 'accuracy': [0.5591182364729459, 0.7134268537074149, 0.8336673346693386, 0.8997995991983968, 0.9378757515030061, 0.9458917835671342], 'precision': [0.3245310245310245, 0.7472064235530279, 0.818677861930457, 0.8827384412665195, 0.9327152474108665, 0.9435753263973887], 'recall': [0.35117483074472317, 0.5947103333567597, 0.8011619462599855, 0.8876847752243071, 0.9229507812683018, 0.9375407032586033], 'auc_roc': [0.5159244535354867, 0.6989993357138532, 0.8511743813320966, 0.9154058885234805, 0.942873139423204, 0.9522440035812144]}, 'metric_val': {'f1': [0.43173993113940273, 0.7363725304901775, 0.8214451712473193, 0.804970760233918, 0.7108899297423887, 0.7641666666666668], 'accuracy': [0.6612903225806451, 0.7741935483870968, 0.8467741935483871, 0.8467741935483871, 0.7258064516129032, 0.782258064516129], 'precision': [0.517902517902518, 0.7575016307893021, 0.836031746031746, 0.8600120445648901, 0.7000198000198, 0.7465051258154706], 'recall': [0.4545454545454546, 0.7239538239538238, 0.8112554112554112, 0.7721500721500721, 0.7616161616161617, 0.8002886002886003], 'auc_roc': [0.5988980155646823, 0.7939795252092986, 0.8580919679625181, 0.8330928690151991, 0.814848330382311, 0.8457247894141098]}, 'train_loss': [0.9121272938251496, 0.6640096958875656, 0.45242585295438764, 0.3080184679180384, 0.19620814579725265, 0.18133087511360646], 'val_loss': [0.7634718379666728, 0.56435213262035, 0.4830287211844998, 0.5105617432104003, 0.7000837758664162, 0.5042534570900663], 'best_metric_val': 0.8214451712473193, 'confusion_matrix': [[52, 9, 9], [2, 28, 3], [4, 0, 17]]}\n",
      "Fold: 3 | Epoch: 5 | Metric: 0.7641666666666668 | Training Loss: 0.18133087511360646 | Validation Loss: 0.5042534570900663\n",
      "\n"
     ]
    },
    {
     "data": {
      "application/vnd.jupyter.widget-view+json": {
       "model_id": "014bfd81321540dfa447a5ed1785939e",
       "version_major": 2,
       "version_minor": 0
      },
      "text/plain": [
       "  0%|          | 0/125 [00:00<?, ?it/s]"
      ]
     },
     "metadata": {},
     "output_type": "display_data"
    },
    {
     "data": {
      "application/vnd.jupyter.widget-view+json": {
       "model_id": "ac1001068fde4ad48aa7a576b474f4cb",
       "version_major": 2,
       "version_minor": 0
      },
      "text/plain": [
       "  0%|          | 0/31 [00:00<?, ?it/s]"
      ]
     },
     "metadata": {},
     "output_type": "display_data"
    },
    {
     "name": "stdout",
     "output_type": "stream",
     "text": [
      "{'metric_train': {'f1': [0.2933185149903416, 0.6279912610484524, 0.8093277078584803, 0.8835793657949758, 0.9276940141614386, 0.9402919923743056, 0.9571239144372559], 'accuracy': [0.5591182364729459, 0.7134268537074149, 0.8336673346693386, 0.8997995991983968, 0.9378757515030061, 0.9458917835671342, 0.9659318637274549], 'precision': [0.3245310245310245, 0.7472064235530279, 0.818677861930457, 0.8827384412665195, 0.9327152474108665, 0.9435753263973887, 0.957171410220021], 'recall': [0.35117483074472317, 0.5947103333567597, 0.8011619462599855, 0.8876847752243071, 0.9229507812683018, 0.9375407032586033, 0.9573125307470658], 'auc_roc': [0.5159244535354867, 0.6989993357138532, 0.8511743813320966, 0.9154058885234805, 0.942873139423204, 0.9522440035812144, 0.969405974601503]}, 'metric_val': {'f1': [0.43173993113940273, 0.7363725304901775, 0.8214451712473193, 0.804970760233918, 0.7108899297423887, 0.7641666666666668, 0.76255442670537], 'accuracy': [0.6612903225806451, 0.7741935483870968, 0.8467741935483871, 0.8467741935483871, 0.7258064516129032, 0.782258064516129, 0.782258064516129], 'precision': [0.517902517902518, 0.7575016307893021, 0.836031746031746, 0.8600120445648901, 0.7000198000198, 0.7465051258154706, 0.7527777777777778], 'recall': [0.4545454545454546, 0.7239538239538238, 0.8112554112554112, 0.7721500721500721, 0.7616161616161617, 0.8002886002886003, 0.794949494949495], 'auc_roc': [0.5988980155646823, 0.7939795252092986, 0.8580919679625181, 0.8330928690151991, 0.814848330382311, 0.8457247894141098, 0.8424404553854393]}, 'train_loss': [0.9121272938251496, 0.6640096958875656, 0.45242585295438764, 0.3080184679180384, 0.19620814579725265, 0.18133087511360646, 0.11987591605260968], 'val_loss': [0.7634718379666728, 0.56435213262035, 0.4830287211844998, 0.5105617432104003, 0.7000837758664162, 0.5042534570900663, 0.6012487369589508], 'best_metric_val': 0.8214451712473193, 'confusion_matrix': [[53, 5, 12], [3, 27, 3], [4, 0, 17]]}\n",
      "Fold: 3 | Epoch: 6 | Metric: 0.76255442670537 | Training Loss: 0.11987591605260968 | Validation Loss: 0.6012487369589508\n",
      "\n"
     ]
    },
    {
     "data": {
      "application/vnd.jupyter.widget-view+json": {
       "model_id": "47ef015ae927463c8ab9584988036756",
       "version_major": 2,
       "version_minor": 0
      },
      "text/plain": [
       "  0%|          | 0/125 [00:00<?, ?it/s]"
      ]
     },
     "metadata": {},
     "output_type": "display_data"
    },
    {
     "data": {
      "application/vnd.jupyter.widget-view+json": {
       "model_id": "2b5cd3a5b73b4d6298876fd58cf6427d",
       "version_major": 2,
       "version_minor": 0
      },
      "text/plain": [
       "  0%|          | 0/31 [00:00<?, ?it/s]"
      ]
     },
     "metadata": {},
     "output_type": "display_data"
    },
    {
     "name": "stdout",
     "output_type": "stream",
     "text": [
      "\n",
      "New Best Score!\n",
      "{'metric_train': {'f1': [0.2933185149903416, 0.6279912610484524, 0.8093277078584803, 0.8835793657949758, 0.9276940141614386, 0.9402919923743056, 0.9571239144372559, 0.9605458447153126], 'accuracy': [0.5591182364729459, 0.7134268537074149, 0.8336673346693386, 0.8997995991983968, 0.9378757515030061, 0.9458917835671342, 0.9659318637274549, 0.9639278557114228], 'precision': [0.3245310245310245, 0.7472064235530279, 0.818677861930457, 0.8827384412665195, 0.9327152474108665, 0.9435753263973887, 0.957171410220021, 0.9611616288306367], 'recall': [0.35117483074472317, 0.5947103333567597, 0.8011619462599855, 0.8876847752243071, 0.9229507812683018, 0.9375407032586033, 0.9573125307470658, 0.9599409656335652], 'auc_roc': [0.5159244535354867, 0.6989993357138532, 0.8511743813320966, 0.9154058885234805, 0.942873139423204, 0.9522440035812144, 0.969405974601503, 0.9692526177510915]}, 'metric_val': {'f1': [0.43173993113940273, 0.7363725304901775, 0.8214451712473193, 0.804970760233918, 0.7108899297423887, 0.7641666666666668, 0.76255442670537, 0.8296384014080861], 'accuracy': [0.6612903225806451, 0.7741935483870968, 0.8467741935483871, 0.8467741935483871, 0.7258064516129032, 0.782258064516129, 0.782258064516129, 0.8548387096774194], 'precision': [0.517902517902518, 0.7575016307893021, 0.836031746031746, 0.8600120445648901, 0.7000198000198, 0.7465051258154706, 0.7527777777777778, 0.8225065738305988], 'recall': [0.4545454545454546, 0.7239538239538238, 0.8112554112554112, 0.7721500721500721, 0.7616161616161617, 0.8002886002886003, 0.794949494949495, 0.8431457431457433], 'auc_roc': [0.5988980155646823, 0.7939795252092986, 0.8580919679625181, 0.8330928690151991, 0.814848330382311, 0.8457247894141098, 0.8424404553854393, 0.8829967407637311]}, 'train_loss': [0.9121272938251496, 0.6640096958875656, 0.45242585295438764, 0.3080184679180384, 0.19620814579725265, 0.18133087511360646, 0.11987591605260968, 0.10538705933466554], 'val_loss': [0.7634718379666728, 0.56435213262035, 0.4830287211844998, 0.5105617432104003, 0.7000837758664162, 0.5042534570900663, 0.6012487369589508, 0.586333722446955], 'best_metric_val': 0.8296384014080861, 'confusion_matrix': [[61, 3, 6], [2, 28, 3], [4, 0, 17]]}\n",
      "Fold: 3 | Epoch: 7 | Metric: 0.8296384014080861 | Training Loss: 0.10538705933466554 | Validation Loss: 0.586333722446955\n",
      "\n"
     ]
    },
    {
     "data": {
      "application/vnd.jupyter.widget-view+json": {
       "model_id": "08454a9238544a009ff1696dc33893ad",
       "version_major": 2,
       "version_minor": 0
      },
      "text/plain": [
       "  0%|          | 0/125 [00:00<?, ?it/s]"
      ]
     },
     "metadata": {},
     "output_type": "display_data"
    },
    {
     "data": {
      "application/vnd.jupyter.widget-view+json": {
       "model_id": "8c59f408cbec4e1688820838c7f140eb",
       "version_major": 2,
       "version_minor": 0
      },
      "text/plain": [
       "  0%|          | 0/31 [00:00<?, ?it/s]"
      ]
     },
     "metadata": {},
     "output_type": "display_data"
    },
    {
     "name": "stdout",
     "output_type": "stream",
     "text": [
      "{'metric_train': {'f1': [0.2933185149903416, 0.6279912610484524, 0.8093277078584803, 0.8835793657949758, 0.9276940141614386, 0.9402919923743056, 0.9571239144372559, 0.9605458447153126, 0.9831538062151634], 'accuracy': [0.5591182364729459, 0.7134268537074149, 0.8336673346693386, 0.8997995991983968, 0.9378757515030061, 0.9458917835671342, 0.9659318637274549, 0.9639278557114228, 0.9839679358717435], 'precision': [0.3245310245310245, 0.7472064235530279, 0.818677861930457, 0.8827384412665195, 0.9327152474108665, 0.9435753263973887, 0.957171410220021, 0.9611616288306367, 0.9838998323343674], 'recall': [0.35117483074472317, 0.5947103333567597, 0.8011619462599855, 0.8876847752243071, 0.9229507812683018, 0.9375407032586033, 0.9573125307470658, 0.9599409656335652, 0.9824396186192518], 'auc_roc': [0.5159244535354867, 0.6989993357138532, 0.8511743813320966, 0.9154058885234805, 0.942873139423204, 0.9522440035812144, 0.969405974601503, 0.9692526177510915, 0.9864133034161634]}, 'metric_val': {'f1': [0.43173993113940273, 0.7363725304901775, 0.8214451712473193, 0.804970760233918, 0.7108899297423887, 0.7641666666666668, 0.76255442670537, 0.8296384014080861, 0.7908212560386474], 'accuracy': [0.6612903225806451, 0.7741935483870968, 0.8467741935483871, 0.8467741935483871, 0.7258064516129032, 0.782258064516129, 0.782258064516129, 0.8548387096774194, 0.8064516129032258], 'precision': [0.517902517902518, 0.7575016307893021, 0.836031746031746, 0.8600120445648901, 0.7000198000198, 0.7465051258154706, 0.7527777777777778, 0.8225065738305988, 0.7746178436501018], 'recall': [0.4545454545454546, 0.7239538239538238, 0.8112554112554112, 0.7721500721500721, 0.7616161616161617, 0.8002886002886003, 0.794949494949495, 0.8431457431457433, 0.8145743145743145], 'auc_roc': [0.5988980155646823, 0.7939795252092986, 0.8580919679625181, 0.8330928690151991, 0.814848330382311, 0.8457247894141098, 0.8424404553854393, 0.8829967407637311, 0.8562537187132656]}, 'train_loss': [0.9121272938251496, 0.6640096958875656, 0.45242585295438764, 0.3080184679180384, 0.19620814579725265, 0.18133087511360646, 0.11987591605260968, 0.10538705933466554, 0.0732070111129433], 'val_loss': [0.7634718379666728, 0.56435213262035, 0.4830287211844998, 0.5105617432104003, 0.7000837758664162, 0.5042534570900663, 0.6012487369589508, 0.586333722446955, 0.6133751047384595], 'best_metric_val': 0.8296384014080861, 'confusion_matrix': [[55, 9, 6], [3, 28, 2], [4, 0, 17]]}\n",
      "Fold: 3 | Epoch: 8 | Metric: 0.7908212560386474 | Training Loss: 0.0732070111129433 | Validation Loss: 0.6133751047384595\n",
      "\n"
     ]
    },
    {
     "data": {
      "application/vnd.jupyter.widget-view+json": {
       "model_id": "8dc16c625f9f42fd9eef67fb8ea71ec5",
       "version_major": 2,
       "version_minor": 0
      },
      "text/plain": [
       "  0%|          | 0/125 [00:00<?, ?it/s]"
      ]
     },
     "metadata": {},
     "output_type": "display_data"
    },
    {
     "data": {
      "application/vnd.jupyter.widget-view+json": {
       "model_id": "866cf01fa9a64e878c3aa18e0a6b83ee",
       "version_major": 2,
       "version_minor": 0
      },
      "text/plain": [
       "  0%|          | 0/31 [00:00<?, ?it/s]"
      ]
     },
     "metadata": {},
     "output_type": "display_data"
    },
    {
     "name": "stdout",
     "output_type": "stream",
     "text": [
      "\n",
      "New Best Score!\n",
      "{'metric_train': {'f1': [0.2933185149903416, 0.6279912610484524, 0.8093277078584803, 0.8835793657949758, 0.9276940141614386, 0.9402919923743056, 0.9571239144372559, 0.9605458447153126, 0.9831538062151634, 0.9814229156417644], 'accuracy': [0.5591182364729459, 0.7134268537074149, 0.8336673346693386, 0.8997995991983968, 0.9378757515030061, 0.9458917835671342, 0.9659318637274549, 0.9639278557114228, 0.9839679358717435, 0.9819639278557114], 'precision': [0.3245310245310245, 0.7472064235530279, 0.818677861930457, 0.8827384412665195, 0.9327152474108665, 0.9435753263973887, 0.957171410220021, 0.9611616288306367, 0.9838998323343674, 0.9814229156417644], 'recall': [0.35117483074472317, 0.5947103333567597, 0.8011619462599855, 0.8876847752243071, 0.9229507812683018, 0.9375407032586033, 0.9573125307470658, 0.9599409656335652, 0.9824396186192518, 0.9814229156417644], 'auc_roc': [0.5159244535354867, 0.6989993357138532, 0.8511743813320966, 0.9154058885234805, 0.942873139423204, 0.9522440035812144, 0.969405974601503, 0.9692526177510915, 0.9864133034161634, 0.9854470764695443]}, 'metric_val': {'f1': [0.43173993113940273, 0.7363725304901775, 0.8214451712473193, 0.804970760233918, 0.7108899297423887, 0.7641666666666668, 0.76255442670537, 0.8296384014080861, 0.7908212560386474, 0.8474033026330418], 'accuracy': [0.6612903225806451, 0.7741935483870968, 0.8467741935483871, 0.8467741935483871, 0.7258064516129032, 0.782258064516129, 0.782258064516129, 0.8548387096774194, 0.8064516129032258, 0.8709677419354839], 'precision': [0.517902517902518, 0.7575016307893021, 0.836031746031746, 0.8600120445648901, 0.7000198000198, 0.7465051258154706, 0.7527777777777778, 0.8225065738305988, 0.7746178436501018, 0.853835978835979], 'recall': [0.4545454545454546, 0.7239538239538238, 0.8112554112554112, 0.7721500721500721, 0.7616161616161617, 0.8002886002886003, 0.794949494949495, 0.8431457431457433, 0.8145743145743145, 0.8473304473304474], 'auc_roc': [0.5988980155646823, 0.7939795252092986, 0.8580919679625181, 0.8330928690151991, 0.814848330382311, 0.8457247894141098, 0.8424404553854393, 0.8829967407637311, 0.8562537187132656, 0.8858155029676066]}, 'train_loss': [0.9121272938251496, 0.6640096958875656, 0.45242585295438764, 0.3080184679180384, 0.19620814579725265, 0.18133087511360646, 0.11987591605260968, 0.10538705933466554, 0.0732070111129433, 0.06398159595951437], 'val_loss': [0.7634718379666728, 0.56435213262035, 0.4830287211844998, 0.5105617432104003, 0.7000837758664162, 0.5042534570900663, 0.6012487369589508, 0.586333722446955, 0.6133751047384595, 0.49032908782453066], 'best_metric_val': 0.8474033026330418, 'confusion_matrix': [[64, 1, 5], [4, 27, 2], [4, 0, 17]]}\n",
      "Fold: 3 | Epoch: 9 | Metric: 0.8474033026330418 | Training Loss: 0.06398159595951437 | Validation Loss: 0.49032908782453066\n",
      "\n"
     ]
    },
    {
     "data": {
      "application/vnd.jupyter.widget-view+json": {
       "model_id": "35c6ace470ae479198d3339945640a72",
       "version_major": 2,
       "version_minor": 0
      },
      "text/plain": [
       "  0%|          | 0/125 [00:00<?, ?it/s]"
      ]
     },
     "metadata": {},
     "output_type": "display_data"
    },
    {
     "data": {
      "application/vnd.jupyter.widget-view+json": {
       "model_id": "cf882b90e8474a3d96bd9a7dfcdef5cc",
       "version_major": 2,
       "version_minor": 0
      },
      "text/plain": [
       "  0%|          | 0/31 [00:00<?, ?it/s]"
      ]
     },
     "metadata": {},
     "output_type": "display_data"
    },
    {
     "name": "stdout",
     "output_type": "stream",
     "text": [
      "{'metric_train': {'f1': [0.2933185149903416, 0.6279912610484524, 0.8093277078584803, 0.8835793657949758, 0.9276940141614386, 0.9402919923743056, 0.9571239144372559, 0.9605458447153126, 0.9831538062151634, 0.9814229156417644, 0.9817882964758748], 'accuracy': [0.5591182364729459, 0.7134268537074149, 0.8336673346693386, 0.8997995991983968, 0.9378757515030061, 0.9458917835671342, 0.9659318637274549, 0.9639278557114228, 0.9839679358717435, 0.9819639278557114, 0.9839679358717435], 'precision': [0.3245310245310245, 0.7472064235530279, 0.818677861930457, 0.8827384412665195, 0.9327152474108665, 0.9435753263973887, 0.957171410220021, 0.9611616288306367, 0.9838998323343674, 0.9814229156417644, 0.9837946779437452], 'recall': [0.35117483074472317, 0.5947103333567597, 0.8011619462599855, 0.8876847752243071, 0.9229507812683018, 0.9375407032586033, 0.9573125307470658, 0.9599409656335652, 0.9824396186192518, 0.9814229156417644, 0.9800688734275073], 'auc_roc': [0.5159244535354867, 0.6989993357138532, 0.8511743813320966, 0.9154058885234805, 0.942873139423204, 0.9522440035812144, 0.969405974601503, 0.9692526177510915, 0.9864133034161634, 0.9854470764695443, 0.9849835294889333]}, 'metric_val': {'f1': [0.43173993113940273, 0.7363725304901775, 0.8214451712473193, 0.804970760233918, 0.7108899297423887, 0.7641666666666668, 0.76255442670537, 0.8296384014080861, 0.7908212560386474, 0.8474033026330418, 0.8205258524756257], 'accuracy': [0.6612903225806451, 0.7741935483870968, 0.8467741935483871, 0.8467741935483871, 0.7258064516129032, 0.782258064516129, 0.782258064516129, 0.8548387096774194, 0.8064516129032258, 0.8709677419354839, 0.8467741935483871], 'precision': [0.517902517902518, 0.7575016307893021, 0.836031746031746, 0.8600120445648901, 0.7000198000198, 0.7465051258154706, 0.7527777777777778, 0.8225065738305988, 0.7746178436501018, 0.853835978835979, 0.8227106227106228], 'recall': [0.4545454545454546, 0.7239538239538238, 0.8112554112554112, 0.7721500721500721, 0.7616161616161617, 0.8002886002886003, 0.794949494949495, 0.8431457431457433, 0.8145743145743145, 0.8473304473304474, 0.8277056277056277], 'auc_roc': [0.5988980155646823, 0.7939795252092986, 0.8580919679625181, 0.8330928690151991, 0.814848330382311, 0.8457247894141098, 0.8424404553854393, 0.8829967407637311, 0.8562537187132656, 0.8858155029676066, 0.8709353453690024]}, 'train_loss': [0.9121272938251496, 0.6640096958875656, 0.45242585295438764, 0.3080184679180384, 0.19620814579725265, 0.18133087511360646, 0.11987591605260968, 0.10538705933466554, 0.0732070111129433, 0.06398159595951437, 0.06070233991555869], 'val_loss': [0.7634718379666728, 0.56435213262035, 0.4830287211844998, 0.5105617432104003, 0.7000837758664162, 0.5042534570900663, 0.6012487369589508, 0.586333722446955, 0.6133751047384595, 0.49032908782453066, 0.5363595524367185], 'best_metric_val': 0.8474033026330418, 'confusion_matrix': [[62, 2, 6], [4, 26, 3], [4, 0, 17]]}\n",
      "Fold: 3 | Epoch: 10 | Metric: 0.8205258524756257 | Training Loss: 0.06070233991555869 | Validation Loss: 0.5363595524367185\n",
      "\n"
     ]
    },
    {
     "data": {
      "application/vnd.jupyter.widget-view+json": {
       "model_id": "087d3c791aa245eead1bd93650c8509b",
       "version_major": 2,
       "version_minor": 0
      },
      "text/plain": [
       "  0%|          | 0/125 [00:00<?, ?it/s]"
      ]
     },
     "metadata": {},
     "output_type": "display_data"
    },
    {
     "data": {
      "application/vnd.jupyter.widget-view+json": {
       "model_id": "9b096bd637e74b0a99d11fdd9e619aab",
       "version_major": 2,
       "version_minor": 0
      },
      "text/plain": [
       "  0%|          | 0/31 [00:00<?, ?it/s]"
      ]
     },
     "metadata": {},
     "output_type": "display_data"
    },
    {
     "name": "stdout",
     "output_type": "stream",
     "text": [
      "{'metric_train': {'f1': [0.2933185149903416, 0.6279912610484524, 0.8093277078584803, 0.8835793657949758, 0.9276940141614386, 0.9402919923743056, 0.9571239144372559, 0.9605458447153126, 0.9831538062151634, 0.9814229156417644, 0.9817882964758748, 0.9834912654187322], 'accuracy': [0.5591182364729459, 0.7134268537074149, 0.8336673346693386, 0.8997995991983968, 0.9378757515030061, 0.9458917835671342, 0.9659318637274549, 0.9639278557114228, 0.9839679358717435, 0.9819639278557114, 0.9839679358717435, 0.9859719438877755], 'precision': [0.3245310245310245, 0.7472064235530279, 0.818677861930457, 0.8827384412665195, 0.9327152474108665, 0.9435753263973887, 0.957171410220021, 0.9611616288306367, 0.9838998323343674, 0.9814229156417644, 0.9837946779437452, 0.9861533265788585], 'recall': [0.35117483074472317, 0.5947103333567597, 0.8011619462599855, 0.8876847752243071, 0.9229507812683018, 0.9375407032586033, 0.9573125307470658, 0.9599409656335652, 0.9824396186192518, 0.9814229156417644, 0.9800688734275073, 0.9809075362522548], 'auc_roc': [0.5159244535354867, 0.6989993357138532, 0.8511743813320966, 0.9154058885234805, 0.942873139423204, 0.9522440035812144, 0.969405974601503, 0.9692526177510915, 0.9864133034161634, 0.9854470764695443, 0.9849835294889333, 0.9858607363591826]}, 'metric_val': {'f1': [0.43173993113940273, 0.7363725304901775, 0.8214451712473193, 0.804970760233918, 0.7108899297423887, 0.7641666666666668, 0.76255442670537, 0.8296384014080861, 0.7908212560386474, 0.8474033026330418, 0.8205258524756257, 0.7642540638464551], 'accuracy': [0.6612903225806451, 0.7741935483870968, 0.8467741935483871, 0.8467741935483871, 0.7258064516129032, 0.782258064516129, 0.782258064516129, 0.8548387096774194, 0.8064516129032258, 0.8709677419354839, 0.8467741935483871, 0.7741935483870968], 'precision': [0.517902517902518, 0.7575016307893021, 0.836031746031746, 0.8600120445648901, 0.7000198000198, 0.7465051258154706, 0.7527777777777778, 0.8225065738305988, 0.7746178436501018, 0.853835978835979, 0.8227106227106228, 0.7474123913652929], 'recall': [0.4545454545454546, 0.7239538239538238, 0.8112554112554112, 0.7721500721500721, 0.7616161616161617, 0.8002886002886003, 0.794949494949495, 0.8431457431457433, 0.8145743145743145, 0.8473304473304474, 0.8277056277056277, 0.7955266955266955], 'auc_roc': [0.5988980155646823, 0.7939795252092986, 0.8580919679625181, 0.8330928690151991, 0.814848330382311, 0.8457247894141098, 0.8424404553854393, 0.8829967407637311, 0.8562537187132656, 0.8858155029676066, 0.8709353453690024, 0.8394039018634488]}, 'train_loss': [0.9121272938251496, 0.6640096958875656, 0.45242585295438764, 0.3080184679180384, 0.19620814579725265, 0.18133087511360646, 0.11987591605260968, 0.10538705933466554, 0.0732070111129433, 0.06398159595951437, 0.06070233991555869, 0.05812475398369134], 'val_loss': [0.7634718379666728, 0.56435213262035, 0.4830287211844998, 0.5105617432104003, 0.7000837758664162, 0.5042534570900663, 0.6012487369589508, 0.586333722446955, 0.6133751047384595, 0.49032908782453066, 0.5363595524367185, 0.5836732669943764], 'best_metric_val': 0.8474033026330418, 'confusion_matrix': [[51, 13, 6], [3, 28, 2], [4, 0, 17]]}\n",
      "Fold: 3 | Epoch: 11 | Metric: 0.7642540638464551 | Training Loss: 0.05812475398369134 | Validation Loss: 0.5836732669943764\n",
      "\n"
     ]
    },
    {
     "data": {
      "application/vnd.jupyter.widget-view+json": {
       "model_id": "0d6e7368b57e464e93a690a9c6fa7bf7",
       "version_major": 2,
       "version_minor": 0
      },
      "text/plain": [
       "  0%|          | 0/125 [00:00<?, ?it/s]"
      ]
     },
     "metadata": {},
     "output_type": "display_data"
    },
    {
     "data": {
      "application/vnd.jupyter.widget-view+json": {
       "model_id": "55e55c55fc374af2b0026e0ba7550b87",
       "version_major": 2,
       "version_minor": 0
      },
      "text/plain": [
       "  0%|          | 0/31 [00:00<?, ?it/s]"
      ]
     },
     "metadata": {},
     "output_type": "display_data"
    },
    {
     "name": "stdout",
     "output_type": "stream",
     "text": [
      "{'metric_train': {'f1': [0.2933185149903416, 0.6279912610484524, 0.8093277078584803, 0.8835793657949758, 0.9276940141614386, 0.9402919923743056, 0.9571239144372559, 0.9605458447153126, 0.9831538062151634, 0.9814229156417644, 0.9817882964758748, 0.9834912654187322, 1.0], 'accuracy': [0.5591182364729459, 0.7134268537074149, 0.8336673346693386, 0.8997995991983968, 0.9378757515030061, 0.9458917835671342, 0.9659318637274549, 0.9639278557114228, 0.9839679358717435, 0.9819639278557114, 0.9839679358717435, 0.9859719438877755, 1.0], 'precision': [0.3245310245310245, 0.7472064235530279, 0.818677861930457, 0.8827384412665195, 0.9327152474108665, 0.9435753263973887, 0.957171410220021, 0.9611616288306367, 0.9838998323343674, 0.9814229156417644, 0.9837946779437452, 0.9861533265788585, 1.0], 'recall': [0.35117483074472317, 0.5947103333567597, 0.8011619462599855, 0.8876847752243071, 0.9229507812683018, 0.9375407032586033, 0.9573125307470658, 0.9599409656335652, 0.9824396186192518, 0.9814229156417644, 0.9800688734275073, 0.9809075362522548, 1.0], 'auc_roc': [0.5159244535354867, 0.6989993357138532, 0.8511743813320966, 0.9154058885234805, 0.942873139423204, 0.9522440035812144, 0.969405974601503, 0.9692526177510915, 0.9864133034161634, 0.9854470764695443, 0.9849835294889333, 0.9858607363591826, 1.0]}, 'metric_val': {'f1': [0.43173993113940273, 0.7363725304901775, 0.8214451712473193, 0.804970760233918, 0.7108899297423887, 0.7641666666666668, 0.76255442670537, 0.8296384014080861, 0.7908212560386474, 0.8474033026330418, 0.8205258524756257, 0.7642540638464551, 0.8292443903757772], 'accuracy': [0.6612903225806451, 0.7741935483870968, 0.8467741935483871, 0.8467741935483871, 0.7258064516129032, 0.782258064516129, 0.782258064516129, 0.8548387096774194, 0.8064516129032258, 0.8709677419354839, 0.8467741935483871, 0.7741935483870968, 0.8548387096774194], 'precision': [0.517902517902518, 0.7575016307893021, 0.836031746031746, 0.8600120445648901, 0.7000198000198, 0.7465051258154706, 0.7527777777777778, 0.8225065738305988, 0.7746178436501018, 0.853835978835979, 0.8227106227106228, 0.7474123913652929, 0.8244702413856643], 'recall': [0.4545454545454546, 0.7239538239538238, 0.8112554112554112, 0.7721500721500721, 0.7616161616161617, 0.8002886002886003, 0.794949494949495, 0.8431457431457433, 0.8145743145743145, 0.8473304473304474, 0.8277056277056277, 0.7955266955266955, 0.8431457431457433], 'auc_roc': [0.5988980155646823, 0.7939795252092986, 0.8580919679625181, 0.8330928690151991, 0.814848330382311, 0.8457247894141098, 0.8424404553854393, 0.8829967407637311, 0.8562537187132656, 0.8858155029676066, 0.8709353453690024, 0.8394039018634488, 0.8832101196178866]}, 'train_loss': [0.9121272938251496, 0.6640096958875656, 0.45242585295438764, 0.3080184679180384, 0.19620814579725265, 0.18133087511360646, 0.11987591605260968, 0.10538705933466554, 0.0732070111129433, 0.06398159595951437, 0.06070233991555869, 0.05812475398369134, 0.02862890409771353], 'val_loss': [0.7634718379666728, 0.56435213262035, 0.4830287211844998, 0.5105617432104003, 0.7000837758664162, 0.5042534570900663, 0.6012487369589508, 0.586333722446955, 0.6133751047384595, 0.49032908782453066, 0.5363595524367185, 0.5836732669943764, 0.5153207848592091], 'best_metric_val': 0.8474033026330418, 'confusion_matrix': [[61, 2, 7], [2, 28, 3], [4, 0, 17]]}\n",
      "Fold: 3 | Epoch: 12 | Metric: 0.8292443903757772 | Training Loss: 0.02862890409771353 | Validation Loss: 0.5153207848592091\n",
      "\n"
     ]
    },
    {
     "data": {
      "application/vnd.jupyter.widget-view+json": {
       "model_id": "ceb4b66ef6754c2daf92857c3b46bd3c",
       "version_major": 2,
       "version_minor": 0
      },
      "text/plain": [
       "  0%|          | 0/125 [00:00<?, ?it/s]"
      ]
     },
     "metadata": {},
     "output_type": "display_data"
    },
    {
     "data": {
      "application/vnd.jupyter.widget-view+json": {
       "model_id": "cc3aadec64d4429cad1852e5b221ba2c",
       "version_major": 2,
       "version_minor": 0
      },
      "text/plain": [
       "  0%|          | 0/31 [00:00<?, ?it/s]"
      ]
     },
     "metadata": {},
     "output_type": "display_data"
    },
    {
     "name": "stdout",
     "output_type": "stream",
     "text": [
      "{'metric_train': {'f1': [0.2933185149903416, 0.6279912610484524, 0.8093277078584803, 0.8835793657949758, 0.9276940141614386, 0.9402919923743056, 0.9571239144372559, 0.9605458447153126, 0.9831538062151634, 0.9814229156417644, 0.9817882964758748, 0.9834912654187322, 1.0, 0.9905720504879371], 'accuracy': [0.5591182364729459, 0.7134268537074149, 0.8336673346693386, 0.8997995991983968, 0.9378757515030061, 0.9458917835671342, 0.9659318637274549, 0.9639278557114228, 0.9839679358717435, 0.9819639278557114, 0.9839679358717435, 0.9859719438877755, 1.0, 0.9919839679358717], 'precision': [0.3245310245310245, 0.7472064235530279, 0.818677861930457, 0.8827384412665195, 0.9327152474108665, 0.9435753263973887, 0.957171410220021, 0.9611616288306367, 0.9838998323343674, 0.9814229156417644, 0.9837946779437452, 0.9861533265788585, 1.0, 0.9912099168025419], 'recall': [0.35117483074472317, 0.5947103333567597, 0.8011619462599855, 0.8876847752243071, 0.9229507812683018, 0.9375407032586033, 0.9573125307470658, 0.9599409656335652, 0.9824396186192518, 0.9814229156417644, 0.9800688734275073, 0.9809075362522548, 1.0, 0.9899454166373838], 'auc_roc': [0.5159244535354867, 0.6989993357138532, 0.8511743813320966, 0.9154058885234805, 0.942873139423204, 0.9522440035812144, 0.969405974601503, 0.9692526177510915, 0.9864133034161634, 0.9854470764695443, 0.9849835294889333, 0.9858607363591826, 1.0, 0.9925971048561318]}, 'metric_val': {'f1': [0.43173993113940273, 0.7363725304901775, 0.8214451712473193, 0.804970760233918, 0.7108899297423887, 0.7641666666666668, 0.76255442670537, 0.8296384014080861, 0.7908212560386474, 0.8474033026330418, 0.8205258524756257, 0.7642540638464551, 0.8292443903757772, 0.8103827876877522], 'accuracy': [0.6612903225806451, 0.7741935483870968, 0.8467741935483871, 0.8467741935483871, 0.7258064516129032, 0.782258064516129, 0.782258064516129, 0.8548387096774194, 0.8064516129032258, 0.8709677419354839, 0.8467741935483871, 0.7741935483870968, 0.8548387096774194, 0.8306451612903226], 'precision': [0.517902517902518, 0.7575016307893021, 0.836031746031746, 0.8600120445648901, 0.7000198000198, 0.7465051258154706, 0.7527777777777778, 0.8225065738305988, 0.7746178436501018, 0.853835978835979, 0.8227106227106228, 0.7474123913652929, 0.8244702413856643, 0.7982128982128982], 'recall': [0.4545454545454546, 0.7239538239538238, 0.8112554112554112, 0.7721500721500721, 0.7616161616161617, 0.8002886002886003, 0.794949494949495, 0.8431457431457433, 0.8145743145743145, 0.8473304473304474, 0.8277056277056277, 0.7955266955266955, 0.8431457431457433, 0.8288600288600289], 'auc_roc': [0.5988980155646823, 0.7939795252092986, 0.8580919679625181, 0.8330928690151991, 0.814848330382311, 0.8457247894141098, 0.8424404553854393, 0.8829967407637311, 0.8562537187132656, 0.8858155029676066, 0.8709353453690024, 0.8394039018634488, 0.8832101196178866, 0.8691044602047838]}, 'train_loss': [0.9121272938251496, 0.6640096958875656, 0.45242585295438764, 0.3080184679180384, 0.19620814579725265, 0.18133087511360646, 0.11987591605260968, 0.10538705933466554, 0.0732070111129433, 0.06398159595951437, 0.06070233991555869, 0.05812475398369134, 0.02862890409771353, 0.032141413043253124], 'val_loss': [0.7634718379666728, 0.56435213262035, 0.4830287211844998, 0.5105617432104003, 0.7000837758664162, 0.5042534570900663, 0.6012487369589508, 0.586333722446955, 0.6133751047384595, 0.49032908782453066, 0.5363595524367185, 0.5836732669943764, 0.5153207848592091, 0.548420388904971], 'best_metric_val': 0.8474033026330418, 'confusion_matrix': [[58, 5, 7], [3, 28, 2], [4, 0, 17]]}\n",
      "Fold: 3 | Epoch: 13 | Metric: 0.8103827876877522 | Training Loss: 0.032141413043253124 | Validation Loss: 0.548420388904971\n",
      "\n"
     ]
    },
    {
     "data": {
      "application/vnd.jupyter.widget-view+json": {
       "model_id": "5268af3fa56447dfbcda82a3a8cd21a5",
       "version_major": 2,
       "version_minor": 0
      },
      "text/plain": [
       "  0%|          | 0/125 [00:00<?, ?it/s]"
      ]
     },
     "metadata": {},
     "output_type": "display_data"
    },
    {
     "data": {
      "application/vnd.jupyter.widget-view+json": {
       "model_id": "19f2bd8d083146b9a5f39e3c67ec7279",
       "version_major": 2,
       "version_minor": 0
      },
      "text/plain": [
       "  0%|          | 0/31 [00:00<?, ?it/s]"
      ]
     },
     "metadata": {},
     "output_type": "display_data"
    },
    {
     "name": "stdout",
     "output_type": "stream",
     "text": [
      "{'metric_train': {'f1': [0.2933185149903416, 0.6279912610484524, 0.8093277078584803, 0.8835793657949758, 0.9276940141614386, 0.9402919923743056, 0.9571239144372559, 0.9605458447153126, 0.9831538062151634, 0.9814229156417644, 0.9817882964758748, 0.9834912654187322, 1.0, 0.9905720504879371, 0.9912198093096259], 'accuracy': [0.5591182364729459, 0.7134268537074149, 0.8336673346693386, 0.8997995991983968, 0.9378757515030061, 0.9458917835671342, 0.9659318637274549, 0.9639278557114228, 0.9839679358717435, 0.9819639278557114, 0.9839679358717435, 0.9859719438877755, 1.0, 0.9919839679358717, 0.9919839679358717], 'precision': [0.3245310245310245, 0.7472064235530279, 0.818677861930457, 0.8827384412665195, 0.9327152474108665, 0.9435753263973887, 0.957171410220021, 0.9611616288306367, 0.9838998323343674, 0.9814229156417644, 0.9837946779437452, 0.9861533265788585, 1.0, 0.9912099168025419, 0.9912198093096259], 'recall': [0.35117483074472317, 0.5947103333567597, 0.8011619462599855, 0.8876847752243071, 0.9229507812683018, 0.9375407032586033, 0.9573125307470658, 0.9599409656335652, 0.9824396186192518, 0.9814229156417644, 0.9800688734275073, 0.9809075362522548, 1.0, 0.9899454166373838, 0.9912198093096259], 'auc_roc': [0.5159244535354867, 0.6989993357138532, 0.8511743813320966, 0.9154058885234805, 0.942873139423204, 0.9522440035812144, 0.969405974601503, 0.9692526177510915, 0.9864133034161634, 0.9854470764695443, 0.9849835294889333, 0.9858607363591826, 1.0, 0.9925971048561318, 0.993234301192253]}, 'metric_val': {'f1': [0.43173993113940273, 0.7363725304901775, 0.8214451712473193, 0.804970760233918, 0.7108899297423887, 0.7641666666666668, 0.76255442670537, 0.8296384014080861, 0.7908212560386474, 0.8474033026330418, 0.8205258524756257, 0.7642540638464551, 0.8292443903757772, 0.8103827876877522, 0.8270647817410408], 'accuracy': [0.6612903225806451, 0.7741935483870968, 0.8467741935483871, 0.8467741935483871, 0.7258064516129032, 0.782258064516129, 0.782258064516129, 0.8548387096774194, 0.8064516129032258, 0.8709677419354839, 0.8467741935483871, 0.7741935483870968, 0.8548387096774194, 0.8306451612903226, 0.8467741935483871], 'precision': [0.517902517902518, 0.7575016307893021, 0.836031746031746, 0.8600120445648901, 0.7000198000198, 0.7465051258154706, 0.7527777777777778, 0.8225065738305988, 0.7746178436501018, 0.853835978835979, 0.8227106227106228, 0.7474123913652929, 0.8244702413856643, 0.7982128982128982, 0.8223128019323672], 'recall': [0.4545454545454546, 0.7239538239538238, 0.8112554112554112, 0.7721500721500721, 0.7616161616161617, 0.8002886002886003, 0.794949494949495, 0.8431457431457433, 0.8145743145743145, 0.8473304473304474, 0.8277056277056277, 0.7955266955266955, 0.8431457431457433, 0.8288600288600289, 0.8330447330447331], 'auc_roc': [0.5988980155646823, 0.7939795252092986, 0.8580919679625181, 0.8330928690151991, 0.814848330382311, 0.8457247894141098, 0.8424404553854393, 0.8829967407637311, 0.8562537187132656, 0.8858155029676066, 0.8709353453690024, 0.8394039018634488, 0.8832101196178866, 0.8691044602047838, 0.8729647614760884]}, 'train_loss': [0.9121272938251496, 0.6640096958875656, 0.45242585295438764, 0.3080184679180384, 0.19620814579725265, 0.18133087511360646, 0.11987591605260968, 0.10538705933466554, 0.0732070111129433, 0.06398159595951437, 0.06070233991555869, 0.05812475398369134, 0.02862890409771353, 0.032141413043253124, 0.03453494293335825], 'val_loss': [0.7634718379666728, 0.56435213262035, 0.4830287211844998, 0.5105617432104003, 0.7000837758664162, 0.5042534570900663, 0.6012487369589508, 0.586333722446955, 0.6133751047384595, 0.49032908782453066, 0.5363595524367185, 0.5836732669943764, 0.5153207848592091, 0.548420388904971, 0.5256528882948202], 'best_metric_val': 0.8474033026330418, 'confusion_matrix': [[61, 5, 4], [4, 27, 2], [4, 0, 17]]}\n",
      "Fold: 3 | Epoch: 14 | Metric: 0.8270647817410408 | Training Loss: 0.03453494293335825 | Validation Loss: 0.5256528882948202\n",
      "\n",
      "\n",
      "Fold: 5 / 5\n"
     ]
    },
    {
     "data": {
      "application/vnd.jupyter.widget-view+json": {
       "model_id": "8acad08dfa444600989d31784209e9ba",
       "version_major": 2,
       "version_minor": 0
      },
      "text/plain": [
       "  0%|          | 0/125 [00:00<?, ?it/s]"
      ]
     },
     "metadata": {},
     "output_type": "display_data"
    },
    {
     "data": {
      "application/vnd.jupyter.widget-view+json": {
       "model_id": "e2fb523243b7409585d01b1fe2041a37",
       "version_major": 2,
       "version_minor": 0
      },
      "text/plain": [
       "  0%|          | 0/31 [00:00<?, ?it/s]"
      ]
     },
     "metadata": {},
     "output_type": "display_data"
    },
    {
     "name": "stdout",
     "output_type": "stream",
     "text": [
      "\n",
      "New Best Score!\n",
      "{'metric_train': {'f1': [0.31452380626550297], 'accuracy': [0.5571142284569138], 'precision': [0.6502622091117666], 'recall': [0.35846502780216566], 'auc_roc': [0.5195673693044314]}, 'metric_val': {'f1': [0.48140547263681593], 'accuracy': [0.6854838709677419], 'precision': [0.452991452991453], 'recall': [0.5200341005967605], 'auc_roc': [0.654798195079525]}, 'train_loss': [0.9052925901412964], 'val_loss': [0.7174066670479313], 'best_metric_val': 0.48140547263681593, 'confusion_matrix': [[63, 6, 0], [12, 22, 0], [16, 5, 0]]}\n",
      "Fold: 4 | Epoch: 0 | Metric: 0.48140547263681593 | Training Loss: 0.9052925901412964 | Validation Loss: 0.7174066670479313\n",
      "\n"
     ]
    },
    {
     "data": {
      "application/vnd.jupyter.widget-view+json": {
       "model_id": "d5a1ec360cf04954a6c05b0326074e5f",
       "version_major": 2,
       "version_minor": 0
      },
      "text/plain": [
       "  0%|          | 0/125 [00:00<?, ?it/s]"
      ]
     },
     "metadata": {},
     "output_type": "display_data"
    },
    {
     "data": {
      "application/vnd.jupyter.widget-view+json": {
       "model_id": "1b27c5b778e6479dba74730f2b57417a",
       "version_major": 2,
       "version_minor": 0
      },
      "text/plain": [
       "  0%|          | 0/31 [00:00<?, ?it/s]"
      ]
     },
     "metadata": {},
     "output_type": "display_data"
    },
    {
     "name": "stdout",
     "output_type": "stream",
     "text": [
      "\n",
      "New Best Score!\n",
      "{'metric_train': {'f1': [0.31452380626550297, 0.6448686982887096], 'accuracy': [0.5571142284569138, 0.7394789579158316], 'precision': [0.6502622091117666, 0.7654483199266043], 'recall': [0.35846502780216566, 0.6165182490906811], 'auc_roc': [0.5195673693044314, 0.7193900887436069]}, 'metric_val': {'f1': [0.48140547263681593, 0.7196172248803828], 'accuracy': [0.6854838709677419, 0.7419354838709677], 'precision': [0.452991452991453, 0.7142857142857143], 'recall': [0.5200341005967605, 0.7625542970811513], 'auc_roc': [0.654798195079525, 0.8191543019517096]}, 'train_loss': [0.9052925901412964, 0.6465039218664169], 'val_loss': [0.7174066670479313, 0.673254378380314], 'best_metric_val': 0.7196172248803828, 'confusion_matrix': [[50, 6, 13], [5, 24, 5], [1, 2, 18]]}\n",
      "Fold: 4 | Epoch: 1 | Metric: 0.7196172248803828 | Training Loss: 0.6465039218664169 | Validation Loss: 0.673254378380314\n",
      "\n"
     ]
    },
    {
     "data": {
      "application/vnd.jupyter.widget-view+json": {
       "model_id": "ce3fa675de914a4c86533f22030bfafb",
       "version_major": 2,
       "version_minor": 0
      },
      "text/plain": [
       "  0%|          | 0/125 [00:00<?, ?it/s]"
      ]
     },
     "metadata": {},
     "output_type": "display_data"
    },
    {
     "data": {
      "application/vnd.jupyter.widget-view+json": {
       "model_id": "be3ffbcbd8304ae395cb6dfcecfe62e9",
       "version_major": 2,
       "version_minor": 0
      },
      "text/plain": [
       "  0%|          | 0/31 [00:00<?, ?it/s]"
      ]
     },
     "metadata": {},
     "output_type": "display_data"
    },
    {
     "name": "stdout",
     "output_type": "stream",
     "text": [
      "{'metric_train': {'f1': [0.31452380626550297, 0.6448686982887096, 0.814842443208691], 'accuracy': [0.5571142284569138, 0.7394789579158316, 0.8336673346693386], 'precision': [0.6502622091117666, 0.7654483199266043, 0.8098683240909598], 'recall': [0.35846502780216566, 0.6165182490906811, 0.8227455161168945], 'auc_roc': [0.5195673693044314, 0.7193900887436069, 0.8642238819637701]}, 'metric_val': {'f1': [0.48140547263681593, 0.7196172248803828, 0.650020036064917], 'accuracy': [0.6854838709677419, 0.7419354838709677, 0.7419354838709677], 'precision': [0.452991452991453, 0.7142857142857143, 0.7603425559947299], 'recall': [0.5200341005967605, 0.7625542970811513, 0.6162262006251776], 'auc_roc': [0.654798195079525, 0.8191543019517096, 0.7189152970371157]}, 'train_loss': [0.9052925901412964, 0.6465039218664169, 0.44823505204916], 'val_loss': [0.7174066670479313, 0.673254378380314, 0.5936433129733608], 'best_metric_val': 0.7196172248803828, 'confusion_matrix': [[66, 3, 0], [12, 19, 3], [14, 0, 7]]}\n",
      "Fold: 4 | Epoch: 2 | Metric: 0.650020036064917 | Training Loss: 0.44823505204916 | Validation Loss: 0.5936433129733608\n",
      "\n"
     ]
    },
    {
     "data": {
      "application/vnd.jupyter.widget-view+json": {
       "model_id": "e86c55ae2e9c417fa9044864eee030d4",
       "version_major": 2,
       "version_minor": 0
      },
      "text/plain": [
       "  0%|          | 0/125 [00:00<?, ?it/s]"
      ]
     },
     "metadata": {},
     "output_type": "display_data"
    },
    {
     "data": {
      "application/vnd.jupyter.widget-view+json": {
       "model_id": "8ea5d4d1afe44a3c9254de90f18ec448",
       "version_major": 2,
       "version_minor": 0
      },
      "text/plain": [
       "  0%|          | 0/31 [00:00<?, ?it/s]"
      ]
     },
     "metadata": {},
     "output_type": "display_data"
    },
    {
     "name": "stdout",
     "output_type": "stream",
     "text": [
      "\n",
      "New Best Score!\n",
      "{'metric_train': {'f1': [0.31452380626550297, 0.6448686982887096, 0.814842443208691, 0.833894177433438], 'accuracy': [0.5571142284569138, 0.7394789579158316, 0.8336673346693386, 0.8557114228456913], 'precision': [0.6502622091117666, 0.7654483199266043, 0.8098683240909598, 0.8497381564530803], 'recall': [0.35846502780216566, 0.6165182490906811, 0.8227455161168945, 0.8237562189054728], 'auc_roc': [0.5195673693044314, 0.7193900887436069, 0.8642238819637701, 0.8668843962636688]}, 'metric_val': {'f1': [0.48140547263681593, 0.7196172248803828, 0.650020036064917, 0.8174818840579711], 'accuracy': [0.6854838709677419, 0.7419354838709677, 0.7419354838709677, 0.8387096774193549], 'precision': [0.452991452991453, 0.7142857142857143, 0.7603425559947299, 0.8165217391304348], 'recall': [0.5200341005967605, 0.7625542970811513, 0.6162262006251776, 0.8244022246579791], 'auc_roc': [0.654798195079525, 0.8191543019517096, 0.7189152970371157, 0.8664278456819364]}, 'train_loss': [0.9052925901412964, 0.6465039218664169, 0.44823505204916, 0.39826644682884216], 'val_loss': [0.7174066670479313, 0.673254378380314, 0.5936433129733608, 0.4804773560214427], 'best_metric_val': 0.8174818840579711, 'confusion_matrix': [[60, 3, 6], [5, 27, 2], [4, 0, 17]]}\n",
      "Fold: 4 | Epoch: 3 | Metric: 0.8174818840579711 | Training Loss: 0.39826644682884216 | Validation Loss: 0.4804773560214427\n",
      "\n"
     ]
    },
    {
     "data": {
      "application/vnd.jupyter.widget-view+json": {
       "model_id": "04ea5cb102ff42deb622d3984ee683d8",
       "version_major": 2,
       "version_minor": 0
      },
      "text/plain": [
       "  0%|          | 0/125 [00:00<?, ?it/s]"
      ]
     },
     "metadata": {},
     "output_type": "display_data"
    },
    {
     "data": {
      "application/vnd.jupyter.widget-view+json": {
       "model_id": "22231e9d20774931a9a7280006e8f198",
       "version_major": 2,
       "version_minor": 0
      },
      "text/plain": [
       "  0%|          | 0/31 [00:00<?, ?it/s]"
      ]
     },
     "metadata": {},
     "output_type": "display_data"
    },
    {
     "name": "stdout",
     "output_type": "stream",
     "text": [
      "\n",
      "New Best Score!\n",
      "{'metric_train': {'f1': [0.31452380626550297, 0.6448686982887096, 0.814842443208691, 0.833894177433438, 0.8950871701783214], 'accuracy': [0.5571142284569138, 0.7394789579158316, 0.8336673346693386, 0.8557114228456913, 0.9078156312625251], 'precision': [0.6502622091117666, 0.7654483199266043, 0.8098683240909598, 0.8497381564530803, 0.9014379331232232], 'recall': [0.35846502780216566, 0.6165182490906811, 0.8227455161168945, 0.8237562189054728, 0.8900037626991096], 'auc_roc': [0.5195673693044314, 0.7193900887436069, 0.8642238819637701, 0.8668843962636688, 0.9177325631928035]}, 'metric_val': {'f1': [0.48140547263681593, 0.7196172248803828, 0.650020036064917, 0.8174818840579711, 0.8200753780831067], 'accuracy': [0.6854838709677419, 0.7419354838709677, 0.7419354838709677, 0.8387096774193549, 0.8387096774193549], 'precision': [0.452991452991453, 0.7142857142857143, 0.7603425559947299, 0.8165217391304348, 0.8240321769733535], 'recall': [0.5200341005967605, 0.7625542970811513, 0.6162262006251776, 0.8244022246579791, 0.8426095075711443], 'auc_roc': [0.654798195079525, 0.8191543019517096, 0.7189152970371157, 0.8664278456819364, 0.8771773960659814]}, 'train_loss': [0.9052925901412964, 0.6465039218664169, 0.44823505204916, 0.39826644682884216, 0.28571308106184007], 'val_loss': [0.7174066670479313, 0.673254378380314, 0.5936433129733608, 0.4804773560214427, 0.4472326195288089], 'best_metric_val': 0.8200753780831067, 'confusion_matrix': [[60, 2, 7], [7, 24, 3], [1, 0, 20]]}\n",
      "Fold: 4 | Epoch: 4 | Metric: 0.8200753780831067 | Training Loss: 0.28571308106184007 | Validation Loss: 0.4472326195288089\n",
      "\n"
     ]
    },
    {
     "data": {
      "application/vnd.jupyter.widget-view+json": {
       "model_id": "19b16aac86da4e2e9803f104424abc34",
       "version_major": 2,
       "version_minor": 0
      },
      "text/plain": [
       "  0%|          | 0/125 [00:00<?, ?it/s]"
      ]
     },
     "metadata": {},
     "output_type": "display_data"
    },
    {
     "data": {
      "application/vnd.jupyter.widget-view+json": {
       "model_id": "ae164e4dbf1d42f5be70469c5b514d1a",
       "version_major": 2,
       "version_minor": 0
      },
      "text/plain": [
       "  0%|          | 0/31 [00:00<?, ?it/s]"
      ]
     },
     "metadata": {},
     "output_type": "display_data"
    },
    {
     "name": "stdout",
     "output_type": "stream",
     "text": [
      "{'metric_train': {'f1': [0.31452380626550297, 0.6448686982887096, 0.814842443208691, 0.833894177433438, 0.8950871701783214, 0.933312161532505], 'accuracy': [0.5571142284569138, 0.7394789579158316, 0.8336673346693386, 0.8557114228456913, 0.9078156312625251, 0.9338677354709419], 'precision': [0.6502622091117666, 0.7654483199266043, 0.8098683240909598, 0.8497381564530803, 0.9014379331232232, 0.9329483565732911], 'recall': [0.35846502780216566, 0.6165182490906811, 0.8227455161168945, 0.8237562189054728, 0.8900037626991096, 0.9340879635436264], 'auc_roc': [0.5195673693044314, 0.7193900887436069, 0.8642238819637701, 0.8668843962636688, 0.9177325631928035, 0.9478758261236099]}, 'metric_val': {'f1': [0.48140547263681593, 0.7196172248803828, 0.650020036064917, 0.8174818840579711, 0.8200753780831067, 0.7836352923847402], 'accuracy': [0.6854838709677419, 0.7419354838709677, 0.7419354838709677, 0.8387096774193549, 0.8387096774193549, 0.8225806451612904], 'precision': [0.452991452991453, 0.7142857142857143, 0.7603425559947299, 0.8165217391304348, 0.8240321769733535, 0.8083845978582821], 'recall': [0.5200341005967605, 0.7625542970811513, 0.6162262006251776, 0.8244022246579791, 0.8426095075711443, 0.7666950838306338], 'auc_roc': [0.654798195079525, 0.8191543019517096, 0.7189152970371157, 0.8664278456819364, 0.8771773960659814, 0.8284555802272386]}, 'train_loss': [0.9052925901412964, 0.6465039218664169, 0.44823505204916, 0.39826644682884216, 0.28571308106184007, 0.2218604287728667], 'val_loss': [0.7174066670479313, 0.673254378380314, 0.5936433129733608, 0.4804773560214427, 0.4472326195288089, 0.3922608987007651], 'best_metric_val': 0.8200753780831067, 'confusion_matrix': [[64, 2, 3], [8, 24, 2], [5, 2, 14]]}\n",
      "Fold: 4 | Epoch: 5 | Metric: 0.7836352923847402 | Training Loss: 0.2218604287728667 | Validation Loss: 0.3922608987007651\n",
      "\n"
     ]
    },
    {
     "data": {
      "application/vnd.jupyter.widget-view+json": {
       "model_id": "5eaf1ac38ad54327881514ab4dd6d89e",
       "version_major": 2,
       "version_minor": 0
      },
      "text/plain": [
       "  0%|          | 0/125 [00:00<?, ?it/s]"
      ]
     },
     "metadata": {},
     "output_type": "display_data"
    },
    {
     "data": {
      "application/vnd.jupyter.widget-view+json": {
       "model_id": "0afc1016c850414a866c67212382c155",
       "version_major": 2,
       "version_minor": 0
      },
      "text/plain": [
       "  0%|          | 0/31 [00:00<?, ?it/s]"
      ]
     },
     "metadata": {},
     "output_type": "display_data"
    },
    {
     "name": "stdout",
     "output_type": "stream",
     "text": [
      "{'metric_train': {'f1': [0.31452380626550297, 0.6448686982887096, 0.814842443208691, 0.833894177433438, 0.8950871701783214, 0.933312161532505, 0.9144895592930875], 'accuracy': [0.5571142284569138, 0.7394789579158316, 0.8336673346693386, 0.8557114228456913, 0.9078156312625251, 0.9338677354709419, 0.9278557114228457], 'precision': [0.6502622091117666, 0.7654483199266043, 0.8098683240909598, 0.8497381564530803, 0.9014379331232232, 0.9329483565732911, 0.9176504129107484], 'recall': [0.35846502780216566, 0.6165182490906811, 0.8227455161168945, 0.8237562189054728, 0.8900037626991096, 0.9340879635436264, 0.911535808353192], 'auc_roc': [0.5195673693044314, 0.7193900887436069, 0.8642238819637701, 0.8668843962636688, 0.9177325631928035, 0.9478758261236099, 0.9351956940868159]}, 'metric_val': {'f1': [0.48140547263681593, 0.7196172248803828, 0.650020036064917, 0.8174818840579711, 0.8200753780831067, 0.7836352923847402, 0.811249182472204], 'accuracy': [0.6854838709677419, 0.7419354838709677, 0.7419354838709677, 0.8387096774193549, 0.8387096774193549, 0.8225806451612904, 0.8467741935483871], 'precision': [0.452991452991453, 0.7142857142857143, 0.7603425559947299, 0.8165217391304348, 0.8240321769733535, 0.8083845978582821, 0.8114539504441328], 'recall': [0.5200341005967605, 0.7625542970811513, 0.6162262006251776, 0.8244022246579791, 0.8426095075711443, 0.7666950838306338, 0.8132180408395242], 'auc_roc': [0.654798195079525, 0.8191543019517096, 0.7189152970371157, 0.8664278456819364, 0.8771773960659814, 0.8284555802272386, 0.8648107791069576]}, 'train_loss': [0.9052925901412964, 0.6465039218664169, 0.44823505204916, 0.39826644682884216, 0.28571308106184007, 0.2218604287728667, 0.19512939660623668], 'val_loss': [0.7174066670479313, 0.673254378380314, 0.5936433129733608, 0.4804773560214427, 0.4472326195288089, 0.3922608987007651, 0.42694288512669326], 'best_metric_val': 0.8200753780831067, 'confusion_matrix': [[63, 3, 3], [4, 26, 4], [3, 2, 16]]}\n",
      "Fold: 4 | Epoch: 6 | Metric: 0.811249182472204 | Training Loss: 0.19512939660623668 | Validation Loss: 0.42694288512669326\n",
      "\n"
     ]
    },
    {
     "data": {
      "application/vnd.jupyter.widget-view+json": {
       "model_id": "f15b668f601e410280402353e7ea2b04",
       "version_major": 2,
       "version_minor": 0
      },
      "text/plain": [
       "  0%|          | 0/125 [00:00<?, ?it/s]"
      ]
     },
     "metadata": {},
     "output_type": "display_data"
    },
    {
     "data": {
      "application/vnd.jupyter.widget-view+json": {
       "model_id": "bdaaf7f3bb9c4bd8836744e710f4a26d",
       "version_major": 2,
       "version_minor": 0
      },
      "text/plain": [
       "  0%|          | 0/31 [00:00<?, ?it/s]"
      ]
     },
     "metadata": {},
     "output_type": "display_data"
    },
    {
     "name": "stdout",
     "output_type": "stream",
     "text": [
      "{'metric_train': {'f1': [0.31452380626550297, 0.6448686982887096, 0.814842443208691, 0.833894177433438, 0.8950871701783214, 0.933312161532505, 0.9144895592930875, 0.962070952783027], 'accuracy': [0.5571142284569138, 0.7394789579158316, 0.8336673346693386, 0.8557114228456913, 0.9078156312625251, 0.9338677354709419, 0.9278557114228457, 0.969939879759519], 'precision': [0.6502622091117666, 0.7654483199266043, 0.8098683240909598, 0.8497381564530803, 0.9014379331232232, 0.9329483565732911, 0.9176504129107484, 0.9620626943104805], 'recall': [0.35846502780216566, 0.6165182490906811, 0.8227455161168945, 0.8237562189054728, 0.8900037626991096, 0.9340879635436264, 0.911535808353192, 0.9621388854049083], 'auc_roc': [0.5195673693044314, 0.7193900887436069, 0.8642238819637701, 0.8668843962636688, 0.9177325631928035, 0.9478758261236099, 0.9351956940868159, 0.9729682801939061]}, 'metric_val': {'f1': [0.48140547263681593, 0.7196172248803828, 0.650020036064917, 0.8174818840579711, 0.8200753780831067, 0.7836352923847402, 0.811249182472204, 0.8121693121693122], 'accuracy': [0.6854838709677419, 0.7419354838709677, 0.7419354838709677, 0.8387096774193549, 0.8387096774193549, 0.8225806451612904, 0.8467741935483871, 0.8467741935483871], 'precision': [0.452991452991453, 0.7142857142857143, 0.7603425559947299, 0.8165217391304348, 0.8240321769733535, 0.8083845978582821, 0.8114539504441328, 0.8168474448221898], 'recall': [0.5200341005967605, 0.7625542970811513, 0.6162262006251776, 0.8244022246579791, 0.8426095075711443, 0.7666950838306338, 0.8132180408395242, 0.8132180408395242], 'auc_roc': [0.654798195079525, 0.8191543019517096, 0.7189152970371157, 0.8664278456819364, 0.8771773960659814, 0.8284555802272386, 0.8648107791069576, 0.863866056803012]}, 'train_loss': [0.9052925901412964, 0.6465039218664169, 0.44823505204916, 0.39826644682884216, 0.28571308106184007, 0.2218604287728667, 0.19512939660623668, 0.1279953458532691], 'val_loss': [0.7174066670479313, 0.673254378380314, 0.5936433129733608, 0.4804773560214427, 0.4472326195288089, 0.3922608987007651, 0.42694288512669326, 0.4105692441545187], 'best_metric_val': 0.8200753780831067, 'confusion_matrix': [[63, 1, 5], [5, 26, 3], [3, 2, 16]]}\n",
      "Fold: 4 | Epoch: 7 | Metric: 0.8121693121693122 | Training Loss: 0.1279953458532691 | Validation Loss: 0.4105692441545187\n",
      "\n"
     ]
    },
    {
     "data": {
      "application/vnd.jupyter.widget-view+json": {
       "model_id": "523fafb6cff84eed89489d52113391df",
       "version_major": 2,
       "version_minor": 0
      },
      "text/plain": [
       "  0%|          | 0/125 [00:00<?, ?it/s]"
      ]
     },
     "metadata": {},
     "output_type": "display_data"
    },
    {
     "data": {
      "application/vnd.jupyter.widget-view+json": {
       "model_id": "3434207d33074a82b1231a2c546fa9ce",
       "version_major": 2,
       "version_minor": 0
      },
      "text/plain": [
       "  0%|          | 0/31 [00:00<?, ?it/s]"
      ]
     },
     "metadata": {},
     "output_type": "display_data"
    },
    {
     "name": "stdout",
     "output_type": "stream",
     "text": [
      "{'metric_train': {'f1': [0.31452380626550297, 0.6448686982887096, 0.814842443208691, 0.833894177433438, 0.8950871701783214, 0.933312161532505, 0.9144895592930875, 0.962070952783027, 0.9763599701647262], 'accuracy': [0.5571142284569138, 0.7394789579158316, 0.8336673346693386, 0.8557114228456913, 0.9078156312625251, 0.9338677354709419, 0.9278557114228457, 0.969939879759519, 0.9759519038076152], 'precision': [0.6502622091117666, 0.7654483199266043, 0.8098683240909598, 0.8497381564530803, 0.9014379331232232, 0.9329483565732911, 0.9176504129107484, 0.9620626943104805, 0.978996452318739], 'recall': [0.35846502780216566, 0.6165182490906811, 0.8227455161168945, 0.8237562189054728, 0.8900037626991096, 0.9340879635436264, 0.911535808353192, 0.9621388854049083, 0.9739035912872612], 'auc_roc': [0.5195673693044314, 0.7193900887436069, 0.8642238819637701, 0.8668843962636688, 0.9177325631928035, 0.9478758261236099, 0.9351956940868159, 0.9729682801939061, 0.9790910760795161]}, 'metric_val': {'f1': [0.48140547263681593, 0.7196172248803828, 0.650020036064917, 0.8174818840579711, 0.8200753780831067, 0.7836352923847402, 0.811249182472204, 0.8121693121693122, 0.8145936981757876], 'accuracy': [0.6854838709677419, 0.7419354838709677, 0.7419354838709677, 0.8387096774193549, 0.8387096774193549, 0.8225806451612904, 0.8467741935483871, 0.8467741935483871, 0.8467741935483871], 'precision': [0.452991452991453, 0.7142857142857143, 0.7603425559947299, 0.8165217391304348, 0.8240321769733535, 0.8083845978582821, 0.8114539504441328, 0.8168474448221898, 0.8279720279720278], 'recall': [0.5200341005967605, 0.7625542970811513, 0.6162262006251776, 0.8244022246579791, 0.8426095075711443, 0.7666950838306338, 0.8132180408395242, 0.8132180408395242, 0.8353022368367636], 'auc_roc': [0.654798195079525, 0.8191543019517096, 0.7189152970371157, 0.8664278456819364, 0.8771773960659814, 0.8284555802272386, 0.8648107791069576, 0.863866056803012, 0.8812580616369755]}, 'train_loss': [0.9052925901412964, 0.6465039218664169, 0.44823505204916, 0.39826644682884216, 0.28571308106184007, 0.2218604287728667, 0.19512939660623668, 0.1279953458532691, 0.08333218313008547], 'val_loss': [0.7174066670479313, 0.673254378380314, 0.5936433129733608, 0.4804773560214427, 0.4472326195288089, 0.3922608987007651, 0.42694288512669326, 0.4105692441545187, 0.4789006309283356], 'best_metric_val': 0.8200753780831067, 'confusion_matrix': [[61, 0, 8], [1, 26, 7], [3, 0, 18]]}\n",
      "Fold: 4 | Epoch: 8 | Metric: 0.8145936981757876 | Training Loss: 0.08333218313008547 | Validation Loss: 0.4789006309283356\n",
      "\n"
     ]
    },
    {
     "data": {
      "application/vnd.jupyter.widget-view+json": {
       "model_id": "ed11ff59cacc4b24893e241ef44eb764",
       "version_major": 2,
       "version_minor": 0
      },
      "text/plain": [
       "  0%|          | 0/125 [00:00<?, ?it/s]"
      ]
     },
     "metadata": {},
     "output_type": "display_data"
    },
    {
     "data": {
      "application/vnd.jupyter.widget-view+json": {
       "model_id": "e72c968fa8e54e49b0408c680cbac7c6",
       "version_major": 2,
       "version_minor": 0
      },
      "text/plain": [
       "  0%|          | 0/31 [00:00<?, ?it/s]"
      ]
     },
     "metadata": {},
     "output_type": "display_data"
    },
    {
     "name": "stdout",
     "output_type": "stream",
     "text": [
      "{'metric_train': {'f1': [0.31452380626550297, 0.6448686982887096, 0.814842443208691, 0.833894177433438, 0.8950871701783214, 0.933312161532505, 0.9144895592930875, 0.962070952783027, 0.9763599701647262, 0.9811227476065053], 'accuracy': [0.5571142284569138, 0.7394789579158316, 0.8336673346693386, 0.8557114228456913, 0.9078156312625251, 0.9338677354709419, 0.9278557114228457, 0.969939879759519, 0.9759519038076152, 0.9839679358717435], 'precision': [0.6502622091117666, 0.7654483199266043, 0.8098683240909598, 0.8497381564530803, 0.9014379331232232, 0.9329483565732911, 0.9176504129107484, 0.9620626943104805, 0.978996452318739, 0.9811227476065053], 'recall': [0.35846502780216566, 0.6165182490906811, 0.8227455161168945, 0.8237562189054728, 0.8900037626991096, 0.9340879635436264, 0.911535808353192, 0.9621388854049083, 0.9739035912872612, 0.9811227476065053], 'auc_roc': [0.5195673693044314, 0.7193900887436069, 0.8642238819637701, 0.8668843962636688, 0.9177325631928035, 0.9478758261236099, 0.9351956940868159, 0.9729682801939061, 0.9790910760795161, 0.986103252787657]}, 'metric_val': {'f1': [0.48140547263681593, 0.7196172248803828, 0.650020036064917, 0.8174818840579711, 0.8200753780831067, 0.7836352923847402, 0.811249182472204, 0.8121693121693122, 0.8145936981757876, 0.8114539504441328], 'accuracy': [0.6854838709677419, 0.7419354838709677, 0.7419354838709677, 0.8387096774193549, 0.8387096774193549, 0.8225806451612904, 0.8467741935483871, 0.8467741935483871, 0.8467741935483871, 0.8467741935483871], 'precision': [0.452991452991453, 0.7142857142857143, 0.7603425559947299, 0.8165217391304348, 0.8240321769733535, 0.8083845978582821, 0.8114539504441328, 0.8168474448221898, 0.8279720279720278, 0.8186317907444668], 'recall': [0.5200341005967605, 0.7625542970811513, 0.6162262006251776, 0.8244022246579791, 0.8426095075711443, 0.7666950838306338, 0.8132180408395242, 0.8132180408395242, 0.8353022368367636, 0.8132180408395242], 'auc_roc': [0.654798195079525, 0.8191543019517096, 0.7189152970371157, 0.8664278456819364, 0.8771773960659814, 0.8284555802272386, 0.8648107791069576, 0.863866056803012, 0.8812580616369755, 0.8640997856775176]}, 'train_loss': [0.9052925901412964, 0.6465039218664169, 0.44823505204916, 0.39826644682884216, 0.28571308106184007, 0.2218604287728667, 0.19512939660623668, 0.1279953458532691, 0.08333218313008547, 0.06792400737479329], 'val_loss': [0.7174066670479313, 0.673254378380314, 0.5936433129733608, 0.4804773560214427, 0.4472326195288089, 0.3922608987007651, 0.42694288512669326, 0.4105692441545187, 0.4789006309283356, 0.3439459970010625], 'best_metric_val': 0.8200753780831067, 'confusion_matrix': [[63, 1, 5], [4, 26, 4], [4, 1, 16]]}\n",
      "Fold: 4 | Epoch: 9 | Metric: 0.8114539504441328 | Training Loss: 0.06792400737479329 | Validation Loss: 0.3439459970010625\n",
      "\n"
     ]
    },
    {
     "data": {
      "application/vnd.jupyter.widget-view+json": {
       "model_id": "6e13fad699ca482c9f2c8ca4d8f3b6d8",
       "version_major": 2,
       "version_minor": 0
      },
      "text/plain": [
       "  0%|          | 0/125 [00:00<?, ?it/s]"
      ]
     },
     "metadata": {},
     "output_type": "display_data"
    },
    {
     "data": {
      "application/vnd.jupyter.widget-view+json": {
       "model_id": "a8d95592fde949b8876b6e21bbfe17bb",
       "version_major": 2,
       "version_minor": 0
      },
      "text/plain": [
       "  0%|          | 0/31 [00:00<?, ?it/s]"
      ]
     },
     "metadata": {},
     "output_type": "display_data"
    },
    {
     "name": "stdout",
     "output_type": "stream",
     "text": [
      "\n",
      "New Best Score!\n",
      "{'metric_train': {'f1': [0.31452380626550297, 0.6448686982887096, 0.814842443208691, 0.833894177433438, 0.8950871701783214, 0.933312161532505, 0.9144895592930875, 0.962070952783027, 0.9763599701647262, 0.9811227476065053, 0.9671492361391039], 'accuracy': [0.5571142284569138, 0.7394789579158316, 0.8336673346693386, 0.8557114228456913, 0.9078156312625251, 0.9338677354709419, 0.9278557114228457, 0.969939879759519, 0.9759519038076152, 0.9839679358717435, 0.9719438877755511], 'precision': [0.6502622091117666, 0.7654483199266043, 0.8098683240909598, 0.8497381564530803, 0.9014379331232232, 0.9329483565732911, 0.9176504129107484, 0.9620626943104805, 0.978996452318739, 0.9811227476065053, 0.9697492338835095], 'recall': [0.35846502780216566, 0.6165182490906811, 0.8227455161168945, 0.8237562189054728, 0.8900037626991096, 0.9340879635436264, 0.911535808353192, 0.9621388854049083, 0.9739035912872612, 0.9811227476065053, 0.9646264475939631], 'auc_roc': [0.5195673693044314, 0.7193900887436069, 0.8642238819637701, 0.8668843962636688, 0.9177325631928035, 0.9478758261236099, 0.9351956940868159, 0.9729682801939061, 0.9790910760795161, 0.986103252787657, 0.9739517652568451]}, 'metric_val': {'f1': [0.48140547263681593, 0.7196172248803828, 0.650020036064917, 0.8174818840579711, 0.8200753780831067, 0.7836352923847402, 0.811249182472204, 0.8121693121693122, 0.8145936981757876, 0.8114539504441328, 0.8284057971014493], 'accuracy': [0.6854838709677419, 0.7419354838709677, 0.7419354838709677, 0.8387096774193549, 0.8387096774193549, 0.8225806451612904, 0.8467741935483871, 0.8467741935483871, 0.8467741935483871, 0.8467741935483871, 0.8548387096774194], 'precision': [0.452991452991453, 0.7142857142857143, 0.7603425559947299, 0.8165217391304348, 0.8240321769733535, 0.8083845978582821, 0.8114539504441328, 0.8168474448221898, 0.8279720279720278, 0.8186317907444668, 0.8397467932700317], 'recall': [0.5200341005967605, 0.7625542970811513, 0.6162262006251776, 0.8244022246579791, 0.8426095075711443, 0.7666950838306338, 0.8132180408395242, 0.8132180408395242, 0.8353022368367636, 0.8132180408395242, 0.8401331547111598], 'auc_roc': [0.654798195079525, 0.8191543019517096, 0.7189152970371157, 0.8664278456819364, 0.8771773960659814, 0.8284555802272386, 0.8648107791069576, 0.863866056803012, 0.8812580616369755, 0.8640997856775176, 0.8810551033926496]}, 'train_loss': [0.9052925901412964, 0.6465039218664169, 0.44823505204916, 0.39826644682884216, 0.28571308106184007, 0.2218604287728667, 0.19512939660623668, 0.1279953458532691, 0.08333218313008547, 0.06792400737479329, 0.08023463911749422], 'val_loss': [0.7174066670479313, 0.673254378380314, 0.5936433129733608, 0.4804773560214427, 0.4472326195288089, 0.3922608987007651, 0.42694288512669326, 0.4105692441545187, 0.4789006309283356, 0.3439459970010625, 0.3853769077949466], 'best_metric_val': 0.8284057971014493, 'confusion_matrix': [[62, 0, 7], [4, 26, 4], [3, 0, 18]]}\n",
      "Fold: 4 | Epoch: 10 | Metric: 0.8284057971014493 | Training Loss: 0.08023463911749422 | Validation Loss: 0.3853769077949466\n",
      "\n"
     ]
    },
    {
     "data": {
      "application/vnd.jupyter.widget-view+json": {
       "model_id": "7b6b055f05cd4b11a8028ab97f40759d",
       "version_major": 2,
       "version_minor": 0
      },
      "text/plain": [
       "  0%|          | 0/125 [00:00<?, ?it/s]"
      ]
     },
     "metadata": {},
     "output_type": "display_data"
    },
    {
     "data": {
      "application/vnd.jupyter.widget-view+json": {
       "model_id": "3fc7fddbf270489e81e10304731850ee",
       "version_major": 2,
       "version_minor": 0
      },
      "text/plain": [
       "  0%|          | 0/31 [00:00<?, ?it/s]"
      ]
     },
     "metadata": {},
     "output_type": "display_data"
    },
    {
     "name": "stdout",
     "output_type": "stream",
     "text": [
      "\n",
      "New Best Score!\n",
      "{'metric_train': {'f1': [0.31452380626550297, 0.6448686982887096, 0.814842443208691, 0.833894177433438, 0.8950871701783214, 0.933312161532505, 0.9144895592930875, 0.962070952783027, 0.9763599701647262, 0.9811227476065053, 0.9671492361391039, 0.975989919683309], 'accuracy': [0.5571142284569138, 0.7394789579158316, 0.8336673346693386, 0.8557114228456913, 0.9078156312625251, 0.9338677354709419, 0.9278557114228457, 0.969939879759519, 0.9759519038076152, 0.9839679358717435, 0.9719438877755511, 0.9779559118236473], 'precision': [0.6502622091117666, 0.7654483199266043, 0.8098683240909598, 0.8497381564530803, 0.9014379331232232, 0.9329483565732911, 0.9176504129107484, 0.9620626943104805, 0.978996452318739, 0.9811227476065053, 0.9697492338835095, 0.9830056205488731], 'recall': [0.35846502780216566, 0.6165182490906811, 0.8227455161168945, 0.8237562189054728, 0.8900037626991096, 0.9340879635436264, 0.911535808353192, 0.9621388854049083, 0.9739035912872612, 0.9811227476065053, 0.9646264475939631, 0.9697688030436056], 'auc_roc': [0.5195673693044314, 0.7193900887436069, 0.8642238819637701, 0.8668843962636688, 0.9177325631928035, 0.9478758261236099, 0.9351956940868159, 0.9729682801939061, 0.9790910760795161, 0.986103252787657, 0.9739517652568451, 0.9771758889592105]}, 'metric_val': {'f1': [0.48140547263681593, 0.7196172248803828, 0.650020036064917, 0.8174818840579711, 0.8200753780831067, 0.7836352923847402, 0.811249182472204, 0.8121693121693122, 0.8145936981757876, 0.8114539504441328, 0.8284057971014493, 0.8553953250713989], 'accuracy': [0.6854838709677419, 0.7419354838709677, 0.7419354838709677, 0.8387096774193549, 0.8387096774193549, 0.8225806451612904, 0.8467741935483871, 0.8467741935483871, 0.8467741935483871, 0.8467741935483871, 0.8548387096774194, 0.8790322580645161], 'precision': [0.452991452991453, 0.7142857142857143, 0.7603425559947299, 0.8165217391304348, 0.8240321769733535, 0.8083845978582821, 0.8114539504441328, 0.8168474448221898, 0.8279720279720278, 0.8186317907444668, 0.8397467932700317, 0.8564425770308123], 'recall': [0.5200341005967605, 0.7625542970811513, 0.6162262006251776, 0.8244022246579791, 0.8426095075711443, 0.7666950838306338, 0.8132180408395242, 0.8132180408395242, 0.8353022368367636, 0.8132180408395242, 0.8401331547111598, 0.8706410100271992], 'auc_roc': [0.654798195079525, 0.8191543019517096, 0.7189152970371157, 0.8664278456819364, 0.8771773960659814, 0.8284555802272386, 0.8648107791069576, 0.863866056803012, 0.8812580616369755, 0.8640997856775176, 0.8810551033926496, 0.903754031214116]}, 'train_loss': [0.9052925901412964, 0.6465039218664169, 0.44823505204916, 0.39826644682884216, 0.28571308106184007, 0.2218604287728667, 0.19512939660623668, 0.1279953458532691, 0.08333218313008547, 0.06792400737479329, 0.08023463911749422, 0.069057342575863], 'val_loss': [0.7174066670479313, 0.673254378380314, 0.5936433129733608, 0.4804773560214427, 0.4472326195288089, 0.3922608987007651, 0.42694288512669326, 0.4105692441545187, 0.4789006309283356, 0.3439459970010625, 0.3853769077949466, 0.344123009381996], 'best_metric_val': 0.8553953250713989, 'confusion_matrix': [[63, 1, 5], [3, 27, 4], [2, 0, 19]]}\n",
      "Fold: 4 | Epoch: 11 | Metric: 0.8553953250713989 | Training Loss: 0.069057342575863 | Validation Loss: 0.344123009381996\n",
      "\n"
     ]
    },
    {
     "data": {
      "application/vnd.jupyter.widget-view+json": {
       "model_id": "e4c4c78765ef4096876856934e19cd28",
       "version_major": 2,
       "version_minor": 0
      },
      "text/plain": [
       "  0%|          | 0/125 [00:00<?, ?it/s]"
      ]
     },
     "metadata": {},
     "output_type": "display_data"
    },
    {
     "data": {
      "application/vnd.jupyter.widget-view+json": {
       "model_id": "29f3f26afde54ffcaadc75ae774182dd",
       "version_major": 2,
       "version_minor": 0
      },
      "text/plain": [
       "  0%|          | 0/31 [00:00<?, ?it/s]"
      ]
     },
     "metadata": {},
     "output_type": "display_data"
    },
    {
     "name": "stdout",
     "output_type": "stream",
     "text": [
      "{'metric_train': {'f1': [0.31452380626550297, 0.6448686982887096, 0.814842443208691, 0.833894177433438, 0.8950871701783214, 0.933312161532505, 0.9144895592930875, 0.962070952783027, 0.9763599701647262, 0.9811227476065053, 0.9671492361391039, 0.975989919683309, 0.9911717046018845], 'accuracy': [0.5571142284569138, 0.7394789579158316, 0.8336673346693386, 0.8557114228456913, 0.9078156312625251, 0.9338677354709419, 0.9278557114228457, 0.969939879759519, 0.9759519038076152, 0.9839679358717435, 0.9719438877755511, 0.9779559118236473, 0.9919839679358717], 'precision': [0.6502622091117666, 0.7654483199266043, 0.8098683240909598, 0.8497381564530803, 0.9014379331232232, 0.9329483565732911, 0.9176504129107484, 0.9620626943104805, 0.978996452318739, 0.9811227476065053, 0.9697492338835095, 0.9830056205488731, 0.9939663385201651], 'recall': [0.35846502780216566, 0.6165182490906811, 0.8227455161168945, 0.8237562189054728, 0.8900037626991096, 0.9340879635436264, 0.911535808353192, 0.9621388854049083, 0.9739035912872612, 0.9811227476065053, 0.9646264475939631, 0.9697688030436056, 0.9884788243655671], 'auc_roc': [0.5195673693044314, 0.7193900887436069, 0.8642238819637701, 0.8668843962636688, 0.9177325631928035, 0.9478758261236099, 0.9351956940868159, 0.9729682801939061, 0.9790910760795161, 0.986103252787657, 0.9739517652568451, 0.9771758889592105, 0.9914996861553863]}, 'metric_val': {'f1': [0.48140547263681593, 0.7196172248803828, 0.650020036064917, 0.8174818840579711, 0.8200753780831067, 0.7836352923847402, 0.811249182472204, 0.8121693121693122, 0.8145936981757876, 0.8114539504441328, 0.8284057971014493, 0.8553953250713989, 0.8307276828110162], 'accuracy': [0.6854838709677419, 0.7419354838709677, 0.7419354838709677, 0.8387096774193549, 0.8387096774193549, 0.8225806451612904, 0.8467741935483871, 0.8467741935483871, 0.8467741935483871, 0.8467741935483871, 0.8548387096774194, 0.8790322580645161, 0.8548387096774194], 'precision': [0.452991452991453, 0.7142857142857143, 0.7603425559947299, 0.8165217391304348, 0.8240321769733535, 0.8083845978582821, 0.8114539504441328, 0.8168474448221898, 0.8279720279720278, 0.8186317907444668, 0.8397467932700317, 0.8564425770308123, 0.8244245736049014], 'recall': [0.5200341005967605, 0.7625542970811513, 0.6162262006251776, 0.8244022246579791, 0.8426095075711443, 0.7666950838306338, 0.8132180408395242, 0.8132180408395242, 0.8353022368367636, 0.8132180408395242, 0.8401331547111598, 0.8706410100271992, 0.8671903544026307], 'auc_roc': [0.654798195079525, 0.8191543019517096, 0.7189152970371157, 0.8664278456819364, 0.8771773960659814, 0.8284555802272386, 0.8648107791069576, 0.863866056803012, 0.8812580616369755, 0.8640997856775176, 0.8810551033926496, 0.903754031214116, 0.9009434168796521]}, 'train_loss': [0.9052925901412964, 0.6465039218664169, 0.44823505204916, 0.39826644682884216, 0.28571308106184007, 0.2218604287728667, 0.19512939660623668, 0.1279953458532691, 0.08333218313008547, 0.06792400737479329, 0.08023463911749422, 0.069057342575863, 0.06013246847130358], 'val_loss': [0.7174066670479313, 0.673254378380314, 0.5936433129733608, 0.4804773560214427, 0.4472326195288089, 0.3922608987007651, 0.42694288512669326, 0.4105692441545187, 0.4789006309283356, 0.3439459970010625, 0.3853769077949466, 0.344123009381996, 0.38573078428875773], 'best_metric_val': 0.8553953250713989, 'confusion_matrix': [[59, 3, 7], [1, 27, 6], [1, 0, 20]]}\n",
      "Fold: 4 | Epoch: 12 | Metric: 0.8307276828110162 | Training Loss: 0.06013246847130358 | Validation Loss: 0.38573078428875773\n",
      "\n"
     ]
    },
    {
     "data": {
      "application/vnd.jupyter.widget-view+json": {
       "model_id": "9c6966aef9b4432db1f5d70e8118d909",
       "version_major": 2,
       "version_minor": 0
      },
      "text/plain": [
       "  0%|          | 0/125 [00:00<?, ?it/s]"
      ]
     },
     "metadata": {},
     "output_type": "display_data"
    },
    {
     "data": {
      "application/vnd.jupyter.widget-view+json": {
       "model_id": "591330512957430196ce47c204b771ca",
       "version_major": 2,
       "version_minor": 0
      },
      "text/plain": [
       "  0%|          | 0/31 [00:00<?, ?it/s]"
      ]
     },
     "metadata": {},
     "output_type": "display_data"
    },
    {
     "name": "stdout",
     "output_type": "stream",
     "text": [
      "{'metric_train': {'f1': [0.31452380626550297, 0.6448686982887096, 0.814842443208691, 0.833894177433438, 0.8950871701783214, 0.933312161532505, 0.9144895592930875, 0.962070952783027, 0.9763599701647262, 0.9811227476065053, 0.9671492361391039, 0.975989919683309, 0.9911717046018845, 0.9919046181147415], 'accuracy': [0.5571142284569138, 0.7394789579158316, 0.8336673346693386, 0.8557114228456913, 0.9078156312625251, 0.9338677354709419, 0.9278557114228457, 0.969939879759519, 0.9759519038076152, 0.9839679358717435, 0.9719438877755511, 0.9779559118236473, 0.9919839679358717, 0.9919839679358717], 'precision': [0.6502622091117666, 0.7654483199266043, 0.8098683240909598, 0.8497381564530803, 0.9014379331232232, 0.9329483565732911, 0.9176504129107484, 0.9620626943104805, 0.978996452318739, 0.9811227476065053, 0.9697492338835095, 0.9830056205488731, 0.9939663385201651, 0.9925779317169718], 'recall': [0.35846502780216566, 0.6165182490906811, 0.8227455161168945, 0.8237562189054728, 0.8900037626991096, 0.9340879635436264, 0.911535808353192, 0.9621388854049083, 0.9739035912872612, 0.9811227476065053, 0.9646264475939631, 0.9697688030436056, 0.9884788243655671, 0.9913468372423596], 'auc_roc': [0.5195673693044314, 0.7193900887436069, 0.8642238819637701, 0.8668843962636688, 0.9177325631928035, 0.9478758261236099, 0.9351956940868159, 0.9729682801939061, 0.9790910760795161, 0.986103252787657, 0.9739517652568451, 0.9771758889592105, 0.9914996861553863, 0.9929877371088157]}, 'metric_val': {'f1': [0.48140547263681593, 0.7196172248803828, 0.650020036064917, 0.8174818840579711, 0.8200753780831067, 0.7836352923847402, 0.811249182472204, 0.8121693121693122, 0.8145936981757876, 0.8114539504441328, 0.8284057971014493, 0.8553953250713989, 0.8307276828110162, 0.8446704067321177], 'accuracy': [0.6854838709677419, 0.7419354838709677, 0.7419354838709677, 0.8387096774193549, 0.8387096774193549, 0.8225806451612904, 0.8467741935483871, 0.8467741935483871, 0.8467741935483871, 0.8467741935483871, 0.8548387096774194, 0.8790322580645161, 0.8548387096774194, 0.8709677419354839], 'precision': [0.452991452991453, 0.7142857142857143, 0.7603425559947299, 0.8165217391304348, 0.8240321769733535, 0.8083845978582821, 0.8114539504441328, 0.8168474448221898, 0.8279720279720278, 0.8186317907444668, 0.8397467932700317, 0.8564425770308123, 0.8244245736049014, 0.8479986197377501], 'recall': [0.5200341005967605, 0.7625542970811513, 0.6162262006251776, 0.8244022246579791, 0.8426095075711443, 0.7666950838306338, 0.8132180408395242, 0.8132180408395242, 0.8353022368367636, 0.8132180408395242, 0.8401331547111598, 0.8706410100271992, 0.8671903544026307, 0.8547679941541834], 'auc_roc': [0.654798195079525, 0.8191543019517096, 0.7189152970371157, 0.8664278456819364, 0.8771773960659814, 0.8284555802272386, 0.8648107791069576, 0.863866056803012, 0.8812580616369755, 0.8640997856775176, 0.8810551033926496, 0.903754031214116, 0.9009434168796521, 0.8927872202473052]}, 'train_loss': [0.9052925901412964, 0.6465039218664169, 0.44823505204916, 0.39826644682884216, 0.28571308106184007, 0.2218604287728667, 0.19512939660623668, 0.1279953458532691, 0.08333218313008547, 0.06792400737479329, 0.08023463911749422, 0.069057342575863, 0.06013246847130358, 0.05438346269726753], 'val_loss': [0.7174066670479313, 0.673254378380314, 0.5936433129733608, 0.4804773560214427, 0.4472326195288089, 0.3922608987007651, 0.42694288512669326, 0.4105692441545187, 0.4789006309283356, 0.3439459970010625, 0.3853769077949466, 0.344123009381996, 0.38573078428875773, 0.36691621727039736], 'best_metric_val': 0.8553953250713989, 'confusion_matrix': [[63, 1, 5], [3, 27, 4], [3, 0, 18]]}\n",
      "Fold: 4 | Epoch: 13 | Metric: 0.8446704067321177 | Training Loss: 0.05438346269726753 | Validation Loss: 0.36691621727039736\n",
      "\n"
     ]
    },
    {
     "data": {
      "application/vnd.jupyter.widget-view+json": {
       "model_id": "621a68e947804d5e8fe700ffb34b2c59",
       "version_major": 2,
       "version_minor": 0
      },
      "text/plain": [
       "  0%|          | 0/125 [00:00<?, ?it/s]"
      ]
     },
     "metadata": {},
     "output_type": "display_data"
    },
    {
     "data": {
      "application/vnd.jupyter.widget-view+json": {
       "model_id": "b56315136e784fbba71fc7a6782f1ded",
       "version_major": 2,
       "version_minor": 0
      },
      "text/plain": [
       "  0%|          | 0/31 [00:00<?, ?it/s]"
      ]
     },
     "metadata": {},
     "output_type": "display_data"
    },
    {
     "name": "stdout",
     "output_type": "stream",
     "text": [
      "{'metric_train': {'f1': [0.31452380626550297, 0.6448686982887096, 0.814842443208691, 0.833894177433438, 0.8950871701783214, 0.933312161532505, 0.9144895592930875, 0.962070952783027, 0.9763599701647262, 0.9811227476065053, 0.9671492361391039, 0.975989919683309, 0.9911717046018845, 0.9919046181147415, 0.9937575200288782], 'accuracy': [0.5571142284569138, 0.7394789579158316, 0.8336673346693386, 0.8557114228456913, 0.9078156312625251, 0.9338677354709419, 0.9278557114228457, 0.969939879759519, 0.9759519038076152, 0.9839679358717435, 0.9719438877755511, 0.9779559118236473, 0.9919839679358717, 0.9919839679358717, 0.9939879759519038], 'precision': [0.6502622091117666, 0.7654483199266043, 0.8098683240909598, 0.8497381564530803, 0.9014379331232232, 0.9329483565732911, 0.9176504129107484, 0.9620626943104805, 0.978996452318739, 0.9811227476065053, 0.9697492338835095, 0.9830056205488731, 0.9939663385201651, 0.9925779317169718, 0.9951399585701387], 'recall': [0.35846502780216566, 0.6165182490906811, 0.8227455161168945, 0.8237562189054728, 0.8900037626991096, 0.9340879635436264, 0.911535808353192, 0.9621388854049083, 0.9739035912872612, 0.9811227476065053, 0.9646264475939631, 0.9697688030436056, 0.9884788243655671, 0.9913468372423596, 0.9924003929930181], 'auc_roc': [0.5195673693044314, 0.7193900887436069, 0.8642238819637701, 0.8668843962636688, 0.9177325631928035, 0.9478758261236099, 0.9351956940868159, 0.9729682801939061, 0.9790910760795161, 0.986103252787657, 0.9739517652568451, 0.9771758889592105, 0.9914996861553863, 0.9929877371088157, 0.9942215054767222]}, 'metric_val': {'f1': [0.48140547263681593, 0.7196172248803828, 0.650020036064917, 0.8174818840579711, 0.8200753780831067, 0.7836352923847402, 0.811249182472204, 0.8121693121693122, 0.8145936981757876, 0.8114539504441328, 0.8284057971014493, 0.8553953250713989, 0.8307276828110162, 0.8446704067321177, 0.8400735294117648], 'accuracy': [0.6854838709677419, 0.7419354838709677, 0.7419354838709677, 0.8387096774193549, 0.8387096774193549, 0.8225806451612904, 0.8467741935483871, 0.8467741935483871, 0.8467741935483871, 0.8467741935483871, 0.8548387096774194, 0.8790322580645161, 0.8548387096774194, 0.8709677419354839, 0.8709677419354839], 'precision': [0.452991452991453, 0.7142857142857143, 0.7603425559947299, 0.8165217391304348, 0.8240321769733535, 0.8083845978582821, 0.8114539504441328, 0.8168474448221898, 0.8279720279720278, 0.8186317907444668, 0.8397467932700317, 0.8564425770308123, 0.8244245736049014, 0.8479986197377501, 0.8356550580431178], 'recall': [0.5200341005967605, 0.7625542970811513, 0.6162262006251776, 0.8244022246579791, 0.8426095075711443, 0.7666950838306338, 0.8132180408395242, 0.8132180408395242, 0.8353022368367636, 0.8132180408395242, 0.8401331547111598, 0.8706410100271992, 0.8671903544026307, 0.8547679941541834, 0.8547679941541834], 'auc_roc': [0.654798195079525, 0.8191543019517096, 0.7189152970371157, 0.8664278456819364, 0.8771773960659814, 0.8284555802272386, 0.8648107791069576, 0.863866056803012, 0.8812580616369755, 0.8640997856775176, 0.8810551033926496, 0.903754031214116, 0.9009434168796521, 0.8927872202473052, 0.8951441226042075]}, 'train_loss': [0.9052925901412964, 0.6465039218664169, 0.44823505204916, 0.39826644682884216, 0.28571308106184007, 0.2218604287728667, 0.19512939660623668, 0.1279953458532691, 0.08333218313008547, 0.06792400737479329, 0.08023463911749422, 0.069057342575863, 0.06013246847130358, 0.05438346269726753, 0.03932590336818248], 'val_loss': [0.7174066670479313, 0.673254378380314, 0.5936433129733608, 0.4804773560214427, 0.4472326195288089, 0.3922608987007651, 0.42694288512669326, 0.4105692441545187, 0.4789006309283356, 0.3439459970010625, 0.3853769077949466, 0.344123009381996, 0.38573078428875773, 0.36691621727039736, 0.3395637754320858], 'best_metric_val': 0.8553953250713989, 'confusion_matrix': [[63, 1, 5], [3, 27, 4], [1, 2, 18]]}\n",
      "Fold: 4 | Epoch: 14 | Metric: 0.8400735294117648 | Training Loss: 0.03932590336818248 | Validation Loss: 0.3395637754320858\n",
      "\n",
      "Training finished, took 3951.02s\n"
     ]
    }
   ],
   "source": [
    "all_eval_scores = []\n",
    "\n",
    "!rm -rf first_model\n",
    "!mkdir first_model\n",
    "\n",
    "skf = StratifiedKFold(n_splits=k_splits, shuffle=True)\n",
    "\n",
    "training_start_time = time.time()\n",
    "\n",
    "for fold, (train_idx, val_idx) in enumerate(tqdm(skf.split(dataset, y))):\n",
    "    \n",
    "    # display fold number\n",
    "    print(f\"\\nFold: {fold+1} / {k_splits}\")\n",
    "\n",
    "    # load model\n",
    "    model = timm.create_model(model_name=model_name, pretrained=True, num_classes=num_classes).to(device)\n",
    "\n",
    "    # optimizer and sceduler\n",
    "    optimizer = timm.optim.create_optimizer_v2(model, opt=\"AdamW\", lr=1e-3)\n",
    "    scheduler = timm.scheduler.create_scheduler_v2(optimizer, num_epochs=num_epochs)[0]\n",
    "\n",
    "    # split main dataset into train and val set with kfold\n",
    "    train_dataset = Subset(dataset, train_idx)\n",
    "    val_dataset = Subset(dataset, val_idx)\n",
    "\n",
    "    # dataloaders\n",
    "    train_dataloader = DataLoader(train_dataset, batch_size=train_batch_size, shuffle=True)\n",
    "    val_dataloader = DataLoader(val_dataset, batch_size=eval_batch_size, shuffle=True)\n",
    "    # Reset Model Info\n",
    "    info = {\n",
    "        \"metric_train\": {\"f1\": [], \"accuracy\": [], \"precision\": [], \"recall\": [], \"auc_roc\": []},\n",
    "        \"metric_val\": {\"f1\": [], \"accuracy\": [], \"precision\": [], \"recall\": [], \"auc_roc\": []},\n",
    "        \"train_loss\": [],\n",
    "        \"val_loss\": [],\n",
    "        \"best_metric_val\": -np.inf,\n",
    "        \"confusion_matrix\": None,\n",
    "    }\n",
    "    count = 0\n",
    "\n",
    "    # Create a LabelBinarizer object to convert labels to binary class matrix\n",
    "    lb = LabelBinarizer()\n",
    "\n",
    "    for epoch in range(num_epochs):\n",
    "        train_loss_epoch = []\n",
    "        val_loss_epoch = []\n",
    "    \n",
    "        train_preds = []\n",
    "        train_targets = []\n",
    "    \n",
    "        val_preds = []\n",
    "        val_targets = []\n",
    "    \n",
    "        num_updates = epoch * len(train_dataloader)\n",
    "\n",
    "\n",
    "        # Training loop\n",
    "        model.train()\n",
    "        for idx, (X, y) in enumerate(tqdm(train_dataloader)):\n",
    "            X, y = X.to(device), y.to(device)\n",
    "            logits = model(X)\n",
    "            loss = criterion(logits, y)\n",
    "\n",
    "            loss.backward()\n",
    "\n",
    "            if ((idx + 1) % num_accumulate == 0) or (idx + 1 == len(train_dataloader)):\n",
    "                optimizer.step()\n",
    "                scheduler.step_update(num_updates=num_updates)\n",
    "                optimizer.zero_grad()\n",
    "            \n",
    "            train_loss_epoch.append(loss.item())\n",
    "            train_preds += logits.argmax(-1).detach().tolist()\n",
    "            train_targets += y.tolist()\n",
    "        \n",
    "        optimizer.step()\n",
    "        scheduler.step(epoch + 1)\n",
    "\n",
    "        # Evaluation loop\n",
    "\n",
    "        model.eval()\n",
    "        with torch.no_grad():\n",
    "            for (X, y) in tqdm(val_dataloader):\n",
    "                X, y = X.to(device), y.to(device)\n",
    "                logits = model(X)\n",
    "                loss = criterion(logits, y)\n",
    "\n",
    "                val_loss_epoch.append(loss.item())\n",
    "                val_preds += logits.argmax(-1).detach().tolist()\n",
    "                val_targets += y.tolist()\n",
    "\n",
    "\n",
    "        # Convert labels to binary class matrix\n",
    "        train_targets_bin = lb.fit_transform(train_targets)\n",
    "        train_preds_bin = lb.transform(train_preds)\n",
    "\n",
    "        # Convert labels to binary class matrix\n",
    "        val_targets_bin = lb.fit_transform(val_targets)\n",
    "        val_preds_bin = lb.transform(val_preds)\n",
    "                \n",
    "        # Compute evaluation metrics\n",
    "        metric_train = metric.compute(predictions=train_preds, references=train_targets, average=\"macro\")\n",
    "        metric_val = metric.compute(predictions=val_preds, references=val_targets, average=\"macro\")\n",
    "\n",
    "        # Calculate metrics for the training set\n",
    "        precision_train, recall_train, f1_train, support_train = precision_recall_fscore_support(train_targets, train_preds, average='macro')\n",
    "        acc_train = np.sum(np.array(train_preds) == np.array(train_targets)) / len(train_preds)\n",
    "\n",
    "        # Calculate metrics for the validation set\n",
    "        precision_val, recall_val, f1_val, support_val = precision_recall_fscore_support(val_targets, val_preds, average='macro')\n",
    "        acc_val = np.sum(np.array(val_preds) == np.array(val_targets)) / len(val_preds)\n",
    "\n",
    "        info[\"metric_train\"][\"f1\"].append(f1_train)\n",
    "        info[\"metric_train\"][\"precision\"].append(precision_train)\n",
    "        info[\"metric_train\"][\"recall\"].append(recall_train)\n",
    "        info[\"metric_train\"][\"auc_roc\"].append(roc_auc_score(train_targets_bin, train_preds_bin, multi_class='ovo'))\n",
    "        info[\"metric_train\"][\"accuracy\"].append(acc_train)\n",
    "\n",
    "        info[\"metric_val\"][\"f1\"].append(f1_val)\n",
    "        info[\"metric_val\"][\"precision\"].append(precision_val)\n",
    "        info[\"metric_val\"][\"recall\"].append(recall_val)\n",
    "        info[\"metric_val\"][\"auc_roc\"].append(roc_auc_score(val_targets_bin, val_preds_bin, multi_class='ovo'))\n",
    "        info[\"metric_val\"][\"accuracy\"].append(acc_val)\n",
    "        \n",
    "        info[\"train_loss\"].append(np.average(train_loss_epoch))\n",
    "        info[\"val_loss\"].append(np.average(val_loss_epoch))\n",
    "\n",
    "        cm = confusion_matrix(val_targets, val_preds)\n",
    "        info[\"confusion_matrix\"] = cm.tolist()\n",
    "\n",
    "        if metric_val[\"f1\"] > info[\"best_metric_val\"]:\n",
    "            print(\"\\nNew Best Score!\")\n",
    "            info[\"best_metric_val\"] = metric_val[\"f1\"]\n",
    "            torch.save(model, f\"first_model/checkpoint_fold{fold}.pt\")\n",
    "            count = 0\n",
    "        else:\n",
    "            count += 1\n",
    "            \n",
    "        print(info)\n",
    "        print(f\"Fold: {fold} | Epoch: {epoch} | Metric: {metric_val['f1']} | Training Loss: {np.average(train_loss_epoch)} | Validation Loss: {np.average(val_loss_epoch)}\\n\")\n",
    "\n",
    "    # save all best metric val\n",
    "    all_eval_scores.append(info[\"best_metric_val\"])\n",
    "\n",
    "print('Training finished, took {:.2f}s'.format(time.time() - training_start_time))\n"
   ]
  },
  {
   "cell_type": "code",
   "execution_count": 12,
   "metadata": {},
   "outputs": [
    {
     "data": {
      "text/plain": [
       "[0.907018907018907,\n",
       " 0.8578948903182635,\n",
       " 0.8180265311560276,\n",
       " 0.8474033026330418,\n",
       " 0.8553953250713989]"
      ]
     },
     "execution_count": 12,
     "metadata": {},
     "output_type": "execute_result"
    }
   ],
   "source": [
    "all_eval_scores"
   ]
  },
  {
   "cell_type": "code",
   "execution_count": 13,
   "metadata": {},
   "outputs": [
    {
     "data": {
      "text/plain": [
       "['benign', 'malignant', 'normal']"
      ]
     },
     "execution_count": 13,
     "metadata": {},
     "output_type": "execute_result"
    }
   ],
   "source": [
    "## get the labels \n",
    "\n",
    "id2label = natsorted(os.listdir(f'./{data_dir}/Test'))\n",
    "if '.DS_Store' in id2label:\n",
    "    id2label.remove('.DS_Store')\n",
    "id2label"
   ]
  },
  {
   "cell_type": "code",
   "execution_count": 14,
   "metadata": {},
   "outputs": [
    {
     "data": {
      "text/plain": [
       "(['././Dataset_BUSI_with_GT/Test/benign/benign (4).png',\n",
       "  '././Dataset_BUSI_with_GT/Test/benign/benign (5).png',\n",
       "  '././Dataset_BUSI_with_GT/Test/benign/benign (10).png',\n",
       "  '././Dataset_BUSI_with_GT/Test/benign/benign (11).png',\n",
       "  '././Dataset_BUSI_with_GT/Test/benign/benign (26).png'],\n",
       " ['benign', 'benign', 'benign', 'benign', 'benign'])"
      ]
     },
     "execution_count": 14,
     "metadata": {},
     "output_type": "execute_result"
    }
   ],
   "source": [
    "## Load the test data \n",
    "\n",
    "test_paths = natsorted(glob(f\"./{data_dir}/Test/**/**\"))\n",
    "test_y = [os.path.basename(os.path.dirname(path)) for path in test_paths]\n",
    "\n",
    "test_paths[:5], test_y[:5]"
   ]
  },
  {
   "cell_type": "code",
   "execution_count": 15,
   "metadata": {},
   "outputs": [],
   "source": [
    "## convert literal classes in y_test to numeric labels\n",
    "\n",
    "label_map = dict(zip(id2label, [0, 1, 2, 3]))\n",
    "\n",
    "lables = list(map(lambda x: label_map[x], test_y))"
   ]
  },
  {
   "cell_type": "code",
   "execution_count": 16,
   "metadata": {},
   "outputs": [
    {
     "data": {
      "application/vnd.jupyter.widget-view+json": {
       "model_id": "82637532c841497d8b94fddb04cdc7e7",
       "version_major": 2,
       "version_minor": 0
      },
      "text/plain": [
       "  0%|          | 0/5 [00:00<?, ?it/s]"
      ]
     },
     "metadata": {},
     "output_type": "display_data"
    },
    {
     "data": {
      "application/vnd.jupyter.widget-view+json": {
       "model_id": "589193b52da84f9a9a8e4c18e9b48d33",
       "version_major": 2,
       "version_minor": 0
      },
      "text/plain": [
       "  0%|          | 0/157 [00:00<?, ?it/s]"
      ]
     },
     "metadata": {},
     "output_type": "display_data"
    },
    {
     "data": {
      "application/vnd.jupyter.widget-view+json": {
       "model_id": "7677891675d54e71874591e80a5321c3",
       "version_major": 2,
       "version_minor": 0
      },
      "text/plain": [
       "  0%|          | 0/157 [00:00<?, ?it/s]"
      ]
     },
     "metadata": {},
     "output_type": "display_data"
    },
    {
     "data": {
      "application/vnd.jupyter.widget-view+json": {
       "model_id": "2e268c11218941ff962a981a3ee02cce",
       "version_major": 2,
       "version_minor": 0
      },
      "text/plain": [
       "  0%|          | 0/157 [00:00<?, ?it/s]"
      ]
     },
     "metadata": {},
     "output_type": "display_data"
    },
    {
     "data": {
      "application/vnd.jupyter.widget-view+json": {
       "model_id": "9c91874fde97407cb7c1b8111d22aa87",
       "version_major": 2,
       "version_minor": 0
      },
      "text/plain": [
       "  0%|          | 0/157 [00:00<?, ?it/s]"
      ]
     },
     "metadata": {},
     "output_type": "display_data"
    },
    {
     "data": {
      "application/vnd.jupyter.widget-view+json": {
       "model_id": "43b167f0bf7543ee84c8b2c2c62cf3dd",
       "version_major": 2,
       "version_minor": 0
      },
      "text/plain": [
       "  0%|          | 0/157 [00:00<?, ?it/s]"
      ]
     },
     "metadata": {},
     "output_type": "display_data"
    }
   ],
   "source": [
    "#for ensemble method\n",
    "pred_all = []\n",
    "\n",
    "for fold in trange(5):\n",
    "\n",
    "    #load model\n",
    "    model = torch.load(f\"./first_model/checkpoint_fold{fold}.pt\")\n",
    "    model.eval()\n",
    "\n",
    "    pred = []\n",
    "    with torch.no_grad():\n",
    "        for f in tqdm(test_paths):\n",
    "\n",
    "            #image\n",
    "            img = Image.open(f).convert(\"RGB\")\n",
    "            transformed = transform[\"test\"](img).unsqueeze(0).to(device)\n",
    "\n",
    "            #cls\n",
    "            cls = model(transformed).argmax(-1).item()\n",
    "            #cls = id2label[cls]\n",
    "\n",
    "            pred.append(cls)\n",
    "\n",
    "    #for ensemble method\n",
    "    pred_all.append(pred)"
   ]
  },
  {
   "cell_type": "code",
   "execution_count": 17,
   "metadata": {},
   "outputs": [
    {
     "data": {
      "application/vnd.jupyter.widget-view+json": {
       "model_id": "917a86c0dc7840d8917b88e4011f7704",
       "version_major": 2,
       "version_minor": 0
      },
      "text/plain": [
       "  0%|          | 0/157 [00:00<?, ?it/s]"
      ]
     },
     "metadata": {},
     "output_type": "display_data"
    }
   ],
   "source": [
    "#ensemble_value\n",
    "sub_ensemble = []\n",
    "\n",
    "#num of fold\n",
    "kfold = 5 #kfold\n",
    "\n",
    "#ensemble\n",
    "for i in trange(len(pred_all[0])):\n",
    "    check = []\n",
    "    \n",
    "    #loop every fold\n",
    "    for j in range(kfold):\n",
    "        check.append(pred_all[j][i])\n",
    "  \n",
    "    #find mode of 10 answers\n",
    "    cls = stats.mode(check).mode\n",
    "    sub_ensemble.append(cls)"
   ]
  },
  {
   "cell_type": "code",
   "execution_count": 18,
   "metadata": {},
   "outputs": [
    {
     "name": "stdout",
     "output_type": "stream",
     "text": [
      "accuracy 0.8662420382165605\n",
      "0.8580442916371727\n"
     ]
    }
   ],
   "source": [
    "acc = accuracy_score(lables, sub_ensemble)\n",
    "precision_test, recall_test, f1_test, support_test = precision_recall_fscore_support(lables, sub_ensemble, average='macro')\n",
    "print(f'accuracy {acc}')\n",
    "print(f1_test)"
   ]
  }
 ],
 "metadata": {
  "kernelspec": {
   "display_name": "Python 3",
   "language": "python",
   "name": "python3"
  },
  "language_info": {
   "codemirror_mode": {
    "name": "ipython",
    "version": 3
   },
   "file_extension": ".py",
   "mimetype": "text/x-python",
   "name": "python",
   "nbconvert_exporter": "python",
   "pygments_lexer": "ipython3",
   "version": "3.11.4"
  },
  "orig_nbformat": 4
 },
 "nbformat": 4,
 "nbformat_minor": 2
}
